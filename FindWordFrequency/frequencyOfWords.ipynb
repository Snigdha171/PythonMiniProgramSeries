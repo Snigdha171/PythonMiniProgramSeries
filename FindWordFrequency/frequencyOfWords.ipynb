{
 "cells": [
  {
   "cell_type": "markdown",
   "metadata": {},
   "source": [
    "# Mini Program - wordFrequency using Python\n",
    "## Objective - \n",
    "### This program reads the content in a txt file and finds the number of times a word appear in the text. It displays 3 most commonly used words"
   ]
  },
  {
   "cell_type": "markdown",
   "metadata": {},
   "source": [
    "### Step 1 - Import required libraries\n",
    "#### Libraries are the modules that are available in Python to help programmer perform specific operations.\n",
    "#### In this program, we are making use 2 libraries\n",
    "#### 1. Counter - This module from collections module is used to counter the number of times an element appears in the list\n",
    "#### 2. stopwords - This module from nltk package is used to remove the most common words like 'a','an','the' from the list of words"
   ]
  },
  {
   "cell_type": "code",
   "execution_count": 17,
   "metadata": {
    "collapsed": false
   },
   "outputs": [
    {
     "name": "stdout",
     "output_type": "stream",
     "text": [
      "[nltk_data] Downloading package stopwords to C:\\Users\\Prachi\n",
      "[nltk_data]     Prakash\\AppData\\Roaming\\nltk_data...\n",
      "[nltk_data]   Package stopwords is already up-to-date!\n"
     ]
    },
    {
     "data": {
      "text/plain": [
       "True"
      ]
     },
     "execution_count": 17,
     "metadata": {},
     "output_type": "execute_result"
    }
   ],
   "source": [
    "#Import libraries\n",
    "from collections import Counter\n",
    "from nltk.corpus import stopwords\n",
    "import nltk\n",
    "import string\n",
    "nltk.download('stopwords')"
   ]
  },
  {
   "cell_type": "markdown",
   "metadata": {},
   "source": [
    "### Step 2 - Open and read the file containing the text\n",
    "#### We have stored the text in a file names 'paragraph.txt'. \n",
    "#### In Line 1 - We open the file paragraph.txt file\n",
    "#### In Line 2 - We read the content of the file using read() function\n",
    "#### In Line 3 - We print the content of the file"
   ]
  },
  {
   "cell_type": "code",
   "execution_count": 18,
   "metadata": {
    "collapsed": false
   },
   "outputs": [
    {
     "data": {
      "text/plain": [
       "'Python is exciting. We can use it for automating our usual stuffs. Python is easy to learn and understand. You need to pratice to get a hold of it. Automation is the future. Continue to learn this exciting language to enhance your knowledge. Follow us to learn more about python automation.'"
      ]
     },
     "execution_count": 18,
     "metadata": {},
     "output_type": "execute_result"
    }
   ],
   "source": [
    "#Reading the text file\n",
    "file_read = open(\"paragraph.txt\")\n",
    "file_data = file_read.read()\n",
    "file_data"
   ]
  },
  {
   "cell_type": "markdown",
   "metadata": {},
   "source": [
    "### Step 3 - Creating a list of words\n",
    "#### List are easier to handle and perform data transformation\n",
    "#### In Line 1 - We are removing the punctuations used in the text.\n",
    "#### In Line 2 - We are using split() function to convert the series of string into a list. Here space between the words is used as a separator"
   ]
  },
  {
   "cell_type": "code",
   "execution_count": 19,
   "metadata": {
    "collapsed": true
   },
   "outputs": [],
   "source": [
    "#Remout = file_data.translate(str.maketrans('', '', string.punctuation))oving the punctuation\n",
    "file_data_out = file_data.translate(str.maketrans('', '', string.punctuation))\n",
    "\n",
    "#Converting the paragraph into list of words\n",
    "word_list = file_data_out.split()"
   ]
  },
  {
   "cell_type": "markdown",
   "metadata": {},
   "source": [
    "### Step 4 - Remove the stop words\n",
    "#### Stop words are the most commonly used words in englosh language which of not much help here as we are only counting the number of times an element is repeated\n",
    "#### In Line 1 - We are getting the list of stop words\n",
    "#### In Line 2 - We are excluding all the words that are in stopwords list"
   ]
  },
  {
   "cell_type": "code",
   "execution_count": 20,
   "metadata": {
    "collapsed": true
   },
   "outputs": [],
   "source": [
    "#Removing stop words\n",
    "stop_words = stopwords.words('english')\n",
    "word_list_no_stopwords = [word.lower() for word in word_list if word not in stop_words] #This form if coding, where are writing the for loop and if block in a single line is called list comprehension"
   ]
  },
  {
   "cell_type": "markdown",
   "metadata": {},
   "source": [
    "### Step 5 - Find the number of occurrences of words in the list\n",
    "#### In Line 1 - We are using Counter function to count the number of words in the list"
   ]
  },
  {
   "cell_type": "code",
   "execution_count": 21,
   "metadata": {
    "collapsed": true,
    "scrolled": true
   },
   "outputs": [],
   "source": [
    "#Finding the count of words in the list\n",
    "word_count = Counter(word_list_no_stopwords)"
   ]
  },
  {
   "cell_type": "markdown",
   "metadata": {},
   "source": [
    "### Step 6 - Find the 3 most commonly used words\n",
    "#### In Line 1 - We use most_common() funtion from nltk package to get the 3 most commonly used words\n",
    "#### In Line 2 - We print the result\n",
    "#### We see that the result is a list of tuples. Tuples are immutable python objects"
   ]
  },
  {
   "cell_type": "code",
   "execution_count": 22,
   "metadata": {
    "collapsed": false
   },
   "outputs": [
    {
     "name": "stdout",
     "output_type": "stream",
     "text": [
      "[('learn', 3), ('python', 3), ('exciting', 2)]\n"
     ]
    }
   ],
   "source": [
    "#Getting top 3 most commonly used words in the text\n",
    "common_words = word_count.most_common(3)\n",
    "print(common_words)"
   ]
  },
  {
   "cell_type": "code",
   "execution_count": null,
   "metadata": {
    "collapsed": true
   },
   "outputs": [],
   "source": []
  }
 ],
 "metadata": {
  "anaconda-cloud": {},
  "kernelspec": {
   "display_name": "Python [default]",
   "language": "python",
   "name": "python3"
  },
  "language_info": {
   "codemirror_mode": {
    "name": "ipython",
    "version": 3
   },
   "file_extension": ".py",
   "mimetype": "text/x-python",
   "name": "python",
   "nbconvert_exporter": "python",
   "pygments_lexer": "ipython3",
   "version": "3.5.6"
  }
 },
 "nbformat": 4,
 "nbformat_minor": 2
}
