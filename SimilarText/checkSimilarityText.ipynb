{
 "cells": [
  {
   "cell_type": "code",
   "execution_count": 9,
   "metadata": {},
   "outputs": [],
   "source": [
    "#importing the required modules\n",
    "\n",
    "from nltk.corpus import stopwords\n",
    "from nltk.tokenize import word_tokenize"
   ]
  },
  {
   "cell_type": "code",
   "execution_count": 10,
   "metadata": {},
   "outputs": [
    {
     "name": "stdout",
     "output_type": "stream",
     "text": [
      "This is Python Python is cool\n",
      "How cool is Python\n"
     ]
    }
   ],
   "source": [
    "#Declaring the strings to be compared and cleaning it before comaprision\n",
    "str1 = \"This is Python.Python is cool\"\n",
    "str2 = \"How cool is Python\"\n",
    "\n",
    "str1 = str1.replace(\".\", \" \")\n",
    "print(str1)\n",
    "print(str2)"
   ]
  },
  {
   "cell_type": "code",
   "execution_count": 11,
   "metadata": {},
   "outputs": [],
   "source": [
    "#Converting the sentences into list of words\n",
    "\n",
    "str1_list = word_tokenize(str1)\n",
    "str2_list = word_tokenize(str2)"
   ]
  },
  {
   "cell_type": "code",
   "execution_count": 12,
   "metadata": {},
   "outputs": [
    {
     "name": "stdout",
     "output_type": "stream",
     "text": [
      "['This', 'is', 'Python', 'Python', 'is', 'cool']\n",
      "['How', 'cool', 'is', 'Python']\n"
     ]
    }
   ],
   "source": [
    "print(str1_list); print(str2_list)"
   ]
  },
  {
   "cell_type": "code",
   "execution_count": 14,
   "metadata": {},
   "outputs": [
    {
     "name": "stdout",
     "output_type": "stream",
     "text": [
      "{'Python', 'cool', 'This'}\n",
      "{'Python', 'How', 'cool'}\n"
     ]
    }
   ],
   "source": [
    "#Using list comprehension to remove the stop words\n",
    "\n",
    "sw = stopwords.words('english')\n",
    "str1_set = {word for word in str1_list if not word in sw}\n",
    "str2_set = {word for word in str2_list if not word in sw}\n",
    "\n",
    "print(str1_set); print(str2_set)"
   ]
  },
  {
   "cell_type": "code",
   "execution_count": 15,
   "metadata": {},
   "outputs": [],
   "source": [
    "#Using set operation to get the list of all words in both the sets\n",
    "\n",
    "all_values = str1_set.union(str2_set)"
   ]
  },
  {
   "cell_type": "code",
   "execution_count": 16,
   "metadata": {},
   "outputs": [
    {
     "name": "stdout",
     "output_type": "stream",
     "text": [
      "{'How', 'Python', 'This', 'cool'}\n"
     ]
    }
   ],
   "source": [
    "print(all_values)"
   ]
  },
  {
   "cell_type": "code",
   "execution_count": 17,
   "metadata": {},
   "outputs": [],
   "source": [
    "#Checking the presence of all words in the sets\n",
    "\n",
    "str1_vector = []\n",
    "str2_vector = []\n",
    "for value in all_values:\n",
    "    if value in str1_set:\n",
    "        str1_vector.append(1)\n",
    "    else:\n",
    "        str1_vector.append(0)\n",
    "    if value in str2_set:\n",
    "        str2_vector.append(1)\n",
    "    else:\n",
    "        str2_vector.append(0)"
   ]
  },
  {
   "cell_type": "code",
   "execution_count": 18,
   "metadata": {},
   "outputs": [
    {
     "name": "stdout",
     "output_type": "stream",
     "text": [
      "[0, 1, 1, 1]\n",
      "[1, 1, 0, 1]\n"
     ]
    }
   ],
   "source": [
    "print(str1_vector); print(str2_vector)"
   ]
  },
  {
   "cell_type": "code",
   "execution_count": 22,
   "metadata": {},
   "outputs": [
    {
     "name": "stdout",
     "output_type": "stream",
     "text": [
      "0.6666666666666666\n"
     ]
    }
   ],
   "source": [
    "#Finding the cosine value of two vectors created above\n",
    "\n",
    "dot_product = 0\n",
    "for element in range(len(all_values)):\n",
    "    dot_product = dot_product + str1_vector[element]*str2_vector[element]\n",
    "magnitude = (sum(str1_vector)*sum(str2_vector)) ** 0.5 \n",
    "\n",
    "similarity = dot_product/float(magnitude)\n",
    "print(similarity)"
   ]
  },
  {
   "cell_type": "code",
   "execution_count": null,
   "metadata": {},
   "outputs": [],
   "source": []
  }
 ],
 "metadata": {
  "kernelspec": {
   "display_name": "Python 3",
   "language": "python",
   "name": "python3"
  },
  "language_info": {
   "codemirror_mode": {
    "name": "ipython",
    "version": 3
   },
   "file_extension": ".py",
   "mimetype": "text/x-python",
   "name": "python",
   "nbconvert_exporter": "python",
   "pygments_lexer": "ipython3",
   "version": "3.6.5"
  }
 },
 "nbformat": 4,
 "nbformat_minor": 2
}
