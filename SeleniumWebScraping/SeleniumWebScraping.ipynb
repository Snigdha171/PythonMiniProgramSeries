{
 "cells": [
  {
   "cell_type": "code",
   "execution_count": 1,
   "metadata": {
    "collapsed": true
   },
   "outputs": [],
   "source": [
    "## Install selenium\n",
    "# conda install selenium\n",
    "\n",
    "## Get Chrome Extension installed from path : \n",
    "## https://chromedriver.storage.googleapis.com/index.html?path=2.42/"
   ]
  },
  {
   "cell_type": "code",
   "execution_count": 2,
   "metadata": {
    "collapsed": true
   },
   "outputs": [],
   "source": [
    "## Importing packages\n",
    "from selenium import webdriver"
   ]
  },
  {
   "cell_type": "code",
   "execution_count": 3,
   "metadata": {
    "collapsed": true
   },
   "outputs": [],
   "source": [
    "# Create instance of Google Chrome\n",
    "driver = webdriver.Chrome(executable_path='C:/Users/Prachi Prakash/Downloads/chromedriver_win32/chromedriver.exe')"
   ]
  },
  {
   "cell_type": "code",
   "execution_count": 4,
   "metadata": {
    "collapsed": true
   },
   "outputs": [],
   "source": [
    "# Hitting the URL\n",
    "driver.get('https://en.wikipedia.org/wiki/Sachin_Tendulkar')"
   ]
  },
  {
   "cell_type": "code",
   "execution_count": 8,
   "metadata": {
    "collapsed": false
   },
   "outputs": [
    {
     "name": "stdout",
     "output_type": "stream",
     "text": [
      "Full Name:  Sachin Ramesh Tendulkar\n"
     ]
    }
   ],
   "source": [
    "# Extracting the name of the God\n",
    "name = driver.find_elements_by_xpath(\"//td[contains(@class,'nickname')]/span\")[0]\n",
    "print(\"Full Name: \",name.text)"
   ]
  },
  {
   "cell_type": "code",
   "execution_count": 44,
   "metadata": {
    "collapsed": false
   },
   "outputs": [
    {
     "name": "stdout",
     "output_type": "stream",
     "text": [
      "Birth Date & Birth Date: \n",
      "24 April 1973 (age 46)[1]\n",
      "Bombay (now Mumbai), Maharashtra, India\n"
     ]
    }
   ],
   "source": [
    "# Extracting the birth date and Birth Place\n",
    "bplace_date = driver.find_elements_by_xpath(\"//table[contains(@class,'infobox vcard')]/tbody/tr/td\")[2]\n",
    "print(\"Birth Date & Birth Date: \")\n",
    "print(bplace_date.text)"
   ]
  },
  {
   "cell_type": "code",
   "execution_count": 48,
   "metadata": {
    "collapsed": false
   },
   "outputs": [
    {
     "name": "stdout",
     "output_type": "stream",
     "text": [
      "Nickname:  Little Master,[1] Master Blaster[2][3]\n"
     ]
    }
   ],
   "source": [
    "# Extracting nickname\n",
    "nickname = driver.find_elements_by_xpath(\"//table[contains(@class,'infobox vcard')]/tbody/tr/td\")[3]\n",
    "print(\"Nickname: \",nickname.text)"
   ]
  },
  {
   "cell_type": "code",
   "execution_count": null,
   "metadata": {
    "collapsed": true
   },
   "outputs": [],
   "source": []
  }
 ],
 "metadata": {
  "anaconda-cloud": {},
  "kernelspec": {
   "display_name": "Python [conda env:Anaconda]",
   "language": "python",
   "name": "conda-env-Anaconda-py"
  },
  "language_info": {
   "codemirror_mode": {
    "name": "ipython",
    "version": 3
   },
   "file_extension": ".py",
   "mimetype": "text/x-python",
   "name": "python",
   "nbconvert_exporter": "python",
   "pygments_lexer": "ipython3",
   "version": "3.5.6"
  }
 },
 "nbformat": 4,
 "nbformat_minor": 1
}
