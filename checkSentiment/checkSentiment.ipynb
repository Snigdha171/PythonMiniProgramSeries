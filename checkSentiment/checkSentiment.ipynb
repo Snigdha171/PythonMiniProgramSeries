{
 "cells": [
  {
   "cell_type": "code",
   "execution_count": 1,
   "metadata": {},
   "outputs": [],
   "source": [
    "#Import module\n",
    "from nltk.tokenize import word_tokenize\n",
    "from nltk.corpus import stopwords"
   ]
  },
  {
   "cell_type": "code",
   "execution_count": 2,
   "metadata": {},
   "outputs": [],
   "source": [
    "#Reading file list of positive and negative words\n",
    "\n",
    "with open(\"positive_words.txt\",'r') as fp:\n",
    "    positive_words = fp.read()\n",
    "\n",
    "with open(\"negative_words.txt\",'r') as fp:\n",
    "    negative_words = fp.read()\n",
    "\n",
    "positive_words_list = positive_words.split(',')\n",
    "negative_words_list = negative_words.split(',')\n"
   ]
  },
  {
   "cell_type": "code",
   "execution_count": 3,
   "metadata": {},
   "outputs": [],
   "source": [
    "#Reading the stop words\n",
    "\n",
    "sw = set(stopwords.words('english'))"
   ]
  },
  {
   "cell_type": "code",
   "execution_count": 4,
   "metadata": {},
   "outputs": [],
   "source": [
    "#Creating function to check for positive/negative sentiments\n",
    "\n",
    "def checkSentiment():\n",
    "    sentence = input(\"Enter the sentence to be checked : \")\n",
    "    tokenize_sent = word_tokenize(sentence)\n",
    "    clean_sent = [word for word in tokenize_sent if not word in sw]\n",
    "    sentence_word_check_pos = [elem for elem in positive_words_list if elem in clean_sent]\n",
    "    sentence_word_check_neg = [elem for elem in negative_words_list if elem in clean_sent]\n",
    "    \n",
    "    len_positive = len(sentence_word_check_pos)\n",
    "    len_negative = len(sentence_word_check_neg)\n",
    "\n",
    "    percent_positive = round(float(len_positive/(len_positive+len_negative)) * 100,2)\n",
    "    percent_negative = round(float(len_negative/(len_positive+len_negative)) * 100,2)\n",
    "    print(\"The sentence is \" + str(percent_positive) + \"% positive and \" + str(percent_negative) + \"% negative\")\n",
    "    continue_input = input(\"Do you want to continue? Press Y : \")\n",
    "    if continue_input == \"Y\":\n",
    "        checkSentiment()\n",
    "    else:\n",
    "        print(\"Exiting\")"
   ]
  },
  {
   "cell_type": "code",
   "execution_count": 7,
   "metadata": {},
   "outputs": [
    {
     "name": "stdout",
     "output_type": "stream",
     "text": [
      "Enter the sentence to be checked : This is an amazing movie\n",
      "The sentence is 100.0% positive and 0.0% negative\n",
      "Do you want to continue? Press Y : Y\n",
      "Enter the sentence to be checked : The direction is unjustifiable\n",
      "The sentence is 0.0% positive and 100.0% negative\n",
      "Do you want to continue? Press Y : Y\n",
      "Enter the sentence to be checked : The acting is superb but the ending of the movie is unrealistic and unjustifiable\n",
      "The sentence is 33.33% positive and 66.67% negative\n",
      "Do you want to continue? Press Y : N\n",
      "Exiting\n"
     ]
    }
   ],
   "source": [
    "#Calling the function\n",
    "\n",
    "global continue_input\n",
    "continue_input = \"N\"\n",
    "checkSentiment()"
   ]
  },
  {
   "cell_type": "code",
   "execution_count": null,
   "metadata": {},
   "outputs": [],
   "source": []
  },
  {
   "cell_type": "code",
   "execution_count": null,
   "metadata": {},
   "outputs": [],
   "source": []
  }
 ],
 "metadata": {
  "kernelspec": {
   "display_name": "Python 3",
   "language": "python",
   "name": "python3"
  },
  "language_info": {
   "codemirror_mode": {
    "name": "ipython",
    "version": 3
   },
   "file_extension": ".py",
   "mimetype": "text/x-python",
   "name": "python",
   "nbconvert_exporter": "python",
   "pygments_lexer": "ipython3",
   "version": "3.6.5"
  }
 },
 "nbformat": 4,
 "nbformat_minor": 2
}
