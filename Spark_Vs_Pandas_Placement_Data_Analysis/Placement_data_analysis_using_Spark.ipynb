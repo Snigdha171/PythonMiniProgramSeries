{
  "nbformat": 4,
  "nbformat_minor": 0,
  "metadata": {
    "colab": {
      "name": "Placement data analysis using Spark",
      "provenance": [],
      "collapsed_sections": []
    },
    "kernelspec": {
      "name": "python3",
      "display_name": "Python 3"
    },
    "language_info": {
      "name": "python"
    }
  },
  "cells": [
    {
      "cell_type": "markdown",
      "metadata": {
        "id": "q9br7mSEadVc"
      },
      "source": [
        "Install spark dependencies"
      ]
    },
    {
      "cell_type": "code",
      "metadata": {
        "id": "WbTSnQnTaeHK"
      },
      "source": [
        "!apt-get install openjdk-8-jdk-headless -qq > /dev/null\n",
        "!wget -q https://archive.apache.org/dist/spark/spark-3.1.2/spark-3.1.2-bin-hadoop3.2.tgz\n",
        "!tar xf spark-3.1.2-bin-hadoop3.2.tgz\n",
        "!pip install -q findspark"
      ],
      "execution_count": 1,
      "outputs": []
    },
    {
      "cell_type": "markdown",
      "metadata": {
        "id": "ei9d5oWQb7R8"
      },
      "source": [
        "Set environmental path"
      ]
    },
    {
      "cell_type": "code",
      "metadata": {
        "id": "gp8l3LAPb-RX"
      },
      "source": [
        "import os\n",
        "os.environ[\"JAVA_HOME\"] = \"/usr/lib/jvm/java-8-openjdk-amd64\"\n",
        "os.environ[\"SPARK_HOME\"] = \"/content/spark-3.1.2-bin-hadoop3.2\""
      ],
      "execution_count": 2,
      "outputs": []
    },
    {
      "cell_type": "markdown",
      "metadata": {
        "id": "xDlal-_UcJug"
      },
      "source": [
        "Run a local spark session"
      ]
    },
    {
      "cell_type": "code",
      "metadata": {
        "id": "wUTOMKLUcNNb"
      },
      "source": [
        "import findspark\n",
        "findspark.init()\n",
        "from pyspark.sql import SparkSession\n",
        "spark = SparkSession.builder.master(\"local[*]\").getOrCreate()"
      ],
      "execution_count": 3,
      "outputs": []
    },
    {
      "cell_type": "markdown",
      "metadata": {
        "id": "ReMySBW6cZ3Q"
      },
      "source": [
        "unzip the dataset"
      ]
    },
    {
      "cell_type": "code",
      "metadata": {
        "colab": {
          "base_uri": "https://localhost:8080/"
        },
        "id": "UoSG05UZcbm1",
        "outputId": "805e2635-833a-4b1d-e066-3610e8f8a864"
      },
      "source": [
        "!unzip archive.zip"
      ],
      "execution_count": 4,
      "outputs": [
        {
          "output_type": "stream",
          "name": "stdout",
          "text": [
            "Archive:  archive.zip\n",
            "replace collegePlace.csv? [y]es, [n]o, [A]ll, [N]one, [r]ename: y\n",
            "  inflating: collegePlace.csv        \n"
          ]
        }
      ]
    },
    {
      "cell_type": "code",
      "metadata": {
        "id": "a_rxcRQKqWni"
      },
      "source": [
        "from pyspark.sql.functions import col, round"
      ],
      "execution_count": 42,
      "outputs": []
    },
    {
      "cell_type": "markdown",
      "metadata": {
        "id": "QlRfN1xydXBw"
      },
      "source": [
        "Load the data into Pyspark"
      ]
    },
    {
      "cell_type": "code",
      "metadata": {
        "id": "MTSlPzE7daMb"
      },
      "source": [
        "college_place_df = spark.read.csv(\"collegePlace.csv\", header=True, inferSchema=True)"
      ],
      "execution_count": 43,
      "outputs": []
    },
    {
      "cell_type": "markdown",
      "metadata": {
        "id": "McUM-FC8dpxO"
      },
      "source": [
        "Extract first 5 rows from the spark dataframe"
      ]
    },
    {
      "cell_type": "code",
      "metadata": {
        "colab": {
          "base_uri": "https://localhost:8080/"
        },
        "id": "aHEsrCxZdvUo",
        "outputId": "74fce29f-0ffa-4ce0-8a29-7dc1237fe098"
      },
      "source": [
        "college_place_df.show(5)"
      ],
      "execution_count": 44,
      "outputs": [
        {
          "output_type": "stream",
          "name": "stdout",
          "text": [
            "+---+------+--------------------+-----------+----+------+-----------------+-----------+\n",
            "|Age|Gender|              Stream|Internships|CGPA|Hostel|HistoryOfBacklogs|PlacedOrNot|\n",
            "+---+------+--------------------+-----------+----+------+-----------------+-----------+\n",
            "| 22|  Male|Electronics And C...|          1|   8|     1|                1|          1|\n",
            "| 21|Female|    Computer Science|          0|   7|     1|                1|          1|\n",
            "| 22|Female|Information Techn...|          1|   6|     0|                0|          1|\n",
            "| 21|  Male|Information Techn...|          0|   8|     0|                1|          1|\n",
            "| 22|  Male|          Mechanical|          0|   8|     1|                0|          1|\n",
            "+---+------+--------------------+-----------+----+------+-----------------+-----------+\n",
            "only showing top 5 rows\n",
            "\n"
          ]
        }
      ]
    },
    {
      "cell_type": "markdown",
      "metadata": {
        "id": "6xH_UHYBd1D1"
      },
      "source": [
        "Display the columns names in college_place_df"
      ]
    },
    {
      "cell_type": "code",
      "metadata": {
        "colab": {
          "base_uri": "https://localhost:8080/"
        },
        "id": "wqExy0jCd4xg",
        "outputId": "457a0aef-fe72-4436-8385-bc76ec95b7b9"
      },
      "source": [
        "print(college_place_df.columns)"
      ],
      "execution_count": 45,
      "outputs": [
        {
          "output_type": "stream",
          "name": "stdout",
          "text": [
            "['Age', 'Gender', 'Stream', 'Internships', 'CGPA', 'Hostel', 'HistoryOfBacklogs', 'PlacedOrNot']\n"
          ]
        }
      ]
    },
    {
      "cell_type": "markdown",
      "metadata": {
        "id": "qcmZG8jaelwF"
      },
      "source": [
        "Filter the dataframe by Age"
      ]
    },
    {
      "cell_type": "code",
      "metadata": {
        "id": "GxSt7apzemen"
      },
      "source": [
        "college_place_21_df = college_place_df.filter(college_place_df.Age == 21)\n",
        "college_place_22_df = college_place_df.filter(college_place_df.Age == 22)"
      ],
      "execution_count": 46,
      "outputs": []
    },
    {
      "cell_type": "markdown",
      "metadata": {
        "id": "EbJSX-IIfMLd"
      },
      "source": [
        "Find the dimension of dataframe of spark dataframe"
      ]
    },
    {
      "cell_type": "code",
      "metadata": {
        "colab": {
          "base_uri": "https://localhost:8080/"
        },
        "id": "SB8chxLwfTKG",
        "outputId": "305ea5c2-03fd-45a2-afcd-81f451f458fd"
      },
      "source": [
        "print((college_place_21_df.count(), len(college_place_21_df.columns)))\n",
        "print((college_place_22_df.count(), len(college_place_22_df.columns)))"
      ],
      "execution_count": 47,
      "outputs": [
        {
          "output_type": "stream",
          "name": "stdout",
          "text": [
            "(1084, 8)\n",
            "(941, 8)\n"
          ]
        }
      ]
    },
    {
      "cell_type": "markdown",
      "metadata": {
        "id": "-y18gmdzfzfq"
      },
      "source": [
        "Find the average cgpa, number of students placed and total number of students in each stream"
      ]
    },
    {
      "cell_type": "code",
      "metadata": {
        "id": "WSoUilKYf3TV"
      },
      "source": [
        "college_place_by_stream = college_place_df.groupBy(\"Stream\").agg({'CGPA':'avg', 'PlacedOrNot':'sum'})\n",
        "college_student_by_stream = college_place_df.groupBy(\"Stream\").agg({'PlacedOrNot':'count'})"
      ],
      "execution_count": 48,
      "outputs": []
    },
    {
      "cell_type": "code",
      "metadata": {
        "colab": {
          "base_uri": "https://localhost:8080/"
        },
        "id": "fpzHSnkigveh",
        "outputId": "3549dfde-223d-4f67-bdd0-977f61d2e410"
      },
      "source": [
        "college_place_by_stream.printSchema()\n",
        "college_student_by_stream.printSchema()"
      ],
      "execution_count": 62,
      "outputs": [
        {
          "output_type": "stream",
          "name": "stdout",
          "text": [
            "root\n",
            " |-- Stream: string (nullable = true)\n",
            " |-- Average_CGPA: double (nullable = true)\n",
            " |-- Number_of_Students_Placed: long (nullable = true)\n",
            "\n",
            "root\n",
            " |-- Stream: string (nullable = true)\n",
            " |-- Number_of_Students: long (nullable = false)\n",
            "\n"
          ]
        }
      ]
    },
    {
      "cell_type": "markdown",
      "metadata": {
        "id": "fTU8r8ZYgfo2"
      },
      "source": [
        "Rename columns in spark dataframe"
      ]
    },
    {
      "cell_type": "code",
      "metadata": {
        "id": "hy2T6LiBgjl8"
      },
      "source": [
        "college_place_by_stream = college_place_by_stream.withColumnRenamed(\"avg(CGPA)\",\"Average_CGPA\") \\\n",
        "    .withColumnRenamed(\"sum(PlacedOrNot)\",\"Number_of_Students_Placed\")\n",
        "\n",
        "college_student_by_stream = college_student_by_stream.withColumnRenamed(\"count(PlacedOrNot)\",\"Number_of_Students\")"
      ],
      "execution_count": 50,
      "outputs": []
    },
    {
      "cell_type": "code",
      "metadata": {
        "id": "xfy0gmNRg_aL"
      },
      "source": [
        "#college_place_by_stream.printSchema()\n",
        "#college_student_by_stream.printSchema()"
      ],
      "execution_count": 51,
      "outputs": []
    },
    {
      "cell_type": "code",
      "metadata": {
        "id": "NM37p5xfhLTL"
      },
      "source": [
        "#college_place_by_stream.show()\n",
        "#college_student_by_stream.show()"
      ],
      "execution_count": 52,
      "outputs": []
    },
    {
      "cell_type": "markdown",
      "metadata": {
        "id": "tbhGa6u6jBc5"
      },
      "source": [
        "Join college_place_by_stream and college_student_by_stream"
      ]
    },
    {
      "cell_type": "code",
      "metadata": {
        "id": "PXIRWje8jJcn"
      },
      "source": [
        "college_placement_join = college_place_by_stream.join(college_student_by_stream,['Stream'],\"inner\")"
      ],
      "execution_count": 53,
      "outputs": []
    },
    {
      "cell_type": "code",
      "metadata": {
        "colab": {
          "base_uri": "https://localhost:8080/"
        },
        "id": "ZrdGaxcmjnm0",
        "outputId": "f022d5bb-67cf-42aa-a331-56e0c4179615"
      },
      "source": [
        "college_placement_join.show()"
      ],
      "execution_count": 54,
      "outputs": [
        {
          "output_type": "stream",
          "name": "stdout",
          "text": [
            "+--------------------+-----------------+-------------------------+------------------+\n",
            "|              Stream|     Average_CGPA|Number_of_Students_Placed|Number_of_Students|\n",
            "+--------------------+-----------------+-------------------------+------------------+\n",
            "|          Mechanical|7.063679245283019|                      200|               424|\n",
            "|Information Techn...|7.073806078147612|                      409|               691|\n",
            "|Electronics And C...|            7.125|                      251|               424|\n",
            "|               Civil|7.094637223974764|                      146|               317|\n",
            "|    Computer Science|7.039948453608248|                      452|               776|\n",
            "|          Electrical|7.080838323353293|                      181|               334|\n",
            "+--------------------+-----------------+-------------------------+------------------+\n",
            "\n"
          ]
        }
      ]
    },
    {
      "cell_type": "markdown",
      "metadata": {
        "id": "3w7CMW5Rp9YF"
      },
      "source": [
        "Change the datatype of columns"
      ]
    },
    {
      "cell_type": "code",
      "metadata": {
        "id": "falhHL3bp_8X"
      },
      "source": [
        "college_placement_join = college_placement_join.withColumn(\"Number_of_Students_Placed\",col(\"Number_of_Students_Placed\").cast(\"int\"))\\\n",
        "                      .withColumn(\"Number_of_Students\",col(\"Number_of_Students\").cast(\"int\"))"
      ],
      "execution_count": 55,
      "outputs": []
    },
    {
      "cell_type": "markdown",
      "metadata": {
        "id": "YaFzNloklbVh"
      },
      "source": [
        "Create derived column - Percentage of students placed"
      ]
    },
    {
      "cell_type": "code",
      "metadata": {
        "id": "vL4yu757lf0u"
      },
      "source": [
        "college_placement_join = college_placement_join.withColumn(\"percent_placed\", round((col(\"Number_of_Students_Placed\")/col(\"Number_of_Students\"))*100,2))"
      ],
      "execution_count": 56,
      "outputs": []
    },
    {
      "cell_type": "code",
      "metadata": {
        "colab": {
          "base_uri": "https://localhost:8080/"
        },
        "id": "Tf-0O58grGPs",
        "outputId": "10b803eb-ce18-48dc-c468-e0acf21c8fe5"
      },
      "source": [
        "college_placement_join.show()"
      ],
      "execution_count": 57,
      "outputs": [
        {
          "output_type": "stream",
          "name": "stdout",
          "text": [
            "+--------------------+-----------------+-------------------------+------------------+--------------+\n",
            "|              Stream|     Average_CGPA|Number_of_Students_Placed|Number_of_Students|percent_placed|\n",
            "+--------------------+-----------------+-------------------------+------------------+--------------+\n",
            "|          Mechanical|7.063679245283019|                      200|               424|         47.17|\n",
            "|Information Techn...|7.073806078147612|                      409|               691|         59.19|\n",
            "|Electronics And C...|            7.125|                      251|               424|          59.2|\n",
            "|               Civil|7.094637223974764|                      146|               317|         46.06|\n",
            "|    Computer Science|7.039948453608248|                      452|               776|         58.25|\n",
            "|          Electrical|7.080838323353293|                      181|               334|         54.19|\n",
            "+--------------------+-----------------+-------------------------+------------------+--------------+\n",
            "\n"
          ]
        }
      ]
    },
    {
      "cell_type": "markdown",
      "metadata": {
        "id": "KNDq6RxT7VOz"
      },
      "source": [
        "Finding which Stream has highest number of placed students"
      ]
    },
    {
      "cell_type": "code",
      "metadata": {
        "id": "ZU4i5SaTsm19"
      },
      "source": [
        "college_placement_join = college_placement_join.sort(college_placement_join.Number_of_Students_Placed.desc())"
      ],
      "execution_count": 58,
      "outputs": []
    },
    {
      "cell_type": "code",
      "metadata": {
        "colab": {
          "base_uri": "https://localhost:8080/"
        },
        "id": "eEbSoa6ssnza",
        "outputId": "a63938a7-d6ed-4992-eb61-a955dacf6a4a"
      },
      "source": [
        "college_placement_join.show()"
      ],
      "execution_count": 59,
      "outputs": [
        {
          "output_type": "stream",
          "name": "stdout",
          "text": [
            "+--------------------+-----------------+-------------------------+------------------+--------------+\n",
            "|              Stream|     Average_CGPA|Number_of_Students_Placed|Number_of_Students|percent_placed|\n",
            "+--------------------+-----------------+-------------------------+------------------+--------------+\n",
            "|    Computer Science|7.039948453608248|                      452|               776|         58.25|\n",
            "|Information Techn...|7.073806078147612|                      409|               691|         59.19|\n",
            "|Electronics And C...|            7.125|                      251|               424|          59.2|\n",
            "|          Mechanical|7.063679245283019|                      200|               424|         47.17|\n",
            "|          Electrical|7.080838323353293|                      181|               334|         54.19|\n",
            "|               Civil|7.094637223974764|                      146|               317|         46.06|\n",
            "+--------------------+-----------------+-------------------------+------------------+--------------+\n",
            "\n"
          ]
        }
      ]
    },
    {
      "cell_type": "markdown",
      "metadata": {
        "id": "1nJJxl4vhTBT"
      },
      "source": [
        "Sort by number of students placed"
      ]
    },
    {
      "cell_type": "code",
      "metadata": {
        "id": "3AzEQiqghXAK"
      },
      "source": [
        "college_placement_join = college_placement_join.sort(college_placement_join.percent_placed.desc())"
      ],
      "execution_count": 60,
      "outputs": []
    },
    {
      "cell_type": "code",
      "metadata": {
        "colab": {
          "base_uri": "https://localhost:8080/"
        },
        "id": "VGsXcphLhmz3",
        "outputId": "aef5bd38-4310-45cc-dd08-17e673ee45c9"
      },
      "source": [
        "college_placement_join.show()"
      ],
      "execution_count": 61,
      "outputs": [
        {
          "output_type": "stream",
          "name": "stdout",
          "text": [
            "+--------------------+-----------------+-------------------------+------------------+--------------+\n",
            "|              Stream|     Average_CGPA|Number_of_Students_Placed|Number_of_Students|percent_placed|\n",
            "+--------------------+-----------------+-------------------------+------------------+--------------+\n",
            "|Electronics And C...|            7.125|                      251|               424|          59.2|\n",
            "|Information Techn...|7.073806078147612|                      409|               691|         59.19|\n",
            "|    Computer Science|7.039948453608248|                      452|               776|         58.25|\n",
            "|          Electrical|7.080838323353293|                      181|               334|         54.19|\n",
            "|          Mechanical|7.063679245283019|                      200|               424|         47.17|\n",
            "|               Civil|7.094637223974764|                      146|               317|         46.06|\n",
            "+--------------------+-----------------+-------------------------+------------------+--------------+\n",
            "\n"
          ]
        }
      ]
    }
  ]
}