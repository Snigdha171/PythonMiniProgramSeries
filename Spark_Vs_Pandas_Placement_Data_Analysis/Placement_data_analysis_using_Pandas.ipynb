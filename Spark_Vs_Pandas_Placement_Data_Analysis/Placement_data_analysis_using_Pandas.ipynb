{
  "nbformat": 4,
  "nbformat_minor": 0,
  "metadata": {
    "colab": {
      "name": "Placement data analysis using Pandas",
      "provenance": []
    },
    "kernelspec": {
      "name": "python3",
      "display_name": "Python 3"
    },
    "language_info": {
      "name": "python"
    }
  },
  "cells": [
    {
      "cell_type": "code",
      "metadata": {
        "id": "RfCwVSjFui2i"
      },
      "source": [
        "import pandas as pd"
      ],
      "execution_count": 1,
      "outputs": []
    },
    {
      "cell_type": "markdown",
      "metadata": {
        "id": "CFf-zxDj22na"
      },
      "source": [
        "Load the data into Pandas Dataframe"
      ]
    },
    {
      "cell_type": "code",
      "metadata": {
        "id": "nqY2NZCJuvvS"
      },
      "source": [
        "college_placement_df = pd.read_csv(\"collegePlace.csv\")"
      ],
      "execution_count": 2,
      "outputs": []
    },
    {
      "cell_type": "markdown",
      "metadata": {
        "id": "aPVGeplW2-5g"
      },
      "source": [
        "Extract first 5 rows from the pandas dataframe"
      ]
    },
    {
      "cell_type": "code",
      "metadata": {
        "id": "Xfcg-kZfu2T-",
        "colab": {
          "base_uri": "https://localhost:8080/",
          "height": 204
        },
        "outputId": "37bbc849-ec40-442b-af8f-dd56656411cc"
      },
      "source": [
        "college_placement_df.head(5)"
      ],
      "execution_count": 3,
      "outputs": [
        {
          "output_type": "execute_result",
          "data": {
            "text/html": [
              "<div>\n",
              "<style scoped>\n",
              "    .dataframe tbody tr th:only-of-type {\n",
              "        vertical-align: middle;\n",
              "    }\n",
              "\n",
              "    .dataframe tbody tr th {\n",
              "        vertical-align: top;\n",
              "    }\n",
              "\n",
              "    .dataframe thead th {\n",
              "        text-align: right;\n",
              "    }\n",
              "</style>\n",
              "<table border=\"1\" class=\"dataframe\">\n",
              "  <thead>\n",
              "    <tr style=\"text-align: right;\">\n",
              "      <th></th>\n",
              "      <th>Age</th>\n",
              "      <th>Gender</th>\n",
              "      <th>Stream</th>\n",
              "      <th>Internships</th>\n",
              "      <th>CGPA</th>\n",
              "      <th>Hostel</th>\n",
              "      <th>HistoryOfBacklogs</th>\n",
              "      <th>PlacedOrNot</th>\n",
              "    </tr>\n",
              "  </thead>\n",
              "  <tbody>\n",
              "    <tr>\n",
              "      <th>0</th>\n",
              "      <td>22</td>\n",
              "      <td>Male</td>\n",
              "      <td>Electronics And Communication</td>\n",
              "      <td>1</td>\n",
              "      <td>8</td>\n",
              "      <td>1</td>\n",
              "      <td>1</td>\n",
              "      <td>1</td>\n",
              "    </tr>\n",
              "    <tr>\n",
              "      <th>1</th>\n",
              "      <td>21</td>\n",
              "      <td>Female</td>\n",
              "      <td>Computer Science</td>\n",
              "      <td>0</td>\n",
              "      <td>7</td>\n",
              "      <td>1</td>\n",
              "      <td>1</td>\n",
              "      <td>1</td>\n",
              "    </tr>\n",
              "    <tr>\n",
              "      <th>2</th>\n",
              "      <td>22</td>\n",
              "      <td>Female</td>\n",
              "      <td>Information Technology</td>\n",
              "      <td>1</td>\n",
              "      <td>6</td>\n",
              "      <td>0</td>\n",
              "      <td>0</td>\n",
              "      <td>1</td>\n",
              "    </tr>\n",
              "    <tr>\n",
              "      <th>3</th>\n",
              "      <td>21</td>\n",
              "      <td>Male</td>\n",
              "      <td>Information Technology</td>\n",
              "      <td>0</td>\n",
              "      <td>8</td>\n",
              "      <td>0</td>\n",
              "      <td>1</td>\n",
              "      <td>1</td>\n",
              "    </tr>\n",
              "    <tr>\n",
              "      <th>4</th>\n",
              "      <td>22</td>\n",
              "      <td>Male</td>\n",
              "      <td>Mechanical</td>\n",
              "      <td>0</td>\n",
              "      <td>8</td>\n",
              "      <td>1</td>\n",
              "      <td>0</td>\n",
              "      <td>1</td>\n",
              "    </tr>\n",
              "  </tbody>\n",
              "</table>\n",
              "</div>"
            ],
            "text/plain": [
              "   Age  Gender  ... HistoryOfBacklogs  PlacedOrNot\n",
              "0   22    Male  ...                 1            1\n",
              "1   21  Female  ...                 1            1\n",
              "2   22  Female  ...                 0            1\n",
              "3   21    Male  ...                 1            1\n",
              "4   22    Male  ...                 0            1\n",
              "\n",
              "[5 rows x 8 columns]"
            ]
          },
          "metadata": {},
          "execution_count": 3
        }
      ]
    },
    {
      "cell_type": "markdown",
      "metadata": {
        "id": "FQoIApWV3Md3"
      },
      "source": [
        "Display the columns names in dataframe"
      ]
    },
    {
      "cell_type": "code",
      "metadata": {
        "id": "dO9m7FR1u_Tc",
        "colab": {
          "base_uri": "https://localhost:8080/"
        },
        "outputId": "4d23b2ff-d330-4755-9080-ae0ee1b4bb3b"
      },
      "source": [
        "print(college_placement_df.columns)"
      ],
      "execution_count": 4,
      "outputs": [
        {
          "output_type": "stream",
          "name": "stdout",
          "text": [
            "Index(['Age', 'Gender', 'Stream', 'Internships', 'CGPA', 'Hostel',\n",
            "       'HistoryOfBacklogs', 'PlacedOrNot'],\n",
            "      dtype='object')\n"
          ]
        }
      ]
    },
    {
      "cell_type": "markdown",
      "metadata": {
        "id": "2qoXGDOO3S8k"
      },
      "source": [
        "Filter the dataframe by Age"
      ]
    },
    {
      "cell_type": "code",
      "metadata": {
        "id": "uxAwWVR53W4F"
      },
      "source": [
        "college_place_21_df = college_placement_df[college_placement_df[\"Age\"] == 21]\n",
        "college_place_22_df = college_placement_df[college_placement_df[\"Age\"] == 22]"
      ],
      "execution_count": 5,
      "outputs": []
    },
    {
      "cell_type": "markdown",
      "metadata": {
        "id": "Dts7i-pl3m2u"
      },
      "source": [
        "Find the dimension of dataframe of spark dataframe"
      ]
    },
    {
      "cell_type": "code",
      "metadata": {
        "colab": {
          "base_uri": "https://localhost:8080/"
        },
        "id": "_KrE0C8g3mCI",
        "outputId": "25ebb30f-ccd8-4cce-ca1e-80790deca3fe"
      },
      "source": [
        "print(college_place_21_df.shape)\n",
        "print(college_place_22_df.shape)"
      ],
      "execution_count": 6,
      "outputs": [
        {
          "output_type": "stream",
          "name": "stdout",
          "text": [
            "(1084, 8)\n",
            "(941, 8)\n"
          ]
        }
      ]
    },
    {
      "cell_type": "markdown",
      "metadata": {
        "id": "S2hT3Dxh30f9"
      },
      "source": [
        "Find the average cgpa, number of students placed and total number of students in each stream"
      ]
    },
    {
      "cell_type": "code",
      "metadata": {
        "id": "BEx3IoQv3zmx"
      },
      "source": [
        "college_place_by_stream = college_placement_df.groupby(\"Stream\").agg({'CGPA':'mean', 'PlacedOrNot':'sum'}).reset_index()\n",
        "college_student_by_stream = college_placement_df.groupby(\"Stream\").agg({'PlacedOrNot':'count'}).reset_index()"
      ],
      "execution_count": 7,
      "outputs": []
    },
    {
      "cell_type": "code",
      "metadata": {
        "colab": {
          "base_uri": "https://localhost:8080/"
        },
        "id": "U7jyzLhD4w8Y",
        "outputId": "1d764736-e35e-42be-fc4c-9f3d5a58997e"
      },
      "source": [
        "print(college_place_by_stream.head(2))\n",
        "print(college_student_by_stream.head(2))"
      ],
      "execution_count": 8,
      "outputs": [
        {
          "output_type": "stream",
          "name": "stdout",
          "text": [
            "             Stream      CGPA  PlacedOrNot\n",
            "0             Civil  7.094637          146\n",
            "1  Computer Science  7.039948          452\n",
            "             Stream  PlacedOrNot\n",
            "0             Civil          317\n",
            "1  Computer Science          776\n"
          ]
        }
      ]
    },
    {
      "cell_type": "markdown",
      "metadata": {
        "id": "-1JOFoaS4A1v"
      },
      "source": [
        "Rename columns in spark dataframe"
      ]
    },
    {
      "cell_type": "code",
      "metadata": {
        "id": "LCoO6Qp44F_J"
      },
      "source": [
        "college_place_by_stream = college_place_by_stream.rename(columns = {\"PlacedOrNot\":\"Number_of_Students_Placed\"})\n",
        "college_student_by_stream = college_student_by_stream.rename(columns = {\"PlacedOrNot\":\"Number_of_Students\"})"
      ],
      "execution_count": 9,
      "outputs": []
    },
    {
      "cell_type": "markdown",
      "metadata": {
        "id": "9qcsIOqW5ehx"
      },
      "source": [
        "Join college_place_by_stream and college_student_by_stream"
      ]
    },
    {
      "cell_type": "code",
      "metadata": {
        "id": "5A0CMKay5feJ"
      },
      "source": [
        "college_placement_join = pd.merge(college_place_by_stream,college_student_by_stream,on = ['Stream'],how = \"inner\")"
      ],
      "execution_count": 10,
      "outputs": []
    },
    {
      "cell_type": "code",
      "metadata": {
        "colab": {
          "base_uri": "https://localhost:8080/",
          "height": 204
        },
        "id": "VCpM5Y-G5UJq",
        "outputId": "d4a2cabf-f174-45b8-ce4a-1773ea334978"
      },
      "source": [
        "college_placement_join.head(5)"
      ],
      "execution_count": 11,
      "outputs": [
        {
          "output_type": "execute_result",
          "data": {
            "text/html": [
              "<div>\n",
              "<style scoped>\n",
              "    .dataframe tbody tr th:only-of-type {\n",
              "        vertical-align: middle;\n",
              "    }\n",
              "\n",
              "    .dataframe tbody tr th {\n",
              "        vertical-align: top;\n",
              "    }\n",
              "\n",
              "    .dataframe thead th {\n",
              "        text-align: right;\n",
              "    }\n",
              "</style>\n",
              "<table border=\"1\" class=\"dataframe\">\n",
              "  <thead>\n",
              "    <tr style=\"text-align: right;\">\n",
              "      <th></th>\n",
              "      <th>Stream</th>\n",
              "      <th>CGPA</th>\n",
              "      <th>Number_of_Students_Placed</th>\n",
              "      <th>Number_of_Students</th>\n",
              "    </tr>\n",
              "  </thead>\n",
              "  <tbody>\n",
              "    <tr>\n",
              "      <th>0</th>\n",
              "      <td>Civil</td>\n",
              "      <td>7.094637</td>\n",
              "      <td>146</td>\n",
              "      <td>317</td>\n",
              "    </tr>\n",
              "    <tr>\n",
              "      <th>1</th>\n",
              "      <td>Computer Science</td>\n",
              "      <td>7.039948</td>\n",
              "      <td>452</td>\n",
              "      <td>776</td>\n",
              "    </tr>\n",
              "    <tr>\n",
              "      <th>2</th>\n",
              "      <td>Electrical</td>\n",
              "      <td>7.080838</td>\n",
              "      <td>181</td>\n",
              "      <td>334</td>\n",
              "    </tr>\n",
              "    <tr>\n",
              "      <th>3</th>\n",
              "      <td>Electronics And Communication</td>\n",
              "      <td>7.125000</td>\n",
              "      <td>251</td>\n",
              "      <td>424</td>\n",
              "    </tr>\n",
              "    <tr>\n",
              "      <th>4</th>\n",
              "      <td>Information Technology</td>\n",
              "      <td>7.073806</td>\n",
              "      <td>409</td>\n",
              "      <td>691</td>\n",
              "    </tr>\n",
              "  </tbody>\n",
              "</table>\n",
              "</div>"
            ],
            "text/plain": [
              "                          Stream  ...  Number_of_Students\n",
              "0                          Civil  ...                 317\n",
              "1               Computer Science  ...                 776\n",
              "2                     Electrical  ...                 334\n",
              "3  Electronics And Communication  ...                 424\n",
              "4         Information Technology  ...                 691\n",
              "\n",
              "[5 rows x 4 columns]"
            ]
          },
          "metadata": {},
          "execution_count": 11
        }
      ]
    },
    {
      "cell_type": "markdown",
      "metadata": {
        "id": "HUER58Ba6A01"
      },
      "source": [
        "Change the datatype of columns"
      ]
    },
    {
      "cell_type": "code",
      "metadata": {
        "id": "pmogGepU6KNp"
      },
      "source": [
        "college_placement_join['Number_of_Students_Placed'] = college_placement_join['Number_of_Students_Placed'].astype('int')\n",
        "college_placement_join['Number_of_Students'] = college_placement_join['Number_of_Students'].astype('int')"
      ],
      "execution_count": 12,
      "outputs": []
    },
    {
      "cell_type": "markdown",
      "metadata": {
        "id": "BuO0gooF6jTt"
      },
      "source": [
        "Create derived column - Percentage of students placed"
      ]
    },
    {
      "cell_type": "code",
      "metadata": {
        "id": "_HF_WnKR6dkB"
      },
      "source": [
        "college_placement_join['percent_placed'] = round((college_placement_join['Number_of_Students_Placed']/college_placement_join['Number_of_Students'])*100,2)"
      ],
      "execution_count": 13,
      "outputs": []
    },
    {
      "cell_type": "code",
      "metadata": {
        "colab": {
          "base_uri": "https://localhost:8080/",
          "height": 204
        },
        "id": "fwltGmVa65zT",
        "outputId": "492b68c6-2821-47ef-e028-dda623796839"
      },
      "source": [
        "college_placement_join.head()"
      ],
      "execution_count": 14,
      "outputs": [
        {
          "output_type": "execute_result",
          "data": {
            "text/html": [
              "<div>\n",
              "<style scoped>\n",
              "    .dataframe tbody tr th:only-of-type {\n",
              "        vertical-align: middle;\n",
              "    }\n",
              "\n",
              "    .dataframe tbody tr th {\n",
              "        vertical-align: top;\n",
              "    }\n",
              "\n",
              "    .dataframe thead th {\n",
              "        text-align: right;\n",
              "    }\n",
              "</style>\n",
              "<table border=\"1\" class=\"dataframe\">\n",
              "  <thead>\n",
              "    <tr style=\"text-align: right;\">\n",
              "      <th></th>\n",
              "      <th>Stream</th>\n",
              "      <th>CGPA</th>\n",
              "      <th>Number_of_Students_Placed</th>\n",
              "      <th>Number_of_Students</th>\n",
              "      <th>percent_placed</th>\n",
              "    </tr>\n",
              "  </thead>\n",
              "  <tbody>\n",
              "    <tr>\n",
              "      <th>0</th>\n",
              "      <td>Civil</td>\n",
              "      <td>7.094637</td>\n",
              "      <td>146</td>\n",
              "      <td>317</td>\n",
              "      <td>46.06</td>\n",
              "    </tr>\n",
              "    <tr>\n",
              "      <th>1</th>\n",
              "      <td>Computer Science</td>\n",
              "      <td>7.039948</td>\n",
              "      <td>452</td>\n",
              "      <td>776</td>\n",
              "      <td>58.25</td>\n",
              "    </tr>\n",
              "    <tr>\n",
              "      <th>2</th>\n",
              "      <td>Electrical</td>\n",
              "      <td>7.080838</td>\n",
              "      <td>181</td>\n",
              "      <td>334</td>\n",
              "      <td>54.19</td>\n",
              "    </tr>\n",
              "    <tr>\n",
              "      <th>3</th>\n",
              "      <td>Electronics And Communication</td>\n",
              "      <td>7.125000</td>\n",
              "      <td>251</td>\n",
              "      <td>424</td>\n",
              "      <td>59.20</td>\n",
              "    </tr>\n",
              "    <tr>\n",
              "      <th>4</th>\n",
              "      <td>Information Technology</td>\n",
              "      <td>7.073806</td>\n",
              "      <td>409</td>\n",
              "      <td>691</td>\n",
              "      <td>59.19</td>\n",
              "    </tr>\n",
              "  </tbody>\n",
              "</table>\n",
              "</div>"
            ],
            "text/plain": [
              "                          Stream      CGPA  ...  Number_of_Students  percent_placed\n",
              "0                          Civil  7.094637  ...                 317           46.06\n",
              "1               Computer Science  7.039948  ...                 776           58.25\n",
              "2                     Electrical  7.080838  ...                 334           54.19\n",
              "3  Electronics And Communication  7.125000  ...                 424           59.20\n",
              "4         Information Technology  7.073806  ...                 691           59.19\n",
              "\n",
              "[5 rows x 5 columns]"
            ]
          },
          "metadata": {},
          "execution_count": 14
        }
      ]
    },
    {
      "cell_type": "markdown",
      "metadata": {
        "id": "GM0AdfVs7PQl"
      },
      "source": [
        "Finding which Stream has highest number of placed students"
      ]
    },
    {
      "cell_type": "code",
      "metadata": {
        "id": "R1PPcdw07QIh"
      },
      "source": [
        " college_placement_join = college_placement_join.sort_values(['Number_of_Students_Placed'], ascending=[0])"
      ],
      "execution_count": 15,
      "outputs": []
    },
    {
      "cell_type": "code",
      "metadata": {
        "colab": {
          "base_uri": "https://localhost:8080/",
          "height": 204
        },
        "id": "GRXfjdf-7uow",
        "outputId": "d7beba83-7393-4273-f2be-df70b472a220"
      },
      "source": [
        "college_placement_join.head()"
      ],
      "execution_count": 16,
      "outputs": [
        {
          "output_type": "execute_result",
          "data": {
            "text/html": [
              "<div>\n",
              "<style scoped>\n",
              "    .dataframe tbody tr th:only-of-type {\n",
              "        vertical-align: middle;\n",
              "    }\n",
              "\n",
              "    .dataframe tbody tr th {\n",
              "        vertical-align: top;\n",
              "    }\n",
              "\n",
              "    .dataframe thead th {\n",
              "        text-align: right;\n",
              "    }\n",
              "</style>\n",
              "<table border=\"1\" class=\"dataframe\">\n",
              "  <thead>\n",
              "    <tr style=\"text-align: right;\">\n",
              "      <th></th>\n",
              "      <th>Stream</th>\n",
              "      <th>CGPA</th>\n",
              "      <th>Number_of_Students_Placed</th>\n",
              "      <th>Number_of_Students</th>\n",
              "      <th>percent_placed</th>\n",
              "    </tr>\n",
              "  </thead>\n",
              "  <tbody>\n",
              "    <tr>\n",
              "      <th>1</th>\n",
              "      <td>Computer Science</td>\n",
              "      <td>7.039948</td>\n",
              "      <td>452</td>\n",
              "      <td>776</td>\n",
              "      <td>58.25</td>\n",
              "    </tr>\n",
              "    <tr>\n",
              "      <th>4</th>\n",
              "      <td>Information Technology</td>\n",
              "      <td>7.073806</td>\n",
              "      <td>409</td>\n",
              "      <td>691</td>\n",
              "      <td>59.19</td>\n",
              "    </tr>\n",
              "    <tr>\n",
              "      <th>3</th>\n",
              "      <td>Electronics And Communication</td>\n",
              "      <td>7.125000</td>\n",
              "      <td>251</td>\n",
              "      <td>424</td>\n",
              "      <td>59.20</td>\n",
              "    </tr>\n",
              "    <tr>\n",
              "      <th>5</th>\n",
              "      <td>Mechanical</td>\n",
              "      <td>7.063679</td>\n",
              "      <td>200</td>\n",
              "      <td>424</td>\n",
              "      <td>47.17</td>\n",
              "    </tr>\n",
              "    <tr>\n",
              "      <th>2</th>\n",
              "      <td>Electrical</td>\n",
              "      <td>7.080838</td>\n",
              "      <td>181</td>\n",
              "      <td>334</td>\n",
              "      <td>54.19</td>\n",
              "    </tr>\n",
              "  </tbody>\n",
              "</table>\n",
              "</div>"
            ],
            "text/plain": [
              "                          Stream      CGPA  ...  Number_of_Students  percent_placed\n",
              "1               Computer Science  7.039948  ...                 776           58.25\n",
              "4         Information Technology  7.073806  ...                 691           59.19\n",
              "3  Electronics And Communication  7.125000  ...                 424           59.20\n",
              "5                     Mechanical  7.063679  ...                 424           47.17\n",
              "2                     Electrical  7.080838  ...                 334           54.19\n",
              "\n",
              "[5 rows x 5 columns]"
            ]
          },
          "metadata": {},
          "execution_count": 16
        }
      ]
    },
    {
      "cell_type": "code",
      "metadata": {
        "id": "stWIGhHn7v4B"
      },
      "source": [
        " college_placement_join = college_placement_join.sort_values(['percent_placed'], ascending=[0])"
      ],
      "execution_count": 17,
      "outputs": []
    },
    {
      "cell_type": "code",
      "metadata": {
        "colab": {
          "base_uri": "https://localhost:8080/",
          "height": 204
        },
        "id": "wcpmHW6w7x-H",
        "outputId": "196ea440-ddac-4d12-c87a-80ed033f37df"
      },
      "source": [
        "college_placement_join.head()"
      ],
      "execution_count": 18,
      "outputs": [
        {
          "output_type": "execute_result",
          "data": {
            "text/html": [
              "<div>\n",
              "<style scoped>\n",
              "    .dataframe tbody tr th:only-of-type {\n",
              "        vertical-align: middle;\n",
              "    }\n",
              "\n",
              "    .dataframe tbody tr th {\n",
              "        vertical-align: top;\n",
              "    }\n",
              "\n",
              "    .dataframe thead th {\n",
              "        text-align: right;\n",
              "    }\n",
              "</style>\n",
              "<table border=\"1\" class=\"dataframe\">\n",
              "  <thead>\n",
              "    <tr style=\"text-align: right;\">\n",
              "      <th></th>\n",
              "      <th>Stream</th>\n",
              "      <th>CGPA</th>\n",
              "      <th>Number_of_Students_Placed</th>\n",
              "      <th>Number_of_Students</th>\n",
              "      <th>percent_placed</th>\n",
              "    </tr>\n",
              "  </thead>\n",
              "  <tbody>\n",
              "    <tr>\n",
              "      <th>3</th>\n",
              "      <td>Electronics And Communication</td>\n",
              "      <td>7.125000</td>\n",
              "      <td>251</td>\n",
              "      <td>424</td>\n",
              "      <td>59.20</td>\n",
              "    </tr>\n",
              "    <tr>\n",
              "      <th>4</th>\n",
              "      <td>Information Technology</td>\n",
              "      <td>7.073806</td>\n",
              "      <td>409</td>\n",
              "      <td>691</td>\n",
              "      <td>59.19</td>\n",
              "    </tr>\n",
              "    <tr>\n",
              "      <th>1</th>\n",
              "      <td>Computer Science</td>\n",
              "      <td>7.039948</td>\n",
              "      <td>452</td>\n",
              "      <td>776</td>\n",
              "      <td>58.25</td>\n",
              "    </tr>\n",
              "    <tr>\n",
              "      <th>2</th>\n",
              "      <td>Electrical</td>\n",
              "      <td>7.080838</td>\n",
              "      <td>181</td>\n",
              "      <td>334</td>\n",
              "      <td>54.19</td>\n",
              "    </tr>\n",
              "    <tr>\n",
              "      <th>5</th>\n",
              "      <td>Mechanical</td>\n",
              "      <td>7.063679</td>\n",
              "      <td>200</td>\n",
              "      <td>424</td>\n",
              "      <td>47.17</td>\n",
              "    </tr>\n",
              "  </tbody>\n",
              "</table>\n",
              "</div>"
            ],
            "text/plain": [
              "                          Stream      CGPA  ...  Number_of_Students  percent_placed\n",
              "3  Electronics And Communication  7.125000  ...                 424           59.20\n",
              "4         Information Technology  7.073806  ...                 691           59.19\n",
              "1               Computer Science  7.039948  ...                 776           58.25\n",
              "2                     Electrical  7.080838  ...                 334           54.19\n",
              "5                     Mechanical  7.063679  ...                 424           47.17\n",
              "\n",
              "[5 rows x 5 columns]"
            ]
          },
          "metadata": {},
          "execution_count": 18
        }
      ]
    }
  ]
}