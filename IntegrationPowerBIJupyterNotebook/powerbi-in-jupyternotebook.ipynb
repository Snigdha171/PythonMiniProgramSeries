{
 "cells": [
  {
   "cell_type": "code",
   "execution_count": 8,
   "id": "19f8b311",
   "metadata": {},
   "outputs": [],
   "source": [
    "# Import libraries\n",
    "from powerbiclient import Report, models\n",
    "from powerbiclient.authentication import DeviceCodeLoginAuthentication"
   ]
  },
  {
   "cell_type": "code",
   "execution_count": 9,
   "id": "219750f4",
   "metadata": {},
   "outputs": [
    {
     "name": "stdout",
     "output_type": "stream",
     "text": [
      "Performing interactive authentication. Please follow the instructions on the terminal.\n",
      " To sign in, use a web browser to open the page https://microsoft.com/devicelogin and enter the code HF9YGF2PK to authenticate.\n",
      "You have logged in.\n",
      "Interactive authentication successfully completed.\n"
     ]
    }
   ],
   "source": [
    "# Initialize DeviceCodeLoginAuthentication object and sign in with the code and your microsoft username and pwd\n",
    "device_auth = DeviceCodeLoginAuthentication()"
   ]
  },
  {
   "cell_type": "code",
   "execution_count": 14,
   "id": "e4c990be",
   "metadata": {},
   "outputs": [],
   "source": [
    "# Create group id and report id\n",
    "group_id = \"54c45442-8e51-4b81-8adb-a97e77b2fa5e\"\n",
    "report_id = \"185eee44-1bdd-4ebe-a865-0df81a2d4a55\""
   ]
  },
  {
   "cell_type": "code",
   "execution_count": 15,
   "id": "9c1309eb",
   "metadata": {},
   "outputs": [],
   "source": [
    "# Create a report - \n",
    "report = Report(group_id=group_id, report_id=report_id, auth=device_auth)"
   ]
  },
  {
   "cell_type": "code",
   "execution_count": 17,
   "id": "d626634c",
   "metadata": {},
   "outputs": [
    {
     "data": {
      "application/vnd.jupyter.widget-view+json": {
       "model_id": "572d12f7cdb647b6a4635404024f4b00",
       "version_major": 2,
       "version_minor": 0
      },
      "text/plain": [
       "Report()"
      ]
     },
     "metadata": {},
     "output_type": "display_data"
    }
   ],
   "source": [
    "report"
   ]
  },
  {
   "cell_type": "code",
   "execution_count": null,
   "id": "7a0964ea",
   "metadata": {},
   "outputs": [],
   "source": []
  }
 ],
 "metadata": {
  "kernelspec": {
   "display_name": "Python 3",
   "language": "python",
   "name": "python3"
  },
  "language_info": {
   "codemirror_mode": {
    "name": "ipython",
    "version": 3
   },
   "file_extension": ".py",
   "mimetype": "text/x-python",
   "name": "python",
   "nbconvert_exporter": "python",
   "pygments_lexer": "ipython3",
   "version": "3.8.8"
  }
 },
 "nbformat": 4,
 "nbformat_minor": 5
}
