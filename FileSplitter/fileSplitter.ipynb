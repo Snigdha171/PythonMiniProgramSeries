{
 "cells": [
  {
   "cell_type": "code",
   "execution_count": 36,
   "metadata": {
    "collapsed": true
   },
   "outputs": [],
   "source": [
    "# Code Name - File Splitter\n",
    "# Code Description - Split the file based on number of lines"
   ]
  },
  {
   "cell_type": "code",
   "execution_count": 47,
   "metadata": {
    "collapsed": true
   },
   "outputs": [],
   "source": [
    "# Import the library\n",
    "import os\n",
    "from os import path\n",
    "import math"
   ]
  },
  {
   "cell_type": "code",
   "execution_count": 50,
   "metadata": {
    "collapsed": false
   },
   "outputs": [
    {
     "name": "stdout",
     "output_type": "stream",
     "text": [
      "Enter the file to be split including extension and press enter : sample.txt\n"
     ]
    }
   ],
   "source": [
    "# Ask input from the user to enter the name of the file\n",
    "filename = input('Enter the file to be split including extension and press enter : ')"
   ]
  },
  {
   "cell_type": "code",
   "execution_count": 51,
   "metadata": {
    "collapsed": false
   },
   "outputs": [],
   "source": [
    "# Check if file exist in that path else give proper message. Otherwise proceed with  splitting\n",
    "if not path.isfile(filename):\n",
    "    print(filename + \" is not present in \" + os.getcwd())"
   ]
  },
  {
   "cell_type": "code",
   "execution_count": 55,
   "metadata": {
    "collapsed": false
   },
   "outputs": [
    {
     "name": "stdout",
     "output_type": "stream",
     "text": [
      "The number of lines in the file is  22\n",
      "How many split files are required: 6\n"
     ]
    }
   ],
   "source": [
    "# Check for the number of lines in the file\n",
    "num_of_lines = sum(1 for line in open(filename))\n",
    "print('The number of lines in the file is ', num_of_lines)\n",
    "\n",
    "# Ask the user how many files they want to split in\n",
    "num_of_split_files = input('How many split files are required: ')\n",
    "if int(num_of_split_files) <= 1:\n",
    "    print('No Splitting is required')"
   ]
  },
  {
   "cell_type": "code",
   "execution_count": 56,
   "metadata": {
    "collapsed": false
   },
   "outputs": [
    {
     "name": "stdout",
     "output_type": "stream",
     "text": [
      "The line number in each file would be approx:  4\n"
     ]
    }
   ],
   "source": [
    "# Check the number of lines at which splitting should happen\n",
    "end_line_number = int(num_of_lines)/int(num_of_split_files)\n",
    "end_line_number = math.ceil(end_line_number)\n",
    "print('The line number in each file would be approx: ', end_line_number)"
   ]
  },
  {
   "cell_type": "code",
   "execution_count": 66,
   "metadata": {
    "collapsed": false
   },
   "outputs": [],
   "source": [
    "if int(num_of_split_files) > 1:\n",
    "    # Get the filename and extension of the file \n",
    "    fl_name, file_ext = os.path.splitext(filename)\n",
    "    \n",
    "    # Open the file\n",
    "    with open(filename, 'r') as input_file:\n",
    "        \n",
    "        # Maintain a file number \n",
    "        file_num = 0\n",
    "        \n",
    "        # Open the split file 1 with filename_0.extension\n",
    "        split_file = open('{}_{}{}'.format(fl_name, file_num, file_ext), 'w')\n",
    "        \n",
    "        # This code will give the line number and the content of that line\n",
    "        for i, line in enumerate(input_file):\n",
    "            \n",
    "            # Check for the value of i. The moment it reaches the split point, close the existing and open new\n",
    "            if ((i != 0) & (i % end_line_number == 0)):\n",
    "                \n",
    "                # Close the Existing File\n",
    "                split_file.close()\n",
    "                \n",
    "                # Increment the file number by 1\n",
    "                file_num = file_num + 1\n",
    "                \n",
    "                # Open the file with new file name and number\n",
    "                split_file = open('{}_{}{}'.format(fl_name, file_num, file_ext), 'w')\n",
    "                \n",
    "            # Write the line into the opened split file\n",
    "            split_file.write(line)\n",
    "        \n",
    "        # Close the file finally\n",
    "        split_file.close()"
   ]
  },
  {
   "cell_type": "code",
   "execution_count": null,
   "metadata": {
    "collapsed": true
   },
   "outputs": [],
   "source": []
  }
 ],
 "metadata": {
  "anaconda-cloud": {},
  "kernelspec": {
   "display_name": "Python [conda env:Anaconda]",
   "language": "python",
   "name": "conda-env-Anaconda-py"
  },
  "language_info": {
   "codemirror_mode": {
    "name": "ipython",
    "version": 3
   },
   "file_extension": ".py",
   "mimetype": "text/x-python",
   "name": "python",
   "nbconvert_exporter": "python",
   "pygments_lexer": "ipython3",
   "version": "3.5.6"
  }
 },
 "nbformat": 4,
 "nbformat_minor": 1
}
