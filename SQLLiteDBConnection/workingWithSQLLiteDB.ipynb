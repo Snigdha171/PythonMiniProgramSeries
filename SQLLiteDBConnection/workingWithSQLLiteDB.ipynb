{
 "cells": [
  {
   "cell_type": "markdown",
   "metadata": {},
   "source": [
    "# _Mini Program - Working with SQLLite DB using Python_\n",
    "\n",
    "### <font color=green>Objective -</font>\n",
    "<font color=blue>1. This program gives an idea how to connect with SQLLite DB using Python and perform data manipulation </font><br>\n",
    "\n",
    "<font color=blue>2. There are 2 ways in which tables are create below to help you understand the robustness of this language</font>"
   ]
  },
  {
   "cell_type": "markdown",
   "metadata": {},
   "source": [
    "### <font color=green>Step 1 - Import required libraries</font>\n",
    "#### <font color=blue>In this program we make used of 3 libraries</font>\n",
    "#### <font color=blue>1. sqlite3 - This module help to work with sql interface. It helps in performing db operations in sqllite database</font>\n",
    "#### <font color=blue>2. pandas - This module provides high performance and easy to use data manipulation and data analysis functionalities</font>\n",
    "#### <font color=blue>3. os - This module provides function to interact with operating system with easy use</font>\n",
    "    \n"
   ]
  },
  {
   "cell_type": "code",
   "execution_count": 1,
   "metadata": {},
   "outputs": [],
   "source": [
    "#Importing the required modules\n",
    "import sqlite3\n",
    "import pandas as pd\n",
    "import os"
   ]
  },
  {
   "cell_type": "markdown",
   "metadata": {},
   "source": [
    "### <font color=green>Step 2 - Creating a function to drop the table</font>\n",
    "#### <font color=blue>Function helps to re-create a reusable component that can be used conviniently and easily in other part of the code</font>\n",
    "#### <font color=blue>In Line 1 - We state the function name and specify the parameter being passed. In this case, the parameter is the table name</font>\n",
    "#### <font color=blue>In Line 2 - We write the sql query to be executed</font>\n",
    "#### <font color=blue>In Line 3 - We execute the query using the cursor object</font>"
   ]
  },
  {
   "cell_type": "code",
   "execution_count": 2,
   "metadata": {},
   "outputs": [],
   "source": [
    "#Creating a function to drop the table if it exists\n",
    "def dropTbl(tablename):\n",
    "    dropTblStmt = \"DROP TABLE IF EXISTS \" + tablename\n",
    "    c.execute(dropTblStmt)"
   ]
  },
  {
   "cell_type": "markdown",
   "metadata": {},
   "source": [
    "### <font color=green>Step 3 - We create the database in which our table will reside</font>\n",
    "#### <font color=blue>In Line 1 - We are removing the already existing database file</font>\n",
    "#### <font color=blue>In Line 2 - We use connect function from the sqlite3 module to create a database studentGrades.db and establish a connection</font>\n",
    "#### <font color=blue>In Line 3 - We create a context of the database connection. This help to run all the database queries</font>"
   ]
  },
  {
   "cell_type": "code",
   "execution_count": 3,
   "metadata": {},
   "outputs": [],
   "source": [
    "#Removing the database file\n",
    "os.remove('studentGrades.db')\n",
    "\n",
    "#Creating a new database - studentGrades.db\n",
    "conn = sqlite3.connect(\"studentGrades.db\")\n",
    "c = conn.cursor()"
   ]
  },
  {
   "cell_type": "markdown",
   "metadata": {},
   "source": [
    "### <font color=green>Step 4 - We create a table in sqllite DB using data defined in the excel file</font>\n",
    "#### <font color=blue>This is the first method in which you can create a table. You can use to_sql function directly to read a dataframe and dump all it's content to the table</font>\n",
    "#### <font color=blue>In Line 1 - We are making use of dropTbl function created above to drop the table</font>\n",
    "#### <font color=blue>In Line 2 - We are creating a dataframe from the data read from the csv</font>\n",
    "#### <font color=blue>In Line 3 - We use to_sql function to push the data into the table. The first row of the file becomes the column name of the tables</font>\n",
    "#### <font color=blue>We repeat the above steps for all the 3 files to create 3 tables - STUDENT, GRADES and SUBJECTS</font>"
   ]
  },
  {
   "cell_type": "code",
   "execution_count": 4,
   "metadata": {},
   "outputs": [],
   "source": [
    "#Reading data from csv file - student details, grades and subject\n",
    "dropTbl('STUDENT')\n",
    "student_details = pd.read_csv(\"Datafiles/studentDetails.csv\")\n",
    "student_details.to_sql('STUDENT',conn,index = False)\n",
    "\n",
    "dropTbl('GRADES')\n",
    "student_grades = pd.read_csv('Datafiles/studentGrades.csv')\n",
    "student_grades.to_sql('GRADES',conn,index = False)\n",
    "\n",
    "dropTbl('SUBJECTS')\n",
    "subjects = pd.read_csv(\"Datafiles/subjects.csv\")\n",
    "subjects.to_sql('SUBJECTS',conn,index = False)"
   ]
  },
  {
   "cell_type": "markdown",
   "metadata": {},
   "source": [
    "### <font color=green>Step 5 - We create a master table STUDENT_GRADE_MASTER where we can colate the data from the individual tables by performing the joining operations</font>\n",
    "#### <font color=blue>In Line 1 - We are making use of dropTbl function created above to drop the table</font>\n",
    "#### <font color=blue>In Line 2 - We are writing sql query for table creation</font>\n",
    "#### <font color=blue>In Line 3 - We are using the cursor created above to execute the sql statement</font>\n",
    "#### <font color=blue>In Line 4 - We are using the second method of inserting data into the table. We are writing a query to insert the data after joining the data from all the tables</font>\n",
    "#### <font color=blue>In Line 5 - We are using the cursor created above to execute the sql statement</font>\n",
    "#### <font color=blue>In Line 6 - We are doing a commit operation. Since INSERT operation is a ddl, we have to perform a commit operation to register it into the database</font>"
   ]
  },
  {
   "cell_type": "code",
   "execution_count": 5,
   "metadata": {},
   "outputs": [
    {
     "data": {
      "text/plain": [
       "<sqlite3.Cursor at 0x15f081a5340>"
      ]
     },
     "execution_count": 5,
     "metadata": {},
     "output_type": "execute_result"
    }
   ],
   "source": [
    "#Creating a table to store student master data\n",
    "dropTbl('STUDENT_GRADE_MASTER')\n",
    "createTblStmt = '''CREATE TABLE STUDENT_GRADE_MASTER\n",
    "                    ([Roll_number] INTEGER,\n",
    "                     [Student_Name] TEXT,\n",
    "                     [Stream] TEXT,\n",
    "                     [Subject] TEXT,\n",
    "                     [Marks] INTEGER\n",
    "                    )'''\n",
    "c.execute(createTblStmt)\n",
    "\n",
    "#Inserting data into the master table by joining the tables mentioned above\n",
    "queryMaster = '''INSERT INTO STUDENT_GRADE_MASTER(Roll_number,Student_Name,Stream,Subject,Marks)\n",
    "                 SELECT g.roll_number, s.student_name, stream, sub.subject, marks from GRADES g \n",
    "                 LEFT OUTER JOIN STUDENT s on g.roll_number = s.roll_number\n",
    "                 LEFT OUTER JOIN SUBJECTS sub on g.subject_code = sub.subject_code'''\n",
    "\n",
    "c.execute(queryMaster)\n",
    "c.execute(\"COMMIT\")"
   ]
  },
  {
   "cell_type": "markdown",
   "metadata": {},
   "source": [
    "### <font color=green>Step 6 - We can perform data fetch like we do in sqls using this sqlite3 module</font>\n",
    "#### <font color=blue>In Line 1 - We are writing a query to find the number of records in the master table</font>\n",
    "#### <font color=blue>In Line 2 - We are executing the above created query</font>\n",
    "#### <font color=blue>In Line 3 - fetchall function is used to get the result returned by the query. The result will be in the form of a list of tuples</font>\n",
    "#### <font color=blue>In Line 4 - We are writing another query to find the maximum marks recorded for each subject</font>\n",
    "#### <font color=blue>In Line 5 - We are executing the above created query</font>\n",
    "#### <font color=blue>In Line 6 - fetchall function is used to get the result returned by the query. The result will be in the form of a list of tuples</font>\n",
    "#### <font color=blue>In Line 7 - We are writing another query to find the percentage of marks obtained by each student in the class</font>\n",
    "#### <font color=blue>In Line 8 - We are executing the above created query</font>\n",
    "#### <font color=blue>In Line 9 - fetchall function is used to get the result returned by the query. The result will be in the form of a list of tuples</font>"
   ]
  },
  {
   "cell_type": "code",
   "execution_count": 6,
   "metadata": {},
   "outputs": [
    {
     "name": "stdout",
     "output_type": "stream",
     "text": [
      "[(20,)]\n",
      "[('C', 97), ('C++', 95), ('Environmental studies', 92), ('Java', 96), ('Maths', 98)]\n",
      "[('Abhishek', 94.2), ('Anand', 85.2), ('Sourabh', 89.0), ('Vivek', 84.8)]\n"
     ]
    }
   ],
   "source": [
    "#Finding the key data from the master table\n",
    "\n",
    "#1. Find the number of records in the master table\n",
    "query_count = '''SELECT COUNT(*) FROM  STUDENT_GRADE_MASTER'''\n",
    "c.execute(query_count)\n",
    "number_of_records = c.fetchall()\n",
    "print(number_of_records)\n",
    "\n",
    "#2. Maximum marks for each subject\n",
    "query_max_marks = '''SELECT Subject,max(Marks) as 'Max_Marks' from STUDENT_GRADE_MASTER GROUP BY Subject'''\n",
    "c.execute(query_max_marks)\n",
    "max_marks_data = c.fetchall()\n",
    "print(max_marks_data)\n",
    "\n",
    "#3. Percenatge of marks scored by each student\n",
    "query_percentage = '''SELECT Student_Name, avg(Marks) as 'Percentage' from STUDENT_GRADE_MASTER GROUP BY Student_Name'''\n",
    "c.execute(query_percentage)\n",
    "percentage_data = c.fetchall()\n",
    "print(percentage_data)\n"
   ]
  },
  {
   "cell_type": "markdown",
   "metadata": {},
   "source": [
    "### <font color=green>Step 7 - We are closing the database connection</font>\n",
    "#### <font color=blue>It is always a good practice to close the database connection after all the operations are completed</font>"
   ]
  },
  {
   "cell_type": "code",
   "execution_count": 7,
   "metadata": {},
   "outputs": [],
   "source": [
    "#Closing the connection\n",
    "conn.close()"
   ]
  },
  {
   "cell_type": "code",
   "execution_count": null,
   "metadata": {},
   "outputs": [],
   "source": []
  }
 ],
 "metadata": {
  "kernelspec": {
   "display_name": "Python 3",
   "language": "python",
   "name": "python3"
  },
  "language_info": {
   "codemirror_mode": {
    "name": "ipython",
    "version": 3
   },
   "file_extension": ".py",
   "mimetype": "text/x-python",
   "name": "python",
   "nbconvert_exporter": "python",
   "pygments_lexer": "ipython3",
   "version": "3.6.5"
  }
 },
 "nbformat": 4,
 "nbformat_minor": 2
}
