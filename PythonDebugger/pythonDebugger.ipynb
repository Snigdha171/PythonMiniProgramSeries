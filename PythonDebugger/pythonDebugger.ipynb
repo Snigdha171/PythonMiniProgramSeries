{
 "cells": [
  {
   "cell_type": "code",
   "execution_count": 1,
   "metadata": {
    "collapsed": false
   },
   "outputs": [],
   "source": [
    "import pdb"
   ]
  },
  {
   "cell_type": "code",
   "execution_count": 2,
   "metadata": {
    "collapsed": true
   },
   "outputs": [],
   "source": [
    "# Definition to count words in a sentence\n",
    "def count_words(sentence):\n",
    "    pdb.set_trace\n",
    "    return len(sentence.split())"
   ]
  },
  {
   "cell_type": "code",
   "execution_count": 3,
   "metadata": {
    "collapsed": false
   },
   "outputs": [],
   "source": [
    "# Definition to count upper case letters in a sentence\n",
    "def upper_letter_count(sentence):\n",
    "    upper_count = 0\n",
    "    pdb.set_trace()\n",
    "    for each_letter in sentence:\n",
    "        if each_letter.isupper():\n",
    "            upper_count += 1\n",
    "    pdb.set_trace()\n",
    "    return upper_count"
   ]
  },
  {
   "cell_type": "code",
   "execution_count": 4,
   "metadata": {
    "collapsed": true
   },
   "outputs": [],
   "source": [
    "# Definition to count lower case letters in a sentence\n",
    "def lower_letter_count(sentence):\n",
    "    lower_count = 0\n",
    "    pdb.set_trace()\n",
    "    for each_letter in sentence:\n",
    "        if each_letter.islower():\n",
    "            lower_count += 1\n",
    "    pdb.set_trace()\n",
    "    return lower_count"
   ]
  },
  {
   "cell_type": "code",
   "execution_count": 5,
   "metadata": {
    "collapsed": false
   },
   "outputs": [
    {
     "name": "stdout",
     "output_type": "stream",
     "text": [
      "Enter a sentence: Hello World\n",
      "> <ipython-input-3-24100f334cef>(5)upper_letter_count()\n",
      "-> for each_letter in sentence:\n",
      "(Pdb) sentence\n",
      "'Hello World'\n",
      "(Pdb) c\n",
      "> <ipython-input-3-24100f334cef>(9)upper_letter_count()\n",
      "-> return upper_count\n",
      "(Pdb) upper_count\n",
      "2\n",
      "(Pdb) c\n",
      "> <ipython-input-4-f94e74f005f3>(5)lower_letter_count()\n",
      "-> for each_letter in sentence:\n",
      "(Pdb) sentence\n",
      "'Hello World'\n",
      "(Pdb) c\n",
      "> <ipython-input-4-f94e74f005f3>(9)lower_letter_count()\n",
      "-> return lower_count\n",
      "(Pdb) lower_count\n",
      "8\n",
      "(Pdb) c\n",
      "Hello World has 2 words and 2 upper case letters and 8 lower case letters\n"
     ]
    }
   ],
   "source": [
    "# Taking input from the users and printing the output\n",
    "input_sentence = input('Enter a sentence: ')\n",
    "word_count = count_words(input_sentence)\n",
    "upper_case_count = upper_letter_count(input_sentence)\n",
    "lower_case_count = lower_letter_count(input_sentence)\n",
    "print(input_sentence + \" has \" + str(word_count) + \" words and \" + \n",
    "      str(upper_case_count) + \" upper case letters and \" + \n",
    "      str(lower_case_count) + \" lower case letters\")"
   ]
  },
  {
   "cell_type": "raw",
   "metadata": {},
   "source": []
  },
  {
   "cell_type": "code",
   "execution_count": null,
   "metadata": {
    "collapsed": true
   },
   "outputs": [],
   "source": []
  }
 ],
 "metadata": {
  "anaconda-cloud": {},
  "kernelspec": {
   "display_name": "Python [conda env:Anaconda]",
   "language": "python",
   "name": "conda-env-Anaconda-py"
  },
  "language_info": {
   "codemirror_mode": {
    "name": "ipython",
    "version": 3
   },
   "file_extension": ".py",
   "mimetype": "text/x-python",
   "name": "python",
   "nbconvert_exporter": "python",
   "pygments_lexer": "ipython3",
   "version": "3.5.6"
  }
 },
 "nbformat": 4,
 "nbformat_minor": 1
}
