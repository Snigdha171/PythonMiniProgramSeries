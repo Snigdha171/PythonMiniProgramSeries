{
 "cells": [
  {
   "cell_type": "markdown",
   "metadata": {
    "id": "iufYcfnnTubV"
   },
   "source": [
    "## **Dataset Selection**"
   ]
  },
  {
   "cell_type": "code",
   "execution_count": null,
   "metadata": {
    "id": "qyyFhQOM3qAr"
   },
   "outputs": [],
   "source": [
    "! pip install -q kaggle\n",
    "#from google.colab import files\n",
    "#files.upload()"
   ]
  },
  {
   "cell_type": "code",
   "execution_count": null,
   "metadata": {
    "id": "rQNM7Br23yzW"
   },
   "outputs": [],
   "source": [
    "! mkdir ~/.kaggle\n",
    "! cp kaggle.json ~/.kaggle/\n",
    "! chmod 600 ~/.kaggle/kaggle.json\n",
    "\n",
    "#! kaggle datasets download -d mirichoi0218/insurance\n",
    "\n",
    "#! unzip insurance.zip -d health-insurance"
   ]
  },
  {
   "cell_type": "code",
   "execution_count": null,
   "metadata": {
    "colab": {
     "base_uri": "https://localhost:8080/"
    },
    "id": "pxsND09wy0LG",
    "outputId": "122f59a2-7d43-49eb-9bf5-6af9d13ecbee"
   },
   "outputs": [
    {
     "name": "stdout",
     "output_type": "stream",
     "text": [
      "Downloading insurance.zip to /content\n",
      "\r",
      "  0% 0.00/16.0k [00:00<?, ?B/s]\n",
      "\r",
      "100% 16.0k/16.0k [00:00<00:00, 29.9MB/s]\n",
      "Archive:  insurance.zip\n",
      "  inflating: health-insurance/insurance.csv  \n"
     ]
    }
   ],
   "source": [
    "! kaggle datasets download -d mirichoi0218/insurance\n",
    "\n",
    "! unzip insurance.zip -d health-insurance"
   ]
  },
  {
   "cell_type": "markdown",
   "metadata": {
    "id": "QicAD0MM8EFn"
   },
   "source": [
    "## **Importing Libraries**"
   ]
  },
  {
   "cell_type": "code",
   "execution_count": null,
   "metadata": {
    "colab": {
     "base_uri": "https://localhost:8080/"
    },
    "id": "w3lgkE9b8JA9",
    "outputId": "5ed6b6dc-f9c1-497c-f188-434cdf34a162"
   },
   "outputs": [
    {
     "name": "stderr",
     "output_type": "stream",
     "text": [
      "/usr/local/lib/python3.6/dist-packages/statsmodels/tools/_testing.py:19: FutureWarning: pandas.util.testing is deprecated. Use the functions in the public API at pandas.testing instead.\n",
      "  import pandas.util.testing as tm\n"
     ]
    }
   ],
   "source": [
    "import pandas as pd\n",
    "import matplotlib.pyplot as plt\n",
    "import seaborn as sns\n",
    "from matplotlib.cbook import boxplot_stats  \n",
    "import statsmodels.api as sm\n",
    "from sklearn.model_selection import train_test_split,GridSearchCV, cross_val_score, cross_val_predict\n",
    "from statsmodels.stats.outliers_influence import variance_inflation_factor \n",
    "from sklearn.tree import DecisionTreeRegressor\n",
    "from sklearn import ensemble\n",
    "import numpy as np\n",
    "import pickle"
   ]
  },
  {
   "cell_type": "markdown",
   "metadata": {
    "id": "8UCK-e1LOo5l"
   },
   "source": [
    "## **Reading and summarizing the data**"
   ]
  },
  {
   "cell_type": "code",
   "execution_count": null,
   "metadata": {
    "id": "iSI4GPqi7tFa"
   },
   "outputs": [],
   "source": [
    "health_ins_df = pd.read_csv(\"health-insurance/insurance.csv\")"
   ]
  },
  {
   "cell_type": "code",
   "execution_count": null,
   "metadata": {
    "colab": {
     "base_uri": "https://localhost:8080/",
     "height": 204
    },
    "id": "1TF-HfCI8gaw",
    "outputId": "1c67db5d-7959-4f6b-e5f3-c1241af4a5b1"
   },
   "outputs": [
    {
     "data": {
      "text/html": [
       "<div>\n",
       "<style scoped>\n",
       "    .dataframe tbody tr th:only-of-type {\n",
       "        vertical-align: middle;\n",
       "    }\n",
       "\n",
       "    .dataframe tbody tr th {\n",
       "        vertical-align: top;\n",
       "    }\n",
       "\n",
       "    .dataframe thead th {\n",
       "        text-align: right;\n",
       "    }\n",
       "</style>\n",
       "<table border=\"1\" class=\"dataframe\">\n",
       "  <thead>\n",
       "    <tr style=\"text-align: right;\">\n",
       "      <th></th>\n",
       "      <th>age</th>\n",
       "      <th>sex</th>\n",
       "      <th>bmi</th>\n",
       "      <th>children</th>\n",
       "      <th>smoker</th>\n",
       "      <th>region</th>\n",
       "      <th>charges</th>\n",
       "    </tr>\n",
       "  </thead>\n",
       "  <tbody>\n",
       "    <tr>\n",
       "      <th>0</th>\n",
       "      <td>19</td>\n",
       "      <td>female</td>\n",
       "      <td>27.900</td>\n",
       "      <td>0</td>\n",
       "      <td>yes</td>\n",
       "      <td>southwest</td>\n",
       "      <td>16884.92400</td>\n",
       "    </tr>\n",
       "    <tr>\n",
       "      <th>1</th>\n",
       "      <td>18</td>\n",
       "      <td>male</td>\n",
       "      <td>33.770</td>\n",
       "      <td>1</td>\n",
       "      <td>no</td>\n",
       "      <td>southeast</td>\n",
       "      <td>1725.55230</td>\n",
       "    </tr>\n",
       "    <tr>\n",
       "      <th>2</th>\n",
       "      <td>28</td>\n",
       "      <td>male</td>\n",
       "      <td>33.000</td>\n",
       "      <td>3</td>\n",
       "      <td>no</td>\n",
       "      <td>southeast</td>\n",
       "      <td>4449.46200</td>\n",
       "    </tr>\n",
       "    <tr>\n",
       "      <th>3</th>\n",
       "      <td>33</td>\n",
       "      <td>male</td>\n",
       "      <td>22.705</td>\n",
       "      <td>0</td>\n",
       "      <td>no</td>\n",
       "      <td>northwest</td>\n",
       "      <td>21984.47061</td>\n",
       "    </tr>\n",
       "    <tr>\n",
       "      <th>4</th>\n",
       "      <td>32</td>\n",
       "      <td>male</td>\n",
       "      <td>28.880</td>\n",
       "      <td>0</td>\n",
       "      <td>no</td>\n",
       "      <td>northwest</td>\n",
       "      <td>3866.85520</td>\n",
       "    </tr>\n",
       "  </tbody>\n",
       "</table>\n",
       "</div>"
      ],
      "text/plain": [
       "   age     sex     bmi  children smoker     region      charges\n",
       "0   19  female  27.900         0    yes  southwest  16884.92400\n",
       "1   18    male  33.770         1     no  southeast   1725.55230\n",
       "2   28    male  33.000         3     no  southeast   4449.46200\n",
       "3   33    male  22.705         0     no  northwest  21984.47061\n",
       "4   32    male  28.880         0     no  northwest   3866.85520"
      ]
     },
     "execution_count": 6,
     "metadata": {
      "tags": []
     },
     "output_type": "execute_result"
    }
   ],
   "source": [
    "health_ins_df.head(5)"
   ]
  },
  {
   "cell_type": "code",
   "execution_count": null,
   "metadata": {
    "colab": {
     "base_uri": "https://localhost:8080/"
    },
    "id": "Hgw_Y3lt9Apq",
    "outputId": "83e5ae6c-725f-42a1-c46a-eea46fe46e7b"
   },
   "outputs": [
    {
     "data": {
      "text/plain": [
       "Index(['age', 'sex', 'bmi', 'children', 'smoker', 'region', 'charges'], dtype='object')"
      ]
     },
     "execution_count": 7,
     "metadata": {
      "tags": []
     },
     "output_type": "execute_result"
    }
   ],
   "source": [
    "health_ins_df.columns"
   ]
  },
  {
   "cell_type": "code",
   "execution_count": null,
   "metadata": {
    "colab": {
     "base_uri": "https://localhost:8080/"
    },
    "id": "v-quV4em9KRy",
    "outputId": "165cfb2b-d757-404c-9a2c-208b6ee64597"
   },
   "outputs": [
    {
     "data": {
      "text/plain": [
       "(1338, 7)"
      ]
     },
     "execution_count": 8,
     "metadata": {
      "tags": []
     },
     "output_type": "execute_result"
    }
   ],
   "source": [
    "health_ins_df.shape\n",
    "#There are 1338 rows and 7 columns"
   ]
  },
  {
   "cell_type": "code",
   "execution_count": null,
   "metadata": {
    "colab": {
     "base_uri": "https://localhost:8080/"
    },
    "id": "zCiliXQi9XWY",
    "outputId": "ef620b4f-92b4-405f-e95a-9343b0b6ec3a"
   },
   "outputs": [
    {
     "name": "stdout",
     "output_type": "stream",
     "text": [
      "<class 'pandas.core.frame.DataFrame'>\n",
      "RangeIndex: 1338 entries, 0 to 1337\n",
      "Data columns (total 7 columns):\n",
      " #   Column    Non-Null Count  Dtype  \n",
      "---  ------    --------------  -----  \n",
      " 0   age       1338 non-null   int64  \n",
      " 1   sex       1338 non-null   object \n",
      " 2   bmi       1338 non-null   float64\n",
      " 3   children  1338 non-null   int64  \n",
      " 4   smoker    1338 non-null   object \n",
      " 5   region    1338 non-null   object \n",
      " 6   charges   1338 non-null   float64\n",
      "dtypes: float64(2), int64(2), object(3)\n",
      "memory usage: 73.3+ KB\n"
     ]
    }
   ],
   "source": [
    "health_ins_df.info()"
   ]
  },
  {
   "cell_type": "code",
   "execution_count": null,
   "metadata": {
    "colab": {
     "base_uri": "https://localhost:8080/",
     "height": 297
    },
    "id": "G9o3McDr9joK",
    "outputId": "b2d6fb0e-4bdd-4c37-ce54-d13cdf227940"
   },
   "outputs": [
    {
     "data": {
      "text/html": [
       "<div>\n",
       "<style scoped>\n",
       "    .dataframe tbody tr th:only-of-type {\n",
       "        vertical-align: middle;\n",
       "    }\n",
       "\n",
       "    .dataframe tbody tr th {\n",
       "        vertical-align: top;\n",
       "    }\n",
       "\n",
       "    .dataframe thead th {\n",
       "        text-align: right;\n",
       "    }\n",
       "</style>\n",
       "<table border=\"1\" class=\"dataframe\">\n",
       "  <thead>\n",
       "    <tr style=\"text-align: right;\">\n",
       "      <th></th>\n",
       "      <th>age</th>\n",
       "      <th>bmi</th>\n",
       "      <th>children</th>\n",
       "      <th>charges</th>\n",
       "    </tr>\n",
       "  </thead>\n",
       "  <tbody>\n",
       "    <tr>\n",
       "      <th>count</th>\n",
       "      <td>1338.000000</td>\n",
       "      <td>1338.000000</td>\n",
       "      <td>1338.000000</td>\n",
       "      <td>1338.000000</td>\n",
       "    </tr>\n",
       "    <tr>\n",
       "      <th>mean</th>\n",
       "      <td>39.207025</td>\n",
       "      <td>30.663397</td>\n",
       "      <td>1.094918</td>\n",
       "      <td>13270.422265</td>\n",
       "    </tr>\n",
       "    <tr>\n",
       "      <th>std</th>\n",
       "      <td>14.049960</td>\n",
       "      <td>6.098187</td>\n",
       "      <td>1.205493</td>\n",
       "      <td>12110.011237</td>\n",
       "    </tr>\n",
       "    <tr>\n",
       "      <th>min</th>\n",
       "      <td>18.000000</td>\n",
       "      <td>15.960000</td>\n",
       "      <td>0.000000</td>\n",
       "      <td>1121.873900</td>\n",
       "    </tr>\n",
       "    <tr>\n",
       "      <th>25%</th>\n",
       "      <td>27.000000</td>\n",
       "      <td>26.296250</td>\n",
       "      <td>0.000000</td>\n",
       "      <td>4740.287150</td>\n",
       "    </tr>\n",
       "    <tr>\n",
       "      <th>50%</th>\n",
       "      <td>39.000000</td>\n",
       "      <td>30.400000</td>\n",
       "      <td>1.000000</td>\n",
       "      <td>9382.033000</td>\n",
       "    </tr>\n",
       "    <tr>\n",
       "      <th>75%</th>\n",
       "      <td>51.000000</td>\n",
       "      <td>34.693750</td>\n",
       "      <td>2.000000</td>\n",
       "      <td>16639.912515</td>\n",
       "    </tr>\n",
       "    <tr>\n",
       "      <th>max</th>\n",
       "      <td>64.000000</td>\n",
       "      <td>53.130000</td>\n",
       "      <td>5.000000</td>\n",
       "      <td>63770.428010</td>\n",
       "    </tr>\n",
       "  </tbody>\n",
       "</table>\n",
       "</div>"
      ],
      "text/plain": [
       "               age          bmi     children       charges\n",
       "count  1338.000000  1338.000000  1338.000000   1338.000000\n",
       "mean     39.207025    30.663397     1.094918  13270.422265\n",
       "std      14.049960     6.098187     1.205493  12110.011237\n",
       "min      18.000000    15.960000     0.000000   1121.873900\n",
       "25%      27.000000    26.296250     0.000000   4740.287150\n",
       "50%      39.000000    30.400000     1.000000   9382.033000\n",
       "75%      51.000000    34.693750     2.000000  16639.912515\n",
       "max      64.000000    53.130000     5.000000  63770.428010"
      ]
     },
     "execution_count": 31,
     "metadata": {
      "tags": []
     },
     "output_type": "execute_result"
    }
   ],
   "source": [
    "health_ins_df.describe()"
   ]
  },
  {
   "cell_type": "markdown",
   "metadata": {
    "id": "Dsro5NPUOOg8"
   },
   "source": [
    "## **Data Cleaning and Exploratory Data Analysis**"
   ]
  },
  {
   "cell_type": "code",
   "execution_count": null,
   "metadata": {
    "colab": {
     "base_uri": "https://localhost:8080/"
    },
    "id": "djlWRuIiOzkn",
    "outputId": "c598460b-8888-4ce9-b74f-9a7f478ca198"
   },
   "outputs": [
    {
     "data": {
      "text/plain": [
       "age         0\n",
       "sex         0\n",
       "bmi         0\n",
       "children    0\n",
       "smoker      0\n",
       "region      0\n",
       "charges     0\n",
       "dtype: int64"
      ]
     },
     "execution_count": 32,
     "metadata": {
      "tags": []
     },
     "output_type": "execute_result"
    }
   ],
   "source": [
    "#Finding null values\n",
    "health_ins_df.isnull().sum()\n",
    "\n",
    "#There are no null values in the dataset"
   ]
  },
  {
   "cell_type": "markdown",
   "metadata": {
    "id": "VuK1x9ALLG-A"
   },
   "source": [
    "### **Visualizing numerical variables**"
   ]
  },
  {
   "cell_type": "code",
   "execution_count": null,
   "metadata": {
    "colab": {
     "base_uri": "https://localhost:8080/",
     "height": 334
    },
    "id": "pnQzqXbNPKEb",
    "outputId": "dd95721f-1644-4d93-a9a2-e864ff94a21f"
   },
   "outputs": [
    {
     "data": {
      "image/png": "[encoded data removed]",
      "text/plain": [
       "<Figure size 720x360 with 2 Axes>"
      ]
     },
     "metadata": {
      "needs_background": "light",
      "tags": []
     },
     "output_type": "display_data"
    }
   ],
   "source": [
    "#Visualizing age column with a histogram\n",
    "fig,axes=plt.subplots(1,2,figsize=(10,5))\n",
    "sns.histplot( health_ins_df['age'] , color=\"skyblue\",ax=axes[0])\n",
    "sns.histplot( health_ins_df['bmi'] , color=\"olive\",ax=axes[1])\n",
    "plt.show()"
   ]
  },
  {
   "cell_type": "markdown",
   "metadata": {
    "id": "qCXJ5oiEG-uL"
   },
   "source": [
    "*   We will convert age into age bracket\n",
    "*   BMI is close to normal distribution"
   ]
  },
  {
   "cell_type": "code",
   "execution_count": null,
   "metadata": {
    "colab": {
     "base_uri": "https://localhost:8080/",
     "height": 334
    },
    "id": "kMnesU0UV64v",
    "outputId": "4172d3dc-d05b-47db-b2f4-9cf9d5736e6a"
   },
   "outputs": [
    {
     "data": {
      "image/png": "[encoded data removed]",
      "text/plain": [
       "<Figure size 720x360 with 2 Axes>"
      ]
     },
     "metadata": {
      "needs_background": "light",
      "tags": []
     },
     "output_type": "display_data"
    }
   ],
   "source": [
    "#Visualizing age column with a boxplot\n",
    "fig,axes=plt.subplots(1,2,figsize=(10,5))\n",
    "\n",
    "sns.boxplot(x = 'age', data = health_ins_df, ax=axes[0])\n",
    "sns.boxplot(x = 'bmi', data = health_ins_df, ax=axes[1])\n",
    "\n",
    "plt.show()"
   ]
  },
  {
   "cell_type": "code",
   "execution_count": null,
   "metadata": {
    "colab": {
     "base_uri": "https://localhost:8080/"
    },
    "id": "2LdGgf-tITsj",
    "outputId": "050f5d6d-6cba-45bc-d4fa-db980131afd3"
   },
   "outputs": [
    {
     "name": "stdout",
     "output_type": "stream",
     "text": [
      "[49.06, 48.07, 47.52, 47.41, 50.38, 47.6, 52.58, 47.74, 53.13]\n",
      "Number of rows contaning outliers in bmi :  9\n",
      "Percentage of outliers in bmi columns :  0.672645739910314\n"
     ]
    }
   ],
   "source": [
    "#Finding the outlier values in the bmi column\n",
    "outlier_list = boxplot_stats(health_ins_df.bmi).pop(0)['fliers'].tolist()\n",
    "print(outlier_list)\n",
    "\n",
    "#Finding the number of rows containing outliers\n",
    "outlier_bmi_rows = health_ins_df[health_ins_df.bmi.isin(outlier_list)].shape[0]\n",
    "print(\"Number of rows contaning outliers in bmi : \", outlier_bmi_rows)\n",
    "\n",
    "#Percentage of rows which are outliers\n",
    "percent_bmi_outlier = (outlier_bmi_rows/health_ins_df.shape[0])*100\n",
    "print(\"Percentage of outliers in bmi columns : \", percent_bmi_outlier)"
   ]
  },
  {
   "cell_type": "markdown",
   "metadata": {
    "id": "Au4SbyEkJpJy"
   },
   "source": [
    "The outlier % is neglible (0.67%). Hence these rows can be dropped"
   ]
  },
  {
   "cell_type": "markdown",
   "metadata": {
    "id": "bsWgIHS9K3fx"
   },
   "source": [
    "### **Data Transformation of Numerical Variables**"
   ]
  },
  {
   "cell_type": "code",
   "execution_count": null,
   "metadata": {
    "colab": {
     "base_uri": "https://localhost:8080/"
    },
    "id": "00rHBRs-LOi2",
    "outputId": "39394016-e2a5-4168-e582-fc7a307c547d"
   },
   "outputs": [
    {
     "name": "stdout",
     "output_type": "stream",
     "text": [
      "Minimum value for age :  18 \n",
      "Maximum value for age :  64\n"
     ]
    }
   ],
   "source": [
    "#Converting age into age brackets\n",
    "print(\"Minimum value for age : \", health_ins_df['age'].min(),\"\\nMaximum value for age : \", health_ins_df['age'].max())\n",
    "\n",
    "#Age between 18 to 40 years will fall under young\n",
    "#Age between 41 to 58 years will fall under mid-age\n",
    "#Age above 58 years will fall under old age\n",
    "\n",
    "health_ins_df.loc[(health_ins_df['age'] >=18) & (health_ins_df['age'] <= 40), 'age_group'] = 'young'\n",
    "health_ins_df.loc[(health_ins_df['age'] >= 41) & (health_ins_df['age'] <= 58), 'age_group'] = 'mid-age'\n",
    "health_ins_df.loc[health_ins_df['age'] > 58, 'age_group'] = 'old'\n"
   ]
  },
  {
   "cell_type": "code",
   "execution_count": null,
   "metadata": {
    "colab": {
     "base_uri": "https://localhost:8080/",
     "height": 296
    },
    "id": "fbuvHTcQOxDV",
    "outputId": "86b52a44-73c0-44a7-fe35-4d33b596754f"
   },
   "outputs": [
    {
     "data": {
      "text/plain": [
       "<matplotlib.axes._subplots.AxesSubplot at 0x7fc37a4f5d30>"
      ]
     },
     "execution_count": 13,
     "metadata": {
      "tags": []
     },
     "output_type": "execute_result"
    },
    {
     "data": {
      "image/png": "[encoded data removed]",
      "text/plain": [
       "<Figure size 432x288 with 1 Axes>"
      ]
     },
     "metadata": {
      "needs_background": "light",
      "tags": []
     },
     "output_type": "display_data"
    }
   ],
   "source": [
    "#Removing outier from bmi column\n",
    "health_ins_df_clean = health_ins_df[~health_ins_df.bmi.isin(outlier_list)]\n",
    "sns.boxplot(x = 'bmi', data = health_ins_df_clean)"
   ]
  },
  {
   "cell_type": "markdown",
   "metadata": {
    "id": "GL0nL9LZRou6"
   },
   "source": [
    "### **Visualizing categorical variables**"
   ]
  },
  {
   "cell_type": "code",
   "execution_count": null,
   "metadata": {
    "colab": {
     "base_uri": "https://localhost:8080/",
     "height": 422
    },
    "id": "ZawM4a5XRxyE",
    "outputId": "1cdf93b4-6d29-483d-83d8-79eecf35f034"
   },
   "outputs": [
    {
     "data": {
      "text/plain": [
       "<matplotlib.axes._subplots.AxesSubplot at 0x7fc3792fd160>"
      ]
     },
     "execution_count": 15,
     "metadata": {
      "tags": []
     },
     "output_type": "execute_result"
    },
    {
     "data": {
      "image/png": "[encoded data removed]",
      "text/plain": [
       "<Figure size 1440x576 with 5 Axes>"
      ]
     },
     "metadata": {
      "needs_background": "light",
      "tags": []
     },
     "output_type": "display_data"
    }
   ],
   "source": [
    "fig,axes=plt.subplots(1,5,figsize=(20,8))\n",
    "sns.countplot(x = 'sex', data = health_ins_df_clean, palette = 'magma',ax=axes[0])\n",
    "sns.countplot(x = 'children', data = health_ins_df_clean, palette = 'magma',ax=axes[1])\n",
    "sns.countplot(x = 'smoker', data = health_ins_df_clean, palette = 'magma',ax=axes[2])\n",
    "sns.countplot(x = 'region', data = health_ins_df_clean, palette = 'magma',ax=axes[3])\n",
    "sns.countplot(x = 'age_group', data = health_ins_df_clean, palette = 'magma',ax=axes[4])"
   ]
  },
  {
   "cell_type": "code",
   "execution_count": null,
   "metadata": {
    "colab": {
     "base_uri": "https://localhost:8080/",
     "height": 269
    },
    "id": "FEIDkIS2wY-Y",
    "outputId": "df37522b-4ef1-4030-b1f4-0d754c642b69"
   },
   "outputs": [
    {
     "data": {
      "image/png": "[encoded data removed]",
      "text/plain": [
       "<Figure size 432x288 with 2 Axes>"
      ]
     },
     "metadata": {
      "needs_background": "light",
      "tags": []
     },
     "output_type": "display_data"
    }
   ],
   "source": [
    "heatmap = sns.heatmap(health_ins_df_clean.corr(), vmin=-1, vmax=1, annot=True)"
   ]
  },
  {
   "cell_type": "markdown",
   "metadata": {
    "id": "Nscx8ffT2syi"
   },
   "source": [
    "Age and BMI are comparatively more closely related to charges"
   ]
  },
  {
   "cell_type": "markdown",
   "metadata": {
    "id": "GEuaE1ch1UKy"
   },
   "source": [
    "### **Multivariate Analysis**"
   ]
  },
  {
   "cell_type": "code",
   "execution_count": null,
   "metadata": {
    "colab": {
     "base_uri": "https://localhost:8080/",
     "height": 383
    },
    "id": "Z0VXhBDf1hKL",
    "outputId": "809dc9f7-4d76-4f8b-e46a-e394a5f554b0"
   },
   "outputs": [
    {
     "data": {
      "image/png": "[encoded data removed]",
      "text/plain": [
       "<Figure size 430.5x360 with 1 Axes>"
      ]
     },
     "metadata": {
      "needs_background": "light",
      "tags": []
     },
     "output_type": "display_data"
    }
   ],
   "source": [
    "sns.relplot(x=\"bmi\", y=\"charges\",hue=\"sex\", style = \"sex\", data=health_ins_df_clean);"
   ]
  },
  {
   "cell_type": "code",
   "execution_count": null,
   "metadata": {
    "colab": {
     "base_uri": "https://localhost:8080/",
     "height": 296
    },
    "id": "xdZ5jlG32R5p",
    "outputId": "81f8d997-efa4-4d6f-a9d9-5d32df5de851"
   },
   "outputs": [
    {
     "data": {
      "text/plain": [
       "<matplotlib.axes._subplots.AxesSubplot at 0x7fc379567c88>"
      ]
     },
     "execution_count": 22,
     "metadata": {
      "tags": []
     },
     "output_type": "execute_result"
    },
    {
     "data": {
      "image/png": "[encoded data removed]",
      "text/plain": [
       "<Figure size 432x288 with 1 Axes>"
      ]
     },
     "metadata": {
      "needs_background": "light",
      "tags": []
     },
     "output_type": "display_data"
    }
   ],
   "source": [
    "sns.boxplot(x=\"smoker\", y=\"charges\", data=health_ins_df_clean)"
   ]
  },
  {
   "cell_type": "markdown",
   "metadata": {
    "id": "_w7cYl263VCK"
   },
   "source": [
    "## **Model Building**"
   ]
  },
  {
   "cell_type": "markdown",
   "metadata": {
    "id": "9fDEaYIQ3fge"
   },
   "source": [
    "### **Data Pre-processing**"
   ]
  },
  {
   "cell_type": "code",
   "execution_count": null,
   "metadata": {
    "colab": {
     "base_uri": "https://localhost:8080/",
     "height": 102
    },
    "id": "rWlIUAgE3pSR",
    "outputId": "c9746476-9068-405b-99bc-36df4228a89a"
   },
   "outputs": [
    {
     "name": "stdout",
     "output_type": "stream",
     "text": [
      "sex  -  ['female' 'male']\n",
      "children  -  [0 1 3 2 5 4]\n",
      "smoker  -  ['yes' 'no']\n",
      "region  -  ['southwest' 'southeast' 'northwest' 'northeast']\n",
      "age_group  -  ['young' 'mid-age' 'old']\n"
     ]
    }
   ],
   "source": [
    "#Number of categories in catagorical variables\n",
    "categorical_var = ['sex','children','smoker','region','age_group']\n",
    "for cat_value in categorical_var:\n",
    "  print(cat_value,\" - \",health_ins_df_clean[cat_value].unique())"
   ]
  },
  {
   "cell_type": "code",
   "execution_count": null,
   "metadata": {
    "id": "30_i38Xl4l1Y"
   },
   "outputs": [],
   "source": [
    "#Converting categorical values into dummies using one-hot encoding technique\n",
    "health_ins_df_processed = pd.get_dummies(health_ins_df_clean, columns=['sex','children','smoker','region','age_group'], prefix=['sex','children','smoker','region','age_group'])\n",
    "health_ins_df_processed.drop(['age'],axis = 1,inplace=True)"
   ]
  },
  {
   "cell_type": "code",
   "execution_count": null,
   "metadata": {
    "colab": {
     "base_uri": "https://localhost:8080/",
     "height": 241
    },
    "id": "bV3qQew85YFd",
    "outputId": "b3b42c16-6458-457f-faaa-18b9cb81119b"
   },
   "outputs": [
    {
     "data": {
      "text/html": [
       "<div>\n",
       "<style scoped>\n",
       "    .dataframe tbody tr th:only-of-type {\n",
       "        vertical-align: middle;\n",
       "    }\n",
       "\n",
       "    .dataframe tbody tr th {\n",
       "        vertical-align: top;\n",
       "    }\n",
       "\n",
       "    .dataframe thead th {\n",
       "        text-align: right;\n",
       "    }\n",
       "</style>\n",
       "<table border=\"1\" class=\"dataframe\">\n",
       "  <thead>\n",
       "    <tr style=\"text-align: right;\">\n",
       "      <th></th>\n",
       "      <th>bmi</th>\n",
       "      <th>charges</th>\n",
       "      <th>sex_female</th>\n",
       "      <th>sex_male</th>\n",
       "      <th>children_0</th>\n",
       "      <th>children_1</th>\n",
       "      <th>children_2</th>\n",
       "      <th>children_3</th>\n",
       "      <th>children_4</th>\n",
       "      <th>children_5</th>\n",
       "      <th>smoker_no</th>\n",
       "      <th>smoker_yes</th>\n",
       "      <th>region_northeast</th>\n",
       "      <th>region_northwest</th>\n",
       "      <th>region_southeast</th>\n",
       "      <th>region_southwest</th>\n",
       "      <th>age_group_mid-age</th>\n",
       "      <th>age_group_old</th>\n",
       "      <th>age_group_young</th>\n",
       "    </tr>\n",
       "  </thead>\n",
       "  <tbody>\n",
       "    <tr>\n",
       "      <th>0</th>\n",
       "      <td>27.900</td>\n",
       "      <td>16884.92400</td>\n",
       "      <td>1</td>\n",
       "      <td>0</td>\n",
       "      <td>1</td>\n",
       "      <td>0</td>\n",
       "      <td>0</td>\n",
       "      <td>0</td>\n",
       "      <td>0</td>\n",
       "      <td>0</td>\n",
       "      <td>0</td>\n",
       "      <td>1</td>\n",
       "      <td>0</td>\n",
       "      <td>0</td>\n",
       "      <td>0</td>\n",
       "      <td>1</td>\n",
       "      <td>0</td>\n",
       "      <td>0</td>\n",
       "      <td>1</td>\n",
       "    </tr>\n",
       "    <tr>\n",
       "      <th>1</th>\n",
       "      <td>33.770</td>\n",
       "      <td>1725.55230</td>\n",
       "      <td>0</td>\n",
       "      <td>1</td>\n",
       "      <td>0</td>\n",
       "      <td>1</td>\n",
       "      <td>0</td>\n",
       "      <td>0</td>\n",
       "      <td>0</td>\n",
       "      <td>0</td>\n",
       "      <td>1</td>\n",
       "      <td>0</td>\n",
       "      <td>0</td>\n",
       "      <td>0</td>\n",
       "      <td>1</td>\n",
       "      <td>0</td>\n",
       "      <td>0</td>\n",
       "      <td>0</td>\n",
       "      <td>1</td>\n",
       "    </tr>\n",
       "    <tr>\n",
       "      <th>2</th>\n",
       "      <td>33.000</td>\n",
       "      <td>4449.46200</td>\n",
       "      <td>0</td>\n",
       "      <td>1</td>\n",
       "      <td>0</td>\n",
       "      <td>0</td>\n",
       "      <td>0</td>\n",
       "      <td>1</td>\n",
       "      <td>0</td>\n",
       "      <td>0</td>\n",
       "      <td>1</td>\n",
       "      <td>0</td>\n",
       "      <td>0</td>\n",
       "      <td>0</td>\n",
       "      <td>1</td>\n",
       "      <td>0</td>\n",
       "      <td>0</td>\n",
       "      <td>0</td>\n",
       "      <td>1</td>\n",
       "    </tr>\n",
       "    <tr>\n",
       "      <th>3</th>\n",
       "      <td>22.705</td>\n",
       "      <td>21984.47061</td>\n",
       "      <td>0</td>\n",
       "      <td>1</td>\n",
       "      <td>1</td>\n",
       "      <td>0</td>\n",
       "      <td>0</td>\n",
       "      <td>0</td>\n",
       "      <td>0</td>\n",
       "      <td>0</td>\n",
       "      <td>1</td>\n",
       "      <td>0</td>\n",
       "      <td>0</td>\n",
       "      <td>1</td>\n",
       "      <td>0</td>\n",
       "      <td>0</td>\n",
       "      <td>0</td>\n",
       "      <td>0</td>\n",
       "      <td>1</td>\n",
       "    </tr>\n",
       "    <tr>\n",
       "      <th>4</th>\n",
       "      <td>28.880</td>\n",
       "      <td>3866.85520</td>\n",
       "      <td>0</td>\n",
       "      <td>1</td>\n",
       "      <td>1</td>\n",
       "      <td>0</td>\n",
       "      <td>0</td>\n",
       "      <td>0</td>\n",
       "      <td>0</td>\n",
       "      <td>0</td>\n",
       "      <td>1</td>\n",
       "      <td>0</td>\n",
       "      <td>0</td>\n",
       "      <td>1</td>\n",
       "      <td>0</td>\n",
       "      <td>0</td>\n",
       "      <td>0</td>\n",
       "      <td>0</td>\n",
       "      <td>1</td>\n",
       "    </tr>\n",
       "  </tbody>\n",
       "</table>\n",
       "</div>"
      ],
      "text/plain": [
       "      bmi      charges  ...  age_group_old  age_group_young\n",
       "0  27.900  16884.92400  ...              0                1\n",
       "1  33.770   1725.55230  ...              0                1\n",
       "2  33.000   4449.46200  ...              0                1\n",
       "3  22.705  21984.47061  ...              0                1\n",
       "4  28.880   3866.85520  ...              0                1\n",
       "\n",
       "[5 rows x 19 columns]"
      ]
     },
     "execution_count": 27,
     "metadata": {
      "tags": []
     },
     "output_type": "execute_result"
    }
   ],
   "source": [
    "health_ins_df_processed.head(5)"
   ]
  },
  {
   "cell_type": "markdown",
   "metadata": {
    "id": "NiNqWiyH5pu6"
   },
   "source": [
    "### **Building base model**"
   ]
  },
  {
   "cell_type": "code",
   "execution_count": null,
   "metadata": {
    "colab": {
     "base_uri": "https://localhost:8080/",
     "height": 765
    },
    "id": "sFKsIEnf5vx9",
    "outputId": "6b778300-22ff-46e2-f91b-6da932fafe94"
   },
   "outputs": [
    {
     "name": "stdout",
     "output_type": "stream",
     "text": [
      "                            OLS Regression Results                            \n",
      "==============================================================================\n",
      "Dep. Variable:                charges   R-squared:                       0.745\n",
      "Model:                            OLS   Adj. R-squared:                  0.742\n",
      "Method:                 Least Squares   F-statistic:                     295.0\n",
      "Date:                Wed, 28 Oct 2020   Prob (F-statistic):               0.00\n",
      "Time:                        14:17:24   Log-Likelihood:                -13461.\n",
      "No. Observations:                1329   AIC:                         2.695e+04\n",
      "Df Residuals:                    1315   BIC:                         2.702e+04\n",
      "Df Model:                          13                                         \n",
      "Covariance Type:            nonrobust                                         \n",
      "=====================================================================================\n",
      "                        coef    std err          t      P>|t|      [0.025      0.975]\n",
      "-------------------------------------------------------------------------------------\n",
      "const              4565.8126    360.937     12.650      0.000    3857.737    5273.888\n",
      "bmi                 346.6547     29.616     11.705      0.000     288.556     404.754\n",
      "sex_female         2314.7020    243.788      9.495      0.000    1836.447    2792.957\n",
      "sex_male           2251.1106    249.157      9.035      0.000    1762.321    2739.900\n",
      "children_0        -1052.3344    387.853     -2.713      0.007   -1813.212    -291.457\n",
      "children_1            2.8279    428.600      0.007      0.995    -837.986     843.642\n",
      "children_2         1248.3122    462.318      2.700      0.007     341.350    2155.274\n",
      "children_3          695.3924    519.046      1.340      0.181    -322.856    1713.641\n",
      "children_4         2904.7612   1063.538      2.731      0.006     818.345    4991.177\n",
      "children_5          766.8533   1237.666      0.620      0.536   -1661.162    3194.869\n",
      "smoker_no         -9452.9946    260.197    -36.330      0.000   -9963.441   -8942.548\n",
      "smoker_yes         1.402e+04    291.737     48.053      0.000    1.34e+04    1.46e+04\n",
      "region_northeast   1801.0854    298.472      6.034      0.000    1215.552    2386.619\n",
      "region_northwest   1372.5943    299.796      4.578      0.000     784.464    1960.724\n",
      "region_southeast    637.9756    326.317      1.955      0.051      -2.183    1278.135\n",
      "region_southwest    754.1572    306.110      2.464      0.014     153.639    1354.675\n",
      "age_group_mid-age  1652.3401    284.834      5.801      0.000    1093.562    2211.118\n",
      "age_group_old      6535.6217    412.496     15.844      0.000    5726.400    7344.843\n",
      "age_group_young   -3622.1492    252.393    -14.351      0.000   -4117.285   -3127.013\n",
      "==============================================================================\n",
      "Omnibus:                      266.498   Durbin-Watson:                   2.084\n",
      "Prob(Omnibus):                  0.000   Jarque-Bera (JB):              581.715\n",
      "Skew:                           1.124   Prob(JB):                    4.81e-127\n",
      "Kurtosis:                       5.334   Cond. No.                     4.81e+17\n",
      "==============================================================================\n",
      "\n",
      "Warnings:\n",
      "[1] Standard Errors assume that the covariance matrix of the errors is correctly specified.\n",
      "[2] The smallest eigenvalue is 5.57e-30. This might indicate that there are\n",
      "strong multicollinearity problems or that the design matrix is singular.\n"
     ]
    }
   ],
   "source": [
    "#Building linear regression model\n",
    "X = health_ins_df_processed.loc[:, health_ins_df_processed.columns != 'charges']\n",
    "y = health_ins_df_processed['charges']\n",
    "X_train, X_test, y_train, y_test = train_test_split(X, y, test_size=0.33)\n",
    "\n",
    "X = sm.add_constant(X) # adding a constant\n",
    "\n",
    "model = sm.OLS(y, X).fit()\n",
    "predictions = model.predict(X) \n",
    "\n",
    "print_model = model.summary()\n",
    "print(print_model)"
   ]
  },
  {
   "cell_type": "markdown",
   "metadata": {
    "id": "jmza5_Mj_7o8"
   },
   "source": [
    "*   Adjusted R-square is 75.1% means our model is able to explain 75.1% variation in the data\n",
    "*   We see that for variables - children_1,children_2,children_3,children_5,region_northwest,region_southeast,region_southwest,age_group_mid-age the p-value > alpha which means that these variables are insignificant in predicting our target variable - charges\n",
    "*   We will drop these insignificant variables in next iteration\n",
    "\n",
    "\n",
    "\n",
    "\n"
   ]
  },
  {
   "cell_type": "code",
   "execution_count": null,
   "metadata": {
    "colab": {
     "base_uri": "https://localhost:8080/",
     "height": 119
    },
    "id": "XJ8G9OY0FFYQ",
    "outputId": "469c1c80-2b54-4dc8-8146-b8a18ee00a91"
   },
   "outputs": [
    {
     "data": {
      "text/plain": [
       "Index(['bmi', 'charges', 'sex_female', 'sex_male', 'children_0', 'children_1',\n",
       "       'children_2', 'children_3', 'children_4', 'children_5', 'smoker_no',\n",
       "       'smoker_yes', 'region_northeast', 'region_northwest',\n",
       "       'region_southeast', 'region_southwest', 'age_group_mid-age',\n",
       "       'age_group_old', 'age_group_young'],\n",
       "      dtype='object')"
      ]
     },
     "execution_count": 31,
     "metadata": {
      "tags": []
     },
     "output_type": "execute_result"
    }
   ],
   "source": [
    "health_ins_df_processed.columns"
   ]
  },
  {
   "cell_type": "code",
   "execution_count": null,
   "metadata": {
    "colab": {
     "base_uri": "https://localhost:8080/",
     "height": 394
    },
    "id": "MXYX3cmJEq3V",
    "outputId": "8ddb95bd-96b1-4020-e071-bba8368f2ff4"
   },
   "outputs": [
    {
     "name": "stdout",
     "output_type": "stream",
     "text": [
      "            attribute       VIF\n",
      "0                 bmi  1.099784\n",
      "1          sex_female       inf\n",
      "2            sex_male       inf\n",
      "3          children_0       inf\n",
      "4          children_1       inf\n",
      "5          children_2       inf\n",
      "6          children_3       inf\n",
      "7          children_4       inf\n",
      "8          children_5       inf\n",
      "9           smoker_no       inf\n",
      "10         smoker_yes       inf\n",
      "11   region_northeast       inf\n",
      "12   region_northwest       inf\n",
      "13   region_southeast       inf\n",
      "14   region_southwest       inf\n",
      "15  age_group_mid-age       inf\n",
      "16      age_group_old       inf\n",
      "17    age_group_young       inf\n"
     ]
    },
    {
     "name": "stderr",
     "output_type": "stream",
     "text": [
      "/usr/local/lib/python3.6/dist-packages/statsmodels/stats/outliers_influence.py:185: RuntimeWarning: divide by zero encountered in double_scalars\n",
      "  vif = 1. / (1. - r_squared_i)\n"
     ]
    }
   ],
   "source": [
    "health_ins_df_vif = health_ins_df_processed[['bmi', 'sex_female', 'sex_male', 'children_0', 'children_1','children_2', 'children_3', 'children_4', 'children_5', 'smoker_no','smoker_yes', 'region_northeast', 'region_northwest','region_southeast', 'region_southwest', 'age_group_mid-age','age_group_old', 'age_group_young']]\n",
    "vif_data = pd.DataFrame() \n",
    "vif_data[\"attribute\"] = health_ins_df_vif.columns \n",
    "vif_data[\"VIF\"] = [variance_inflation_factor(health_ins_df_vif.values, i) \n",
    "                          for i in range(len(health_ins_df_vif.columns))] \n",
    "  \n",
    "print(vif_data)"
   ]
  },
  {
   "cell_type": "code",
   "execution_count": null,
   "metadata": {
    "colab": {
     "base_uri": "https://localhost:8080/",
     "height": 748
    },
    "id": "RnHH8KSwBe9_",
    "outputId": "ee213f74-4000-478d-9ee7-724a55696c85"
   },
   "outputs": [
    {
     "name": "stdout",
     "output_type": "stream",
     "text": [
      "                            OLS Regression Results                            \n",
      "==============================================================================\n",
      "Dep. Variable:                charges   R-squared:                       0.745\n",
      "Model:                            OLS   Adj. R-squared:                  0.742\n",
      "Method:                 Least Squares   F-statistic:                     295.0\n",
      "Date:                Wed, 28 Oct 2020   Prob (F-statistic):               0.00\n",
      "Time:                        14:17:49   Log-Likelihood:                -13461.\n",
      "No. Observations:                1329   AIC:                         2.695e+04\n",
      "Df Residuals:                    1315   BIC:                         2.702e+04\n",
      "Df Model:                          13                                         \n",
      "Covariance Type:            nonrobust                                         \n",
      "=====================================================================================\n",
      "                        coef    std err          t      P>|t|      [0.025      0.975]\n",
      "-------------------------------------------------------------------------------------\n",
      "const              4566.9072    382.077     11.953      0.000    3817.359    5316.455\n",
      "bmi                 346.6547     29.616     11.705      0.000     288.556     404.754\n",
      "sex_female         2315.2493    250.830      9.230      0.000    1823.179    2807.320\n",
      "sex_male           2251.6579    257.779      8.735      0.000    1745.955    2757.361\n",
      "children_0        -1055.1622    430.139     -2.453      0.014   -1898.997    -211.328\n",
      "children_2         1245.4844    522.357      2.384      0.017     220.740    2270.228\n",
      "children_3          692.5645    595.768      1.162      0.245    -476.195    1861.324\n",
      "children_4         2901.9334   1267.007      2.290      0.022     416.358    5387.509\n",
      "children_5          764.0254   1481.485      0.516      0.606   -2142.307    3670.357\n",
      "smoker_no         -9452.4472    267.530    -35.332      0.000   -9977.280   -8927.614\n",
      "smoker_yes         1.402e+04    298.487     46.968      0.000    1.34e+04    1.46e+04\n",
      "region_northeast   1801.3591    299.268      6.019      0.000    1214.263    2388.455\n",
      "region_northwest   1372.8679    300.510      4.568      0.000     783.336    1962.400\n",
      "region_southeast    638.2493    328.229      1.945      0.052      -5.661    1282.160\n",
      "region_southwest    754.4309    308.988      2.442      0.015     148.267    1360.595\n",
      "age_group_mid-age  1652.7049    285.428      5.790      0.000    1092.761    2212.649\n",
      "age_group_old      6535.9866    416.746     15.683      0.000    5718.427    7353.546\n",
      "age_group_young   -3621.7843    255.097    -14.198      0.000   -4122.225   -3121.343\n",
      "==============================================================================\n",
      "Omnibus:                      266.498   Durbin-Watson:                   2.084\n",
      "Prob(Omnibus):                  0.000   Jarque-Bera (JB):              581.715\n",
      "Skew:                           1.124   Prob(JB):                    4.81e-127\n",
      "Kurtosis:                       5.334   Cond. No.                     3.04e+17\n",
      "==============================================================================\n",
      "\n",
      "Warnings:\n",
      "[1] Standard Errors assume that the covariance matrix of the errors is correctly specified.\n",
      "[2] The smallest eigenvalue is 1.4e-29. This might indicate that there are\n",
      "strong multicollinearity problems or that the design matrix is singular.\n"
     ]
    }
   ],
   "source": [
    "#Dropping children_1\n",
    "X = health_ins_df_processed[['bmi','sex_female', 'sex_male', 'children_0','children_2', 'children_3', 'children_4', 'children_5', 'smoker_no','smoker_yes', 'region_northeast', 'region_northwest','region_southeast', 'region_southwest', 'age_group_mid-age','age_group_old', 'age_group_young']]\n",
    "y = health_ins_df_processed['charges']\n",
    "X_train, X_test, y_train, y_test = train_test_split(X, y, test_size=0.33)\n",
    "\n",
    "X = sm.add_constant(X) # adding a constant\n",
    "\n",
    "model = sm.OLS(y, X).fit()\n",
    "predictions = model.predict(X) \n",
    "\n",
    "print_model = model.summary()\n",
    "print(print_model)"
   ]
  },
  {
   "cell_type": "code",
   "execution_count": null,
   "metadata": {
    "colab": {
     "base_uri": "https://localhost:8080/",
     "height": 377
    },
    "id": "TDVI0qh_FoIj",
    "outputId": "724c2954-a094-4d5c-e92a-93670bff29ea"
   },
   "outputs": [
    {
     "name": "stdout",
     "output_type": "stream",
     "text": [
      "            attribute       VIF\n",
      "0                 bmi  1.099784\n",
      "1          sex_female       inf\n",
      "2            sex_male       inf\n",
      "3          children_0  1.623418\n",
      "4          children_2  1.436293\n",
      "5          children_3  1.324000\n",
      "6          children_4  1.060919\n",
      "7          children_5  1.049968\n",
      "8           smoker_no       inf\n",
      "9          smoker_yes       inf\n",
      "10   region_northeast       inf\n",
      "11   region_northwest       inf\n",
      "12   region_southeast       inf\n",
      "13   region_southwest       inf\n",
      "14  age_group_mid-age       inf\n",
      "15      age_group_old       inf\n",
      "16    age_group_young       inf\n"
     ]
    },
    {
     "name": "stderr",
     "output_type": "stream",
     "text": [
      "/usr/local/lib/python3.6/dist-packages/statsmodels/stats/outliers_influence.py:185: RuntimeWarning: divide by zero encountered in double_scalars\n",
      "  vif = 1. / (1. - r_squared_i)\n"
     ]
    }
   ],
   "source": [
    "health_ins_df_vif = health_ins_df_processed[['bmi', 'sex_female', 'sex_male', 'children_0', 'children_2', 'children_3', 'children_4', 'children_5', 'smoker_no','smoker_yes', 'region_northeast', 'region_northwest','region_southeast', 'region_southwest', 'age_group_mid-age','age_group_old', 'age_group_young']]\n",
    "vif_data = pd.DataFrame() \n",
    "vif_data[\"attribute\"] = health_ins_df_vif.columns \n",
    "vif_data[\"VIF\"] = [variance_inflation_factor(health_ins_df_vif.values, i) \n",
    "                          for i in range(len(health_ins_df_vif.columns))] \n",
    "  \n",
    "print(vif_data)"
   ]
  },
  {
   "cell_type": "code",
   "execution_count": null,
   "metadata": {
    "colab": {
     "base_uri": "https://localhost:8080/",
     "height": 630
    },
    "id": "Oo0DbDS8R3aW",
    "outputId": "7bec5ffb-fda7-4506-da2c-6ae88536e62d"
   },
   "outputs": [
    {
     "data": {
      "text/html": [
       "<div>\n",
       "<style scoped>\n",
       "    .dataframe tbody tr th:only-of-type {\n",
       "        vertical-align: middle;\n",
       "    }\n",
       "\n",
       "    .dataframe tbody tr th {\n",
       "        vertical-align: top;\n",
       "    }\n",
       "\n",
       "    .dataframe thead th {\n",
       "        text-align: right;\n",
       "    }\n",
       "</style>\n",
       "<table border=\"1\" class=\"dataframe\">\n",
       "  <thead>\n",
       "    <tr style=\"text-align: right;\">\n",
       "      <th></th>\n",
       "      <th>bmi</th>\n",
       "      <th>sex_female</th>\n",
       "      <th>sex_male</th>\n",
       "      <th>children_0</th>\n",
       "      <th>children_2</th>\n",
       "      <th>children_3</th>\n",
       "      <th>children_4</th>\n",
       "      <th>children_5</th>\n",
       "      <th>smoker_no</th>\n",
       "      <th>smoker_yes</th>\n",
       "      <th>region_northeast</th>\n",
       "      <th>region_northwest</th>\n",
       "      <th>region_southeast</th>\n",
       "      <th>region_southwest</th>\n",
       "      <th>age_group_mid-age</th>\n",
       "      <th>age_group_old</th>\n",
       "      <th>age_group_young</th>\n",
       "    </tr>\n",
       "  </thead>\n",
       "  <tbody>\n",
       "    <tr>\n",
       "      <th>bmi</th>\n",
       "      <td>1.000000</td>\n",
       "      <td>-0.039958</td>\n",
       "      <td>0.039958</td>\n",
       "      <td>-0.012986</td>\n",
       "      <td>0.023607</td>\n",
       "      <td>0.009091</td>\n",
       "      <td>0.019978</td>\n",
       "      <td>-0.018461</td>\n",
       "      <td>0.002871</td>\n",
       "      <td>-0.002871</td>\n",
       "      <td>-0.136193</td>\n",
       "      <td>-0.128598</td>\n",
       "      <td>0.255863</td>\n",
       "      <td>0.000651</td>\n",
       "      <td>0.061722</td>\n",
       "      <td>0.070413</td>\n",
       "      <td>-0.102850</td>\n",
       "    </tr>\n",
       "    <tr>\n",
       "      <th>sex_female</th>\n",
       "      <td>-0.039958</td>\n",
       "      <td>1.000000</td>\n",
       "      <td>-1.000000</td>\n",
       "      <td>0.014784</td>\n",
       "      <td>-0.003984</td>\n",
       "      <td>-0.003964</td>\n",
       "      <td>-0.015470</td>\n",
       "      <td>-0.012050</td>\n",
       "      <td>0.079854</td>\n",
       "      <td>-0.079854</td>\n",
       "      <td>-0.000573</td>\n",
       "      <td>0.009961</td>\n",
       "      <td>-0.010263</td>\n",
       "      <td>0.001195</td>\n",
       "      <td>0.011029</td>\n",
       "      <td>0.010205</td>\n",
       "      <td>-0.016922</td>\n",
       "    </tr>\n",
       "    <tr>\n",
       "      <th>sex_male</th>\n",
       "      <td>0.039958</td>\n",
       "      <td>-1.000000</td>\n",
       "      <td>1.000000</td>\n",
       "      <td>-0.014784</td>\n",
       "      <td>0.003984</td>\n",
       "      <td>0.003964</td>\n",
       "      <td>0.015470</td>\n",
       "      <td>0.012050</td>\n",
       "      <td>-0.079854</td>\n",
       "      <td>0.079854</td>\n",
       "      <td>0.000573</td>\n",
       "      <td>-0.009961</td>\n",
       "      <td>0.010263</td>\n",
       "      <td>-0.001195</td>\n",
       "      <td>-0.011029</td>\n",
       "      <td>-0.010205</td>\n",
       "      <td>0.016922</td>\n",
       "    </tr>\n",
       "    <tr>\n",
       "      <th>children_0</th>\n",
       "      <td>-0.012986</td>\n",
       "      <td>0.014784</td>\n",
       "      <td>-0.014784</td>\n",
       "      <td>1.000000</td>\n",
       "      <td>-0.405377</td>\n",
       "      <td>-0.317665</td>\n",
       "      <td>-0.120175</td>\n",
       "      <td>-0.101699</td>\n",
       "      <td>0.009183</td>\n",
       "      <td>-0.009183</td>\n",
       "      <td>0.029145</td>\n",
       "      <td>-0.027001</td>\n",
       "      <td>0.002113</td>\n",
       "      <td>-0.004267</td>\n",
       "      <td>-0.122139</td>\n",
       "      <td>0.150396</td>\n",
       "      <td>0.025982</td>\n",
       "    </tr>\n",
       "    <tr>\n",
       "      <th>children_2</th>\n",
       "      <td>0.023607</td>\n",
       "      <td>-0.003984</td>\n",
       "      <td>0.003984</td>\n",
       "      <td>-0.405377</td>\n",
       "      <td>1.000000</td>\n",
       "      <td>-0.170947</td>\n",
       "      <td>-0.064671</td>\n",
       "      <td>-0.054728</td>\n",
       "      <td>-0.026637</td>\n",
       "      <td>0.026637</td>\n",
       "      <td>-0.035887</td>\n",
       "      <td>0.035606</td>\n",
       "      <td>0.009155</td>\n",
       "      <td>-0.009244</td>\n",
       "      <td>0.063833</td>\n",
       "      <td>-0.082676</td>\n",
       "      <td>-0.011082</td>\n",
       "    </tr>\n",
       "    <tr>\n",
       "      <th>children_3</th>\n",
       "      <td>0.009091</td>\n",
       "      <td>-0.003964</td>\n",
       "      <td>0.003964</td>\n",
       "      <td>-0.317665</td>\n",
       "      <td>-0.170947</td>\n",
       "      <td>1.000000</td>\n",
       "      <td>-0.050678</td>\n",
       "      <td>-0.042887</td>\n",
       "      <td>-0.040420</td>\n",
       "      <td>0.040420</td>\n",
       "      <td>0.004580</td>\n",
       "      <td>0.041256</td>\n",
       "      <td>-0.037731</td>\n",
       "      <td>-0.006925</td>\n",
       "      <td>0.027797</td>\n",
       "      <td>0.004414</td>\n",
       "      <td>-0.029592</td>\n",
       "    </tr>\n",
       "    <tr>\n",
       "      <th>children_4</th>\n",
       "      <td>0.019978</td>\n",
       "      <td>-0.015470</td>\n",
       "      <td>0.015470</td>\n",
       "      <td>-0.120175</td>\n",
       "      <td>-0.064671</td>\n",
       "      <td>-0.050678</td>\n",
       "      <td>1.000000</td>\n",
       "      <td>-0.016224</td>\n",
       "      <td>0.028837</td>\n",
       "      <td>-0.028837</td>\n",
       "      <td>0.011931</td>\n",
       "      <td>-0.001464</td>\n",
       "      <td>-0.021437</td>\n",
       "      <td>0.011676</td>\n",
       "      <td>-0.003140</td>\n",
       "      <td>-0.029224</td>\n",
       "      <td>0.020945</td>\n",
       "    </tr>\n",
       "    <tr>\n",
       "      <th>children_5</th>\n",
       "      <td>-0.018461</td>\n",
       "      <td>-0.012050</td>\n",
       "      <td>0.012050</td>\n",
       "      <td>-0.101699</td>\n",
       "      <td>-0.054728</td>\n",
       "      <td>-0.042887</td>\n",
       "      <td>-0.016224</td>\n",
       "      <td>1.000000</td>\n",
       "      <td>0.043146</td>\n",
       "      <td>-0.043146</td>\n",
       "      <td>-0.020864</td>\n",
       "      <td>-0.051521</td>\n",
       "      <td>0.017107</td>\n",
       "      <td>0.054758</td>\n",
       "      <td>-0.009126</td>\n",
       "      <td>-0.040047</td>\n",
       "      <td>0.033367</td>\n",
       "    </tr>\n",
       "    <tr>\n",
       "      <th>smoker_no</th>\n",
       "      <td>0.002871</td>\n",
       "      <td>0.079854</td>\n",
       "      <td>-0.079854</td>\n",
       "      <td>0.009183</td>\n",
       "      <td>-0.026637</td>\n",
       "      <td>-0.040420</td>\n",
       "      <td>0.028837</td>\n",
       "      <td>0.043146</td>\n",
       "      <td>1.000000</td>\n",
       "      <td>-1.000000</td>\n",
       "      <td>-0.004947</td>\n",
       "      <td>0.035940</td>\n",
       "      <td>-0.068270</td>\n",
       "      <td>0.039440</td>\n",
       "      <td>0.029108</td>\n",
       "      <td>-0.016209</td>\n",
       "      <td>-0.018222</td>\n",
       "    </tr>\n",
       "    <tr>\n",
       "      <th>smoker_yes</th>\n",
       "      <td>-0.002871</td>\n",
       "      <td>-0.079854</td>\n",
       "      <td>0.079854</td>\n",
       "      <td>-0.009183</td>\n",
       "      <td>0.026637</td>\n",
       "      <td>0.040420</td>\n",
       "      <td>-0.028837</td>\n",
       "      <td>-0.043146</td>\n",
       "      <td>-1.000000</td>\n",
       "      <td>1.000000</td>\n",
       "      <td>0.004947</td>\n",
       "      <td>-0.035940</td>\n",
       "      <td>0.068270</td>\n",
       "      <td>-0.039440</td>\n",
       "      <td>-0.029108</td>\n",
       "      <td>0.016209</td>\n",
       "      <td>0.018222</td>\n",
       "    </tr>\n",
       "    <tr>\n",
       "      <th>region_northeast</th>\n",
       "      <td>-0.136193</td>\n",
       "      <td>-0.000573</td>\n",
       "      <td>0.000573</td>\n",
       "      <td>0.029145</td>\n",
       "      <td>-0.035887</td>\n",
       "      <td>0.004580</td>\n",
       "      <td>0.011931</td>\n",
       "      <td>-0.020864</td>\n",
       "      <td>-0.004947</td>\n",
       "      <td>0.004947</td>\n",
       "      <td>1.000000</td>\n",
       "      <td>-0.322387</td>\n",
       "      <td>-0.343402</td>\n",
       "      <td>-0.321730</td>\n",
       "      <td>0.004290</td>\n",
       "      <td>-0.004486</td>\n",
       "      <td>-0.001401</td>\n",
       "    </tr>\n",
       "    <tr>\n",
       "      <th>region_northwest</th>\n",
       "      <td>-0.128598</td>\n",
       "      <td>0.009961</td>\n",
       "      <td>-0.009961</td>\n",
       "      <td>-0.027001</td>\n",
       "      <td>0.035606</td>\n",
       "      <td>0.041256</td>\n",
       "      <td>-0.001464</td>\n",
       "      <td>-0.051521</td>\n",
       "      <td>0.035940</td>\n",
       "      <td>-0.035940</td>\n",
       "      <td>-0.322387</td>\n",
       "      <td>1.000000</td>\n",
       "      <td>-0.344807</td>\n",
       "      <td>-0.323046</td>\n",
       "      <td>-0.002032</td>\n",
       "      <td>-0.005673</td>\n",
       "      <td>0.005441</td>\n",
       "    </tr>\n",
       "    <tr>\n",
       "      <th>region_southeast</th>\n",
       "      <td>0.255863</td>\n",
       "      <td>-0.010263</td>\n",
       "      <td>0.010263</td>\n",
       "      <td>0.002113</td>\n",
       "      <td>0.009155</td>\n",
       "      <td>-0.037731</td>\n",
       "      <td>-0.021437</td>\n",
       "      <td>0.017107</td>\n",
       "      <td>-0.068270</td>\n",
       "      <td>0.068270</td>\n",
       "      <td>-0.343402</td>\n",
       "      <td>-0.344807</td>\n",
       "      <td>1.000000</td>\n",
       "      <td>-0.344105</td>\n",
       "      <td>-0.012058</td>\n",
       "      <td>0.009216</td>\n",
       "      <td>0.006016</td>\n",
       "    </tr>\n",
       "    <tr>\n",
       "      <th>region_southwest</th>\n",
       "      <td>0.000651</td>\n",
       "      <td>0.001195</td>\n",
       "      <td>-0.001195</td>\n",
       "      <td>-0.004267</td>\n",
       "      <td>-0.009244</td>\n",
       "      <td>-0.006925</td>\n",
       "      <td>0.011676</td>\n",
       "      <td>0.054758</td>\n",
       "      <td>0.039440</td>\n",
       "      <td>-0.039440</td>\n",
       "      <td>-0.321730</td>\n",
       "      <td>-0.323046</td>\n",
       "      <td>-0.344105</td>\n",
       "      <td>1.000000</td>\n",
       "      <td>0.010195</td>\n",
       "      <td>0.000646</td>\n",
       "      <td>-0.010258</td>\n",
       "    </tr>\n",
       "    <tr>\n",
       "      <th>age_group_mid-age</th>\n",
       "      <td>0.061722</td>\n",
       "      <td>0.011029</td>\n",
       "      <td>-0.011029</td>\n",
       "      <td>-0.122139</td>\n",
       "      <td>0.063833</td>\n",
       "      <td>0.027797</td>\n",
       "      <td>-0.003140</td>\n",
       "      <td>-0.009126</td>\n",
       "      <td>0.029108</td>\n",
       "      <td>-0.029108</td>\n",
       "      <td>0.004290</td>\n",
       "      <td>-0.002032</td>\n",
       "      <td>-0.012058</td>\n",
       "      <td>0.010195</td>\n",
       "      <td>1.000000</td>\n",
       "      <td>-0.262455</td>\n",
       "      <td>-0.806451</td>\n",
       "    </tr>\n",
       "    <tr>\n",
       "      <th>age_group_old</th>\n",
       "      <td>0.070413</td>\n",
       "      <td>0.010205</td>\n",
       "      <td>-0.010205</td>\n",
       "      <td>0.150396</td>\n",
       "      <td>-0.082676</td>\n",
       "      <td>0.004414</td>\n",
       "      <td>-0.029224</td>\n",
       "      <td>-0.040047</td>\n",
       "      <td>-0.016209</td>\n",
       "      <td>0.016209</td>\n",
       "      <td>-0.004486</td>\n",
       "      <td>-0.005673</td>\n",
       "      <td>0.009216</td>\n",
       "      <td>0.000646</td>\n",
       "      <td>-0.262455</td>\n",
       "      <td>1.000000</td>\n",
       "      <td>-0.358915</td>\n",
       "    </tr>\n",
       "    <tr>\n",
       "      <th>age_group_young</th>\n",
       "      <td>-0.102850</td>\n",
       "      <td>-0.016922</td>\n",
       "      <td>0.016922</td>\n",
       "      <td>0.025982</td>\n",
       "      <td>-0.011082</td>\n",
       "      <td>-0.029592</td>\n",
       "      <td>0.020945</td>\n",
       "      <td>0.033367</td>\n",
       "      <td>-0.018222</td>\n",
       "      <td>0.018222</td>\n",
       "      <td>-0.001401</td>\n",
       "      <td>0.005441</td>\n",
       "      <td>0.006016</td>\n",
       "      <td>-0.010258</td>\n",
       "      <td>-0.806451</td>\n",
       "      <td>-0.358915</td>\n",
       "      <td>1.000000</td>\n",
       "    </tr>\n",
       "  </tbody>\n",
       "</table>\n",
       "</div>"
      ],
      "text/plain": [
       "                        bmi  sex_female  ...  age_group_old  age_group_young\n",
       "bmi                1.000000   -0.039958  ...       0.070413        -0.102850\n",
       "sex_female        -0.039958    1.000000  ...       0.010205        -0.016922\n",
       "sex_male           0.039958   -1.000000  ...      -0.010205         0.016922\n",
       "children_0        -0.012986    0.014784  ...       0.150396         0.025982\n",
       "children_2         0.023607   -0.003984  ...      -0.082676        -0.011082\n",
       "children_3         0.009091   -0.003964  ...       0.004414        -0.029592\n",
       "children_4         0.019978   -0.015470  ...      -0.029224         0.020945\n",
       "children_5        -0.018461   -0.012050  ...      -0.040047         0.033367\n",
       "smoker_no          0.002871    0.079854  ...      -0.016209        -0.018222\n",
       "smoker_yes        -0.002871   -0.079854  ...       0.016209         0.018222\n",
       "region_northeast  -0.136193   -0.000573  ...      -0.004486        -0.001401\n",
       "region_northwest  -0.128598    0.009961  ...      -0.005673         0.005441\n",
       "region_southeast   0.255863   -0.010263  ...       0.009216         0.006016\n",
       "region_southwest   0.000651    0.001195  ...       0.000646        -0.010258\n",
       "age_group_mid-age  0.061722    0.011029  ...      -0.262455        -0.806451\n",
       "age_group_old      0.070413    0.010205  ...       1.000000        -0.358915\n",
       "age_group_young   -0.102850   -0.016922  ...      -0.358915         1.000000\n",
       "\n",
       "[17 rows x 17 columns]"
      ]
     },
     "execution_count": 37,
     "metadata": {
      "tags": []
     },
     "output_type": "execute_result"
    }
   ],
   "source": [
    "health_ins_df_vif.corr(method ='pearson')"
   ]
  },
  {
   "cell_type": "code",
   "execution_count": null,
   "metadata": {
    "colab": {
     "base_uri": "https://localhost:8080/",
     "height": 731
    },
    "id": "Pn-iYsbKHNPd",
    "outputId": "ed4188cf-f7e4-4b43-bd9d-b9112115a3b0"
   },
   "outputs": [
    {
     "name": "stdout",
     "output_type": "stream",
     "text": [
      "                            OLS Regression Results                            \n",
      "==============================================================================\n",
      "Dep. Variable:                charges   R-squared:                       0.745\n",
      "Model:                            OLS   Adj. R-squared:                  0.742\n",
      "Method:                 Least Squares   F-statistic:                     295.0\n",
      "Date:                Wed, 28 Oct 2020   Prob (F-statistic):               0.00\n",
      "Time:                        14:35:09   Log-Likelihood:                -13461.\n",
      "No. Observations:                1329   AIC:                         2.695e+04\n",
      "Df Residuals:                    1315   BIC:                         2.702e+04\n",
      "Df Model:                          13                                         \n",
      "Covariance Type:            nonrobust                                         \n",
      "=====================================================================================\n",
      "                        coef    std err          t      P>|t|      [0.025      0.975]\n",
      "-------------------------------------------------------------------------------------\n",
      "const              5647.7031    482.765     11.699      0.000    4700.630    6594.776\n",
      "bmi                 346.6547     29.616     11.705      0.000     288.556     404.754\n",
      "sex_female           63.5914    335.780      0.189      0.850    -595.131     722.314\n",
      "children_0        -1055.1622    430.139     -2.453      0.014   -1898.997    -211.328\n",
      "children_2         1245.4844    522.357      2.384      0.017     220.740    2270.228\n",
      "children_3          692.5645    595.768      1.162      0.245    -476.195    1861.324\n",
      "children_4         2901.9334   1267.007      2.290      0.022     416.358    5387.509\n",
      "children_5          764.0254   1481.485      0.516      0.606   -2142.307    3670.357\n",
      "smoker_no         -8912.0493    304.306    -29.286      0.000   -9509.028   -8315.070\n",
      "smoker_yes         1.456e+04    334.071     43.583      0.000    1.39e+04    1.52e+04\n",
      "region_northeast   2071.5581    305.440      6.782      0.000    1472.354    2670.762\n",
      "region_northwest   1643.0669    307.105      5.350      0.000    1040.597    2245.537\n",
      "region_southeast    908.4482    340.834      2.665      0.008     239.810    1577.087\n",
      "region_southwest   1024.6299    317.916      3.223      0.001     400.953    1648.307\n",
      "age_group_mid-age  2012.9702    299.598      6.719      0.000    1425.228    2600.712\n",
      "age_group_old      6896.2519    434.024     15.889      0.000    6044.797    7747.707\n",
      "age_group_young   -3261.5191    266.667    -12.231      0.000   -3784.657   -2738.381\n",
      "==============================================================================\n",
      "Omnibus:                      266.498   Durbin-Watson:                   2.084\n",
      "Prob(Omnibus):                  0.000   Jarque-Bera (JB):              581.715\n",
      "Skew:                           1.124   Prob(JB):                    4.81e-127\n",
      "Kurtosis:                       5.334   Cond. No.                     2.72e+17\n",
      "==============================================================================\n",
      "\n",
      "Warnings:\n",
      "[1] Standard Errors assume that the covariance matrix of the errors is correctly specified.\n",
      "[2] The smallest eigenvalue is 1.75e-29. This might indicate that there are\n",
      "strong multicollinearity problems or that the design matrix is singular.\n"
     ]
    }
   ],
   "source": [
    "#Dropping sex_male\n",
    "X = health_ins_df_processed[['bmi','sex_female', 'children_0','children_2', 'children_3', 'children_4', 'children_5', 'smoker_no','smoker_yes', 'region_northeast', 'region_northwest','region_southeast', 'region_southwest', 'age_group_mid-age','age_group_old', 'age_group_young']]\n",
    "y = health_ins_df_processed['charges']\n",
    "X_train, X_test, y_train, y_test = train_test_split(X, y, test_size=0.33)\n",
    "\n",
    "X = sm.add_constant(X) # adding a constant\n",
    "\n",
    "model = sm.OLS(y, X).fit()\n",
    "predictions = model.predict(X) \n",
    "\n",
    "print_model = model.summary()\n",
    "print(print_model)"
   ]
  },
  {
   "cell_type": "code",
   "execution_count": null,
   "metadata": {
    "colab": {
     "base_uri": "https://localhost:8080/",
     "height": 360
    },
    "id": "jb5N9EWRHaFi",
    "outputId": "d1832872-dad1-407c-ccf9-4b912db9056a"
   },
   "outputs": [
    {
     "name": "stdout",
     "output_type": "stream",
     "text": [
      "            attribute       VIF\n",
      "0                 bmi  1.096394\n",
      "1          sex_female  1.009197\n",
      "2          children_0  1.623418\n",
      "3          children_2  1.436293\n",
      "4          children_3  1.324000\n",
      "5          children_4  1.060919\n",
      "6          children_5  1.049968\n",
      "7           smoker_no       inf\n",
      "8          smoker_yes       inf\n",
      "9    region_northeast       inf\n",
      "10   region_northwest       inf\n",
      "11   region_southeast       inf\n",
      "12   region_southwest       inf\n",
      "13  age_group_mid-age       inf\n",
      "14      age_group_old       inf\n",
      "15    age_group_young       inf\n"
     ]
    },
    {
     "name": "stderr",
     "output_type": "stream",
     "text": [
      "/usr/local/lib/python3.6/dist-packages/statsmodels/stats/outliers_influence.py:185: RuntimeWarning: divide by zero encountered in double_scalars\n",
      "  vif = 1. / (1. - r_squared_i)\n"
     ]
    }
   ],
   "source": [
    "health_ins_df_vif = health_ins_df_processed[['bmi','sex_female', 'children_0','children_2', 'children_3', 'children_4', 'children_5', 'smoker_no','smoker_yes', 'region_northeast', 'region_northwest','region_southeast', 'region_southwest', 'age_group_mid-age','age_group_old', 'age_group_young']]\n",
    "vif_data = pd.DataFrame() \n",
    "vif_data[\"attribute\"] = health_ins_df_vif.columns \n",
    "vif_data[\"VIF\"] = [variance_inflation_factor(health_ins_df_vif.values, i) \n",
    "                          for i in range(len(health_ins_df_vif.columns))] \n",
    "  \n",
    "print(vif_data)"
   ]
  },
  {
   "cell_type": "code",
   "execution_count": null,
   "metadata": {
    "colab": {
     "base_uri": "https://localhost:8080/",
     "height": 714
    },
    "id": "TZU1gtAqH8_C",
    "outputId": "9dce2baf-84dc-4dad-e8eb-711d5d2accce"
   },
   "outputs": [
    {
     "name": "stdout",
     "output_type": "stream",
     "text": [
      "                            OLS Regression Results                            \n",
      "==============================================================================\n",
      "Dep. Variable:                charges   R-squared:                       0.745\n",
      "Model:                            OLS   Adj. R-squared:                  0.742\n",
      "Method:                 Least Squares   F-statistic:                     295.0\n",
      "Date:                Wed, 28 Oct 2020   Prob (F-statistic):               0.00\n",
      "Time:                        14:35:20   Log-Likelihood:                -13461.\n",
      "No. Observations:                1329   AIC:                         2.695e+04\n",
      "Df Residuals:                    1315   BIC:                         2.702e+04\n",
      "Df Model:                          13                                         \n",
      "Covariance Type:            nonrobust                                         \n",
      "=====================================================================================\n",
      "                        coef    std err          t      P>|t|      [0.025      0.975]\n",
      "-------------------------------------------------------------------------------------\n",
      "const                19.0403    636.550      0.030      0.976   -1229.724    1267.805\n",
      "bmi                 346.6547     29.616     11.705      0.000     288.556     404.754\n",
      "sex_female           63.5914    335.780      0.189      0.850    -595.131     722.314\n",
      "children_0        -1055.1622    430.139     -2.453      0.014   -1898.997    -211.328\n",
      "children_2         1245.4844    522.357      2.384      0.017     220.740    2270.228\n",
      "children_3          692.5645    595.768      1.162      0.245    -476.195    1861.324\n",
      "children_4         2901.9334   1267.007      2.290      0.022     416.358    5387.509\n",
      "children_5          764.0254   1481.485      0.516      0.606   -2142.307    3670.357\n",
      "smoker_yes         2.347e+04    418.749     56.052      0.000    2.27e+04    2.43e+04\n",
      "region_northeast    664.3924    318.489      2.086      0.037      39.590    1289.195\n",
      "region_northwest    235.9012    319.206      0.739      0.460    -390.307     862.109\n",
      "region_southeast   -498.7174    364.865     -1.367      0.172   -1214.498     217.063\n",
      "region_southwest   -382.5358    333.805     -1.146      0.252   -1037.384     272.312\n",
      "age_group_mid-age   136.7493    325.358      0.420      0.674    -501.529     775.028\n",
      "age_group_old      5020.0310    464.775     10.801      0.000    4108.250    5931.812\n",
      "age_group_young   -5137.7400    291.121    -17.648      0.000   -5708.851   -4566.629\n",
      "==============================================================================\n",
      "Omnibus:                      266.498   Durbin-Watson:                   2.084\n",
      "Prob(Omnibus):                  0.000   Jarque-Bera (JB):              581.715\n",
      "Skew:                           1.124   Prob(JB):                    4.81e-127\n",
      "Kurtosis:                       5.334   Cond. No.                     2.46e+17\n",
      "==============================================================================\n",
      "\n",
      "Warnings:\n",
      "[1] Standard Errors assume that the covariance matrix of the errors is correctly specified.\n",
      "[2] The smallest eigenvalue is 2.13e-29. This might indicate that there are\n",
      "strong multicollinearity problems or that the design matrix is singular.\n"
     ]
    }
   ],
   "source": [
    "#Dropping smoker_no\n",
    "X = health_ins_df_processed[['bmi','sex_female', 'children_0','children_2', 'children_3', 'children_4', 'children_5', 'smoker_yes', 'region_northeast', 'region_northwest','region_southeast', 'region_southwest', 'age_group_mid-age','age_group_old', 'age_group_young']]\n",
    "y = health_ins_df_processed['charges']\n",
    "X_train, X_test, y_train, y_test = train_test_split(X, y, test_size=0.33)\n",
    "\n",
    "X = sm.add_constant(X) # adding a constant\n",
    "\n",
    "model = sm.OLS(y, X).fit()\n",
    "predictions = model.predict(X) \n",
    "\n",
    "print_model = model.summary()\n",
    "print(print_model)"
   ]
  },
  {
   "cell_type": "code",
   "execution_count": null,
   "metadata": {
    "colab": {
     "base_uri": "https://localhost:8080/",
     "height": 343
    },
    "id": "cQc8lOa8ID2L",
    "outputId": "0eb8b239-8e1c-4705-fb48-ff9e22122129"
   },
   "outputs": [
    {
     "name": "stdout",
     "output_type": "stream",
     "text": [
      "            attribute       VIF\n",
      "0                 bmi  1.099784\n",
      "1          sex_female  1.009197\n",
      "2          children_0  1.623418\n",
      "3          children_2  1.436293\n",
      "4          children_3  1.324000\n",
      "5          children_4  1.060919\n",
      "6          children_5  1.049968\n",
      "7          smoker_yes  1.019222\n",
      "8    region_northeast       inf\n",
      "9    region_northwest       inf\n",
      "10   region_southeast       inf\n",
      "11   region_southwest       inf\n",
      "12  age_group_mid-age       inf\n",
      "13      age_group_old       inf\n",
      "14    age_group_young       inf\n"
     ]
    },
    {
     "name": "stderr",
     "output_type": "stream",
     "text": [
      "/usr/local/lib/python3.6/dist-packages/statsmodels/stats/outliers_influence.py:185: RuntimeWarning: divide by zero encountered in double_scalars\n",
      "  vif = 1. / (1. - r_squared_i)\n"
     ]
    }
   ],
   "source": [
    "health_ins_df_vif = health_ins_df_processed[['bmi','sex_female', 'children_0','children_2', 'children_3', 'children_4', 'children_5', 'smoker_yes', 'region_northeast', 'region_northwest','region_southeast', 'region_southwest', 'age_group_mid-age','age_group_old', 'age_group_young']]\n",
    "vif_data = pd.DataFrame() \n",
    "vif_data[\"attribute\"] = health_ins_df_vif.columns \n",
    "vif_data[\"VIF\"] = [variance_inflation_factor(health_ins_df_vif.values, i) \n",
    "                          for i in range(len(health_ins_df_vif.columns))] \n",
    "  \n",
    "print(vif_data)"
   ]
  },
  {
   "cell_type": "code",
   "execution_count": null,
   "metadata": {
    "colab": {
     "base_uri": "https://localhost:8080/",
     "height": 568
    },
    "id": "JaOChRtZTNHG",
    "outputId": "46605c7a-98d9-4a3e-8f5a-9557fe596f45"
   },
   "outputs": [
    {
     "data": {
      "text/html": [
       "<div>\n",
       "<style scoped>\n",
       "    .dataframe tbody tr th:only-of-type {\n",
       "        vertical-align: middle;\n",
       "    }\n",
       "\n",
       "    .dataframe tbody tr th {\n",
       "        vertical-align: top;\n",
       "    }\n",
       "\n",
       "    .dataframe thead th {\n",
       "        text-align: right;\n",
       "    }\n",
       "</style>\n",
       "<table border=\"1\" class=\"dataframe\">\n",
       "  <thead>\n",
       "    <tr style=\"text-align: right;\">\n",
       "      <th></th>\n",
       "      <th>bmi</th>\n",
       "      <th>sex_female</th>\n",
       "      <th>children_0</th>\n",
       "      <th>children_2</th>\n",
       "      <th>children_3</th>\n",
       "      <th>children_4</th>\n",
       "      <th>children_5</th>\n",
       "      <th>smoker_yes</th>\n",
       "      <th>region_northeast</th>\n",
       "      <th>region_northwest</th>\n",
       "      <th>region_southeast</th>\n",
       "      <th>region_southwest</th>\n",
       "      <th>age_group_mid-age</th>\n",
       "      <th>age_group_old</th>\n",
       "      <th>age_group_young</th>\n",
       "    </tr>\n",
       "  </thead>\n",
       "  <tbody>\n",
       "    <tr>\n",
       "      <th>bmi</th>\n",
       "      <td>1.000000</td>\n",
       "      <td>-0.039958</td>\n",
       "      <td>-0.012986</td>\n",
       "      <td>0.023607</td>\n",
       "      <td>0.009091</td>\n",
       "      <td>0.019978</td>\n",
       "      <td>-0.018461</td>\n",
       "      <td>-0.002871</td>\n",
       "      <td>-0.136193</td>\n",
       "      <td>-0.128598</td>\n",
       "      <td>0.255863</td>\n",
       "      <td>0.000651</td>\n",
       "      <td>0.061722</td>\n",
       "      <td>0.070413</td>\n",
       "      <td>-0.102850</td>\n",
       "    </tr>\n",
       "    <tr>\n",
       "      <th>sex_female</th>\n",
       "      <td>-0.039958</td>\n",
       "      <td>1.000000</td>\n",
       "      <td>0.014784</td>\n",
       "      <td>-0.003984</td>\n",
       "      <td>-0.003964</td>\n",
       "      <td>-0.015470</td>\n",
       "      <td>-0.012050</td>\n",
       "      <td>-0.079854</td>\n",
       "      <td>-0.000573</td>\n",
       "      <td>0.009961</td>\n",
       "      <td>-0.010263</td>\n",
       "      <td>0.001195</td>\n",
       "      <td>0.011029</td>\n",
       "      <td>0.010205</td>\n",
       "      <td>-0.016922</td>\n",
       "    </tr>\n",
       "    <tr>\n",
       "      <th>children_0</th>\n",
       "      <td>-0.012986</td>\n",
       "      <td>0.014784</td>\n",
       "      <td>1.000000</td>\n",
       "      <td>-0.405377</td>\n",
       "      <td>-0.317665</td>\n",
       "      <td>-0.120175</td>\n",
       "      <td>-0.101699</td>\n",
       "      <td>-0.009183</td>\n",
       "      <td>0.029145</td>\n",
       "      <td>-0.027001</td>\n",
       "      <td>0.002113</td>\n",
       "      <td>-0.004267</td>\n",
       "      <td>-0.122139</td>\n",
       "      <td>0.150396</td>\n",
       "      <td>0.025982</td>\n",
       "    </tr>\n",
       "    <tr>\n",
       "      <th>children_2</th>\n",
       "      <td>0.023607</td>\n",
       "      <td>-0.003984</td>\n",
       "      <td>-0.405377</td>\n",
       "      <td>1.000000</td>\n",
       "      <td>-0.170947</td>\n",
       "      <td>-0.064671</td>\n",
       "      <td>-0.054728</td>\n",
       "      <td>0.026637</td>\n",
       "      <td>-0.035887</td>\n",
       "      <td>0.035606</td>\n",
       "      <td>0.009155</td>\n",
       "      <td>-0.009244</td>\n",
       "      <td>0.063833</td>\n",
       "      <td>-0.082676</td>\n",
       "      <td>-0.011082</td>\n",
       "    </tr>\n",
       "    <tr>\n",
       "      <th>children_3</th>\n",
       "      <td>0.009091</td>\n",
       "      <td>-0.003964</td>\n",
       "      <td>-0.317665</td>\n",
       "      <td>-0.170947</td>\n",
       "      <td>1.000000</td>\n",
       "      <td>-0.050678</td>\n",
       "      <td>-0.042887</td>\n",
       "      <td>0.040420</td>\n",
       "      <td>0.004580</td>\n",
       "      <td>0.041256</td>\n",
       "      <td>-0.037731</td>\n",
       "      <td>-0.006925</td>\n",
       "      <td>0.027797</td>\n",
       "      <td>0.004414</td>\n",
       "      <td>-0.029592</td>\n",
       "    </tr>\n",
       "    <tr>\n",
       "      <th>children_4</th>\n",
       "      <td>0.019978</td>\n",
       "      <td>-0.015470</td>\n",
       "      <td>-0.120175</td>\n",
       "      <td>-0.064671</td>\n",
       "      <td>-0.050678</td>\n",
       "      <td>1.000000</td>\n",
       "      <td>-0.016224</td>\n",
       "      <td>-0.028837</td>\n",
       "      <td>0.011931</td>\n",
       "      <td>-0.001464</td>\n",
       "      <td>-0.021437</td>\n",
       "      <td>0.011676</td>\n",
       "      <td>-0.003140</td>\n",
       "      <td>-0.029224</td>\n",
       "      <td>0.020945</td>\n",
       "    </tr>\n",
       "    <tr>\n",
       "      <th>children_5</th>\n",
       "      <td>-0.018461</td>\n",
       "      <td>-0.012050</td>\n",
       "      <td>-0.101699</td>\n",
       "      <td>-0.054728</td>\n",
       "      <td>-0.042887</td>\n",
       "      <td>-0.016224</td>\n",
       "      <td>1.000000</td>\n",
       "      <td>-0.043146</td>\n",
       "      <td>-0.020864</td>\n",
       "      <td>-0.051521</td>\n",
       "      <td>0.017107</td>\n",
       "      <td>0.054758</td>\n",
       "      <td>-0.009126</td>\n",
       "      <td>-0.040047</td>\n",
       "      <td>0.033367</td>\n",
       "    </tr>\n",
       "    <tr>\n",
       "      <th>smoker_yes</th>\n",
       "      <td>-0.002871</td>\n",
       "      <td>-0.079854</td>\n",
       "      <td>-0.009183</td>\n",
       "      <td>0.026637</td>\n",
       "      <td>0.040420</td>\n",
       "      <td>-0.028837</td>\n",
       "      <td>-0.043146</td>\n",
       "      <td>1.000000</td>\n",
       "      <td>0.004947</td>\n",
       "      <td>-0.035940</td>\n",
       "      <td>0.068270</td>\n",
       "      <td>-0.039440</td>\n",
       "      <td>-0.029108</td>\n",
       "      <td>0.016209</td>\n",
       "      <td>0.018222</td>\n",
       "    </tr>\n",
       "    <tr>\n",
       "      <th>region_northeast</th>\n",
       "      <td>-0.136193</td>\n",
       "      <td>-0.000573</td>\n",
       "      <td>0.029145</td>\n",
       "      <td>-0.035887</td>\n",
       "      <td>0.004580</td>\n",
       "      <td>0.011931</td>\n",
       "      <td>-0.020864</td>\n",
       "      <td>0.004947</td>\n",
       "      <td>1.000000</td>\n",
       "      <td>-0.322387</td>\n",
       "      <td>-0.343402</td>\n",
       "      <td>-0.321730</td>\n",
       "      <td>0.004290</td>\n",
       "      <td>-0.004486</td>\n",
       "      <td>-0.001401</td>\n",
       "    </tr>\n",
       "    <tr>\n",
       "      <th>region_northwest</th>\n",
       "      <td>-0.128598</td>\n",
       "      <td>0.009961</td>\n",
       "      <td>-0.027001</td>\n",
       "      <td>0.035606</td>\n",
       "      <td>0.041256</td>\n",
       "      <td>-0.001464</td>\n",
       "      <td>-0.051521</td>\n",
       "      <td>-0.035940</td>\n",
       "      <td>-0.322387</td>\n",
       "      <td>1.000000</td>\n",
       "      <td>-0.344807</td>\n",
       "      <td>-0.323046</td>\n",
       "      <td>-0.002032</td>\n",
       "      <td>-0.005673</td>\n",
       "      <td>0.005441</td>\n",
       "    </tr>\n",
       "    <tr>\n",
       "      <th>region_southeast</th>\n",
       "      <td>0.255863</td>\n",
       "      <td>-0.010263</td>\n",
       "      <td>0.002113</td>\n",
       "      <td>0.009155</td>\n",
       "      <td>-0.037731</td>\n",
       "      <td>-0.021437</td>\n",
       "      <td>0.017107</td>\n",
       "      <td>0.068270</td>\n",
       "      <td>-0.343402</td>\n",
       "      <td>-0.344807</td>\n",
       "      <td>1.000000</td>\n",
       "      <td>-0.344105</td>\n",
       "      <td>-0.012058</td>\n",
       "      <td>0.009216</td>\n",
       "      <td>0.006016</td>\n",
       "    </tr>\n",
       "    <tr>\n",
       "      <th>region_southwest</th>\n",
       "      <td>0.000651</td>\n",
       "      <td>0.001195</td>\n",
       "      <td>-0.004267</td>\n",
       "      <td>-0.009244</td>\n",
       "      <td>-0.006925</td>\n",
       "      <td>0.011676</td>\n",
       "      <td>0.054758</td>\n",
       "      <td>-0.039440</td>\n",
       "      <td>-0.321730</td>\n",
       "      <td>-0.323046</td>\n",
       "      <td>-0.344105</td>\n",
       "      <td>1.000000</td>\n",
       "      <td>0.010195</td>\n",
       "      <td>0.000646</td>\n",
       "      <td>-0.010258</td>\n",
       "    </tr>\n",
       "    <tr>\n",
       "      <th>age_group_mid-age</th>\n",
       "      <td>0.061722</td>\n",
       "      <td>0.011029</td>\n",
       "      <td>-0.122139</td>\n",
       "      <td>0.063833</td>\n",
       "      <td>0.027797</td>\n",
       "      <td>-0.003140</td>\n",
       "      <td>-0.009126</td>\n",
       "      <td>-0.029108</td>\n",
       "      <td>0.004290</td>\n",
       "      <td>-0.002032</td>\n",
       "      <td>-0.012058</td>\n",
       "      <td>0.010195</td>\n",
       "      <td>1.000000</td>\n",
       "      <td>-0.262455</td>\n",
       "      <td>-0.806451</td>\n",
       "    </tr>\n",
       "    <tr>\n",
       "      <th>age_group_old</th>\n",
       "      <td>0.070413</td>\n",
       "      <td>0.010205</td>\n",
       "      <td>0.150396</td>\n",
       "      <td>-0.082676</td>\n",
       "      <td>0.004414</td>\n",
       "      <td>-0.029224</td>\n",
       "      <td>-0.040047</td>\n",
       "      <td>0.016209</td>\n",
       "      <td>-0.004486</td>\n",
       "      <td>-0.005673</td>\n",
       "      <td>0.009216</td>\n",
       "      <td>0.000646</td>\n",
       "      <td>-0.262455</td>\n",
       "      <td>1.000000</td>\n",
       "      <td>-0.358915</td>\n",
       "    </tr>\n",
       "    <tr>\n",
       "      <th>age_group_young</th>\n",
       "      <td>-0.102850</td>\n",
       "      <td>-0.016922</td>\n",
       "      <td>0.025982</td>\n",
       "      <td>-0.011082</td>\n",
       "      <td>-0.029592</td>\n",
       "      <td>0.020945</td>\n",
       "      <td>0.033367</td>\n",
       "      <td>0.018222</td>\n",
       "      <td>-0.001401</td>\n",
       "      <td>0.005441</td>\n",
       "      <td>0.006016</td>\n",
       "      <td>-0.010258</td>\n",
       "      <td>-0.806451</td>\n",
       "      <td>-0.358915</td>\n",
       "      <td>1.000000</td>\n",
       "    </tr>\n",
       "  </tbody>\n",
       "</table>\n",
       "</div>"
      ],
      "text/plain": [
       "                        bmi  sex_female  ...  age_group_old  age_group_young\n",
       "bmi                1.000000   -0.039958  ...       0.070413        -0.102850\n",
       "sex_female        -0.039958    1.000000  ...       0.010205        -0.016922\n",
       "children_0        -0.012986    0.014784  ...       0.150396         0.025982\n",
       "children_2         0.023607   -0.003984  ...      -0.082676        -0.011082\n",
       "children_3         0.009091   -0.003964  ...       0.004414        -0.029592\n",
       "children_4         0.019978   -0.015470  ...      -0.029224         0.020945\n",
       "children_5        -0.018461   -0.012050  ...      -0.040047         0.033367\n",
       "smoker_yes        -0.002871   -0.079854  ...       0.016209         0.018222\n",
       "region_northeast  -0.136193   -0.000573  ...      -0.004486        -0.001401\n",
       "region_northwest  -0.128598    0.009961  ...      -0.005673         0.005441\n",
       "region_southeast   0.255863   -0.010263  ...       0.009216         0.006016\n",
       "region_southwest   0.000651    0.001195  ...       0.000646        -0.010258\n",
       "age_group_mid-age  0.061722    0.011029  ...      -0.262455        -0.806451\n",
       "age_group_old      0.070413    0.010205  ...       1.000000        -0.358915\n",
       "age_group_young   -0.102850   -0.016922  ...      -0.358915         1.000000\n",
       "\n",
       "[15 rows x 15 columns]"
      ]
     },
     "execution_count": 75,
     "metadata": {
      "tags": []
     },
     "output_type": "execute_result"
    }
   ],
   "source": [
    "health_ins_df_vif.corr(method ='pearson')"
   ]
  },
  {
   "cell_type": "code",
   "execution_count": null,
   "metadata": {
    "colab": {
     "base_uri": "https://localhost:8080/",
     "height": 697
    },
    "id": "pPFUBuzmLJjw",
    "outputId": "5f38d50a-15c5-4625-b652-099a603d43f0"
   },
   "outputs": [
    {
     "name": "stdout",
     "output_type": "stream",
     "text": [
      "                            OLS Regression Results                            \n",
      "==============================================================================\n",
      "Dep. Variable:                charges   R-squared:                       0.745\n",
      "Model:                            OLS   Adj. R-squared:                  0.742\n",
      "Method:                 Least Squares   F-statistic:                     319.8\n",
      "Date:                Wed, 28 Oct 2020   Prob (F-statistic):               0.00\n",
      "Time:                        14:35:36   Log-Likelihood:                -13461.\n",
      "No. Observations:                1329   AIC:                         2.695e+04\n",
      "Df Residuals:                    1316   BIC:                         2.701e+04\n",
      "Df Model:                          12                                         \n",
      "Covariance Type:            nonrobust                                         \n",
      "=====================================================================================\n",
      "                        coef    std err          t      P>|t|      [0.025      0.975]\n",
      "-------------------------------------------------------------------------------------\n",
      "const                44.3968    622.082      0.071      0.943   -1175.984    1264.777\n",
      "bmi                 346.4177     29.578     11.712      0.000     288.392     404.444\n",
      "children_0        -1054.4117    429.964     -2.452      0.014   -1897.901    -210.923\n",
      "children_2         1245.7003    522.164      2.386      0.017     221.335    2270.066\n",
      "children_3          692.7750    595.549      1.163      0.245    -475.554    1861.104\n",
      "children_4         2898.4749   1266.411      2.289      0.022     414.070    5382.880\n",
      "children_5          760.0426   1480.793      0.513      0.608   -2144.930    3665.015\n",
      "smoker_yes         2.347e+04    417.228     56.241      0.000    2.26e+04    2.43e+04\n",
      "region_northeast    670.3725    316.804      2.116      0.035      48.877    1291.869\n",
      "region_northwest    242.2979    317.297      0.764      0.445    -380.166     864.762\n",
      "region_southeast   -492.0241    363.016     -1.355      0.176   -1204.177     220.129\n",
      "region_southwest   -376.2495    332.029     -1.133      0.257   -1027.613     275.114\n",
      "age_group_mid-age   145.3706    322.040      0.451      0.652    -486.397     777.138\n",
      "age_group_old      5029.2512    462.048     10.885      0.000    4122.819    5935.683\n",
      "age_group_young   -5130.2250    288.298    -17.795      0.000   -5695.799   -4564.651\n",
      "==============================================================================\n",
      "Omnibus:                      266.624   Durbin-Watson:                   2.084\n",
      "Prob(Omnibus):                  0.000   Jarque-Bera (JB):              582.025\n",
      "Skew:                           1.125   Prob(JB):                    4.12e-127\n",
      "Kurtosis:                       5.334   Cond. No.                     2.25e+17\n",
      "==============================================================================\n",
      "\n",
      "Warnings:\n",
      "[1] Standard Errors assume that the covariance matrix of the errors is correctly specified.\n",
      "[2] The smallest eigenvalue is 2.54e-29. This might indicate that there are\n",
      "strong multicollinearity problems or that the design matrix is singular.\n"
     ]
    }
   ],
   "source": [
    "#Dropping sex_female\n",
    "X = health_ins_df_processed[['bmi','children_0','children_2', 'children_3', 'children_4', 'children_5', 'smoker_yes', 'region_northeast', 'region_northwest','region_southeast', 'region_southwest', 'age_group_mid-age','age_group_old', 'age_group_young']]\n",
    "y = health_ins_df_processed['charges']\n",
    "X_train, X_test, y_train, y_test = train_test_split(X, y, test_size=0.33)\n",
    "\n",
    "X = sm.add_constant(X) # adding a constant\n",
    "\n",
    "model = sm.OLS(y, X).fit()\n",
    "predictions = model.predict(X) \n",
    "\n",
    "print_model = model.summary()\n",
    "print(print_model)"
   ]
  },
  {
   "cell_type": "code",
   "execution_count": null,
   "metadata": {
    "colab": {
     "base_uri": "https://localhost:8080/",
     "height": 326
    },
    "id": "2tkssW5nLRMc",
    "outputId": "349eadc7-5e89-4bd2-a684-4e66504ba1ed"
   },
   "outputs": [
    {
     "name": "stdout",
     "output_type": "stream",
     "text": [
      "            attribute       VIF\n",
      "0                 bmi  1.097820\n",
      "1          children_0  1.623280\n",
      "2          children_2  1.436286\n",
      "3          children_3  1.323996\n",
      "4          children_4  1.060698\n",
      "5          children_5  1.049756\n",
      "6          smoker_yes  1.012572\n",
      "7    region_northeast       inf\n",
      "8    region_northwest       inf\n",
      "9    region_southeast       inf\n",
      "10   region_southwest       inf\n",
      "11  age_group_mid-age       inf\n",
      "12      age_group_old       inf\n",
      "13    age_group_young       inf\n"
     ]
    },
    {
     "name": "stderr",
     "output_type": "stream",
     "text": [
      "/usr/local/lib/python3.6/dist-packages/statsmodels/stats/outliers_influence.py:185: RuntimeWarning: divide by zero encountered in double_scalars\n",
      "  vif = 1. / (1. - r_squared_i)\n"
     ]
    }
   ],
   "source": [
    "health_ins_df_vif = health_ins_df_processed[['bmi','children_0','children_2', 'children_3', 'children_4', 'children_5', 'smoker_yes', 'region_northeast', 'region_northwest','region_southeast', 'region_southwest', 'age_group_mid-age','age_group_old', 'age_group_young']]\n",
    "vif_data = pd.DataFrame() \n",
    "vif_data[\"attribute\"] = health_ins_df_vif.columns \n",
    "vif_data[\"VIF\"] = [variance_inflation_factor(health_ins_df_vif.values, i) \n",
    "                          for i in range(len(health_ins_df_vif.columns))] \n",
    "  \n",
    "print(vif_data)"
   ]
  },
  {
   "cell_type": "code",
   "execution_count": null,
   "metadata": {
    "colab": {
     "base_uri": "https://localhost:8080/",
     "height": 680
    },
    "id": "-Ii55yBSNSq1",
    "outputId": "ea7e7d56-60e2-4069-9c7f-b4f4bfbc6747"
   },
   "outputs": [
    {
     "name": "stdout",
     "output_type": "stream",
     "text": [
      "                            OLS Regression Results                            \n",
      "==============================================================================\n",
      "Dep. Variable:                charges   R-squared:                       0.745\n",
      "Model:                            OLS   Adj. R-squared:                  0.742\n",
      "Method:                 Least Squares   F-statistic:                     319.8\n",
      "Date:                Wed, 28 Oct 2020   Prob (F-statistic):               0.00\n",
      "Time:                        14:35:44   Log-Likelihood:                -13461.\n",
      "No. Observations:                1329   AIC:                         2.695e+04\n",
      "Df Residuals:                    1316   BIC:                         2.701e+04\n",
      "Df Model:                          12                                         \n",
      "Covariance Type:            nonrobust                                         \n",
      "=====================================================================================\n",
      "                        coef    std err          t      P>|t|      [0.025      0.975]\n",
      "-------------------------------------------------------------------------------------\n",
      "const               226.1202    746.164      0.303      0.762   -1237.681    1689.921\n",
      "bmi                 346.4177     29.578     11.712      0.000     288.392     404.444\n",
      "children_0        -1054.4117    429.964     -2.452      0.014   -1897.901    -210.923\n",
      "children_2         1245.7003    522.164      2.386      0.017     221.335    2270.066\n",
      "children_3          692.7750    595.549      1.163      0.245    -475.554    1861.104\n",
      "children_4         2898.4749   1266.411      2.289      0.022     414.070    5382.880\n",
      "children_5          760.0426   1480.793      0.513      0.608   -2144.930    3665.015\n",
      "smoker_yes         2.347e+04    417.228     56.241      0.000    2.26e+04    2.43e+04\n",
      "region_northeast    428.0747    479.472      0.893      0.372    -512.537    1368.687\n",
      "region_southeast   -734.3219    483.103     -1.520      0.129   -1682.058     213.414\n",
      "region_southwest   -618.5474    481.287     -1.285      0.199   -1562.720     325.625\n",
      "age_group_mid-age   205.9451    347.442      0.593      0.553    -475.656     887.546\n",
      "age_group_old      5089.8257    488.111     10.428      0.000    4132.264    6047.387\n",
      "age_group_young   -5069.6505    312.949    -16.200      0.000   -5683.584   -4455.717\n",
      "==============================================================================\n",
      "Omnibus:                      266.624   Durbin-Watson:                   2.084\n",
      "Prob(Omnibus):                  0.000   Jarque-Bera (JB):              582.025\n",
      "Skew:                           1.125   Prob(JB):                    4.12e-127\n",
      "Kurtosis:                       5.334   Cond. No.                     2.58e+16\n",
      "==============================================================================\n",
      "\n",
      "Warnings:\n",
      "[1] Standard Errors assume that the covariance matrix of the errors is correctly specified.\n",
      "[2] The smallest eigenvalue is 1.93e-27. This might indicate that there are\n",
      "strong multicollinearity problems or that the design matrix is singular.\n"
     ]
    }
   ],
   "source": [
    "#Dropping region_northwest\n",
    "X = health_ins_df_processed[['bmi','children_0','children_2', 'children_3', 'children_4', 'children_5', 'smoker_yes', 'region_northeast', 'region_southeast', 'region_southwest', 'age_group_mid-age','age_group_old', 'age_group_young']]\n",
    "y = health_ins_df_processed['charges']\n",
    "X_train, X_test, y_train, y_test = train_test_split(X, y, test_size=0.33)\n",
    "\n",
    "X = sm.add_constant(X) # adding a constant\n",
    "\n",
    "model = sm.OLS(y, X).fit()\n",
    "predictions = model.predict(X) \n",
    "\n",
    "print_model = model.summary()\n",
    "print(print_model)"
   ]
  },
  {
   "cell_type": "code",
   "execution_count": null,
   "metadata": {
    "colab": {
     "base_uri": "https://localhost:8080/",
     "height": 255
    },
    "id": "izSKJMbDNkoZ",
    "outputId": "61d39626-d876-4ffd-8673-de6cb7792c35"
   },
   "outputs": [
    {
     "name": "stdout",
     "output_type": "stream",
     "text": [
      "            attribute        VIF\n",
      "0                 bmi   1.097820\n",
      "1          children_0   1.623280\n",
      "2          children_2   1.436286\n",
      "3          children_3   1.323996\n",
      "4          children_4   1.060698\n",
      "5          children_5   1.049756\n",
      "6          smoker_yes   1.012572\n",
      "7    region_northeast   1.515483\n",
      "8    region_southeast   1.643003\n",
      "9    region_southwest   1.530183\n",
      "10  age_group_mid-age  13.447775\n",
      "11      age_group_old   4.809862\n",
      "12    age_group_young  17.769851\n"
     ]
    }
   ],
   "source": [
    "health_ins_df_vif = health_ins_df_processed[['bmi','children_0','children_2', 'children_3', 'children_4', 'children_5', 'smoker_yes', 'region_northeast', 'region_southeast', 'region_southwest', 'age_group_mid-age','age_group_old', 'age_group_young']]\n",
    "vif_data = pd.DataFrame() \n",
    "vif_data[\"attribute\"] = health_ins_df_vif.columns \n",
    "vif_data[\"VIF\"] = [variance_inflation_factor(health_ins_df_vif.values, i) \n",
    "                          for i in range(len(health_ins_df_vif.columns))] \n",
    "  \n",
    "print(vif_data)"
   ]
  },
  {
   "cell_type": "code",
   "execution_count": null,
   "metadata": {
    "colab": {
     "base_uri": "https://localhost:8080/",
     "height": 629
    },
    "id": "FSv766XoNs_8",
    "outputId": "1df6ee0f-2b84-471c-8de0-09ecd2f36887"
   },
   "outputs": [
    {
     "name": "stdout",
     "output_type": "stream",
     "text": [
      "                            OLS Regression Results                            \n",
      "==============================================================================\n",
      "Dep. Variable:                charges   R-squared:                       0.745\n",
      "Model:                            OLS   Adj. R-squared:                  0.742\n",
      "Method:                 Least Squares   F-statistic:                     319.8\n",
      "Date:                Wed, 28 Oct 2020   Prob (F-statistic):               0.00\n",
      "Time:                        14:35:54   Log-Likelihood:                -13461.\n",
      "No. Observations:                1329   AIC:                         2.695e+04\n",
      "Df Residuals:                    1316   BIC:                         2.701e+04\n",
      "Df Model:                          12                                         \n",
      "Covariance Type:            nonrobust                                         \n",
      "====================================================================================\n",
      "                       coef    std err          t      P>|t|      [0.025      0.975]\n",
      "------------------------------------------------------------------------------------\n",
      "const              432.0653   1005.835      0.430      0.668   -1541.150    2405.281\n",
      "bmi                346.4177     29.578     11.712      0.000     288.392     404.444\n",
      "children_0       -1054.4117    429.964     -2.452      0.014   -1897.901    -210.923\n",
      "children_2        1245.7003    522.164      2.386      0.017     221.335    2270.066\n",
      "children_3         692.7750    595.549      1.163      0.245    -475.554    1861.104\n",
      "children_4        2898.4749   1266.411      2.289      0.022     414.070    5382.880\n",
      "children_5         760.0426   1480.793      0.513      0.608   -2144.930    3665.015\n",
      "smoker_yes        2.347e+04    417.228     56.241      0.000    2.26e+04    2.43e+04\n",
      "region_northeast   428.0747    479.472      0.893      0.372    -512.537    1368.687\n",
      "region_southeast  -734.3219    483.103     -1.520      0.129   -1682.058     213.414\n",
      "region_southwest  -618.5474    481.287     -1.285      0.199   -1562.720     325.625\n",
      "age_group_old     4883.8806    595.087      8.207      0.000    3716.458    6051.303\n",
      "age_group_young  -5275.5956    361.521    -14.593      0.000   -5984.817   -4566.375\n",
      "==============================================================================\n",
      "Omnibus:                      266.624   Durbin-Watson:                   2.084\n",
      "Prob(Omnibus):                  0.000   Jarque-Bera (JB):              582.025\n",
      "Skew:                           1.125   Prob(JB):                    4.12e-127\n",
      "Kurtosis:                       5.334   Cond. No.                         281.\n",
      "==============================================================================\n",
      "\n",
      "Warnings:\n",
      "[1] Standard Errors assume that the covariance matrix of the errors is correctly specified.\n"
     ]
    }
   ],
   "source": [
    "#Dropping age_group_mid-age\n",
    "X = health_ins_df_processed[['bmi','children_0','children_2', 'children_3', 'children_4', 'children_5', 'smoker_yes', 'region_northeast', 'region_southeast', 'region_southwest', 'age_group_old', 'age_group_young']]\n",
    "y = health_ins_df_processed['charges']\n",
    "X_train, X_test, y_train, y_test = train_test_split(X, y, test_size=0.33)\n",
    "\n",
    "X = sm.add_constant(X) # adding a constant\n",
    "\n",
    "model = sm.OLS(y, X).fit()\n",
    "predictions = model.predict(X) \n",
    "\n",
    "print_model = model.summary()\n",
    "print(print_model)"
   ]
  },
  {
   "cell_type": "code",
   "execution_count": null,
   "metadata": {
    "colab": {
     "base_uri": "https://localhost:8080/",
     "height": 238
    },
    "id": "LNB3fYlqN0Pm",
    "outputId": "eeda9021-f08d-4f0e-900f-ff6612131693"
   },
   "outputs": [
    {
     "name": "stdout",
     "output_type": "stream",
     "text": [
      "           attribute       VIF\n",
      "0                bmi  7.499317\n",
      "1         children_0  2.676311\n",
      "2         children_2  1.675961\n",
      "3         children_3  1.452813\n",
      "4         children_4  1.076977\n",
      "5         children_5  1.057367\n",
      "6         smoker_yes  1.264397\n",
      "7   region_northeast  1.883785\n",
      "8   region_southeast  2.244260\n",
      "9   region_southwest  1.965415\n",
      "10     age_group_old  1.320875\n",
      "11   age_group_young  2.276242\n"
     ]
    }
   ],
   "source": [
    "health_ins_df_vif = health_ins_df_processed[['bmi','children_0','children_2', 'children_3', 'children_4', 'children_5', 'smoker_yes', 'region_northeast', 'region_southeast', 'region_southwest', 'age_group_old', 'age_group_young']]\n",
    "vif_data = pd.DataFrame() \n",
    "vif_data[\"attribute\"] = health_ins_df_vif.columns \n",
    "vif_data[\"VIF\"] = [variance_inflation_factor(health_ins_df_vif.values, i) \n",
    "                          for i in range(len(health_ins_df_vif.columns))] \n",
    "  \n",
    "print(vif_data)"
   ]
  },
  {
   "cell_type": "code",
   "execution_count": null,
   "metadata": {
    "colab": {
     "base_uri": "https://localhost:8080/",
     "height": 612
    },
    "id": "5zjNP7_IN9hn",
    "outputId": "36e06ac0-fc30-4765-866c-fea791709b89"
   },
   "outputs": [
    {
     "name": "stdout",
     "output_type": "stream",
     "text": [
      "                            OLS Regression Results                            \n",
      "==============================================================================\n",
      "Dep. Variable:                charges   R-squared:                       0.745\n",
      "Model:                            OLS   Adj. R-squared:                  0.742\n",
      "Method:                 Least Squares   F-statistic:                     349.0\n",
      "Date:                Wed, 28 Oct 2020   Prob (F-statistic):               0.00\n",
      "Time:                        14:36:07   Log-Likelihood:                -13461.\n",
      "No. Observations:                1329   AIC:                         2.695e+04\n",
      "Df Residuals:                    1317   BIC:                         2.701e+04\n",
      "Df Model:                          11                                         \n",
      "Covariance Type:            nonrobust                                         \n",
      "====================================================================================\n",
      "                       coef    std err          t      P>|t|      [0.025      0.975]\n",
      "------------------------------------------------------------------------------------\n",
      "const              473.3410   1002.335      0.472      0.637   -1493.007    2439.689\n",
      "bmi                346.0887     29.563     11.707      0.000     288.093     404.085\n",
      "children_0       -1094.2298    422.789     -2.588      0.010   -1923.643    -264.817\n",
      "children_2        1206.3161    516.351      2.336      0.020     193.355    2219.277\n",
      "children_3         654.2344    590.631      1.108      0.268    -504.446    1812.914\n",
      "children_4        2857.7278   1263.567      2.262      0.024     378.904    5336.552\n",
      "smoker_yes        2.346e+04    416.799     56.279      0.000    2.26e+04    2.43e+04\n",
      "region_northeast   432.4179    479.263      0.902      0.367    -507.784    1372.620\n",
      "region_southeast  -723.5895    482.515     -1.500      0.134   -1670.172     222.993\n",
      "region_southwest  -602.9456    480.191     -1.256      0.209   -1544.969     339.078\n",
      "age_group_old     4881.2283    594.898      8.205      0.000    3714.177    6048.279\n",
      "age_group_young  -5270.3174    361.274    -14.588      0.000   -5979.053   -4561.582\n",
      "==============================================================================\n",
      "Omnibus:                      265.532   Durbin-Watson:                   2.084\n",
      "Prob(Omnibus):                  0.000   Jarque-Bera (JB):              577.781\n",
      "Skew:                           1.122   Prob(JB):                    3.44e-126\n",
      "Kurtosis:                       5.323   Cond. No.                         239.\n",
      "==============================================================================\n",
      "\n",
      "Warnings:\n",
      "[1] Standard Errors assume that the covariance matrix of the errors is correctly specified.\n"
     ]
    }
   ],
   "source": [
    "#Dropping children_5\n",
    "X = health_ins_df_processed[['bmi','children_0','children_2', 'children_3', 'children_4', 'smoker_yes', 'region_northeast', 'region_southeast', 'region_southwest', 'age_group_old', 'age_group_young']]\n",
    "y = health_ins_df_processed['charges']\n",
    "X_train, X_test, y_train, y_test = train_test_split(X, y, test_size=0.33)\n",
    "\n",
    "X = sm.add_constant(X) # adding a constant\n",
    "\n",
    "model = sm.OLS(y, X).fit()\n",
    "predictions = model.predict(X) \n",
    "\n",
    "print_model = model.summary()\n",
    "print(print_model)"
   ]
  },
  {
   "cell_type": "markdown",
   "metadata": {
    "id": "82ZrjmGjQc6b"
   },
   "source": [
    "Dropping children_2 variable decreased Adjusted R-square value. This indicates this "
   ]
  },
  {
   "cell_type": "code",
   "execution_count": null,
   "metadata": {
    "colab": {
     "base_uri": "https://localhost:8080/",
     "height": 221
    },
    "id": "mHkoRONnOA04",
    "outputId": "0b9b5e13-f55b-42bf-a1c6-7b5656f23745"
   },
   "outputs": [
    {
     "name": "stdout",
     "output_type": "stream",
     "text": [
      "           attribute       VIF\n",
      "0                bmi  7.429867\n",
      "1         children_0  2.602154\n",
      "2         children_2  1.645952\n",
      "3         children_3  1.433957\n",
      "4         children_4  1.073344\n",
      "5         smoker_yes  1.263044\n",
      "6   region_northeast  1.881015\n",
      "7   region_southeast  2.239522\n",
      "8   region_southwest  1.953433\n",
      "9      age_group_old  1.320862\n",
      "10   age_group_young  2.270042\n"
     ]
    }
   ],
   "source": [
    "health_ins_df_vif = health_ins_df_processed[['bmi','children_0','children_2', 'children_3', 'children_4', 'smoker_yes', 'region_northeast', 'region_southeast', 'region_southwest', 'age_group_old', 'age_group_young']]\n",
    "vif_data = pd.DataFrame() \n",
    "vif_data[\"attribute\"] = health_ins_df_vif.columns \n",
    "vif_data[\"VIF\"] = [variance_inflation_factor(health_ins_df_vif.values, i) \n",
    "                          for i in range(len(health_ins_df_vif.columns))] \n",
    "  \n",
    "print(vif_data)"
   ]
  },
  {
   "cell_type": "code",
   "execution_count": null,
   "metadata": {
    "colab": {
     "base_uri": "https://localhost:8080/",
     "height": 595
    },
    "id": "hJ3EyIIwOURY",
    "outputId": "bf7779a8-b717-4613-df05-bdbbec8110f1"
   },
   "outputs": [
    {
     "name": "stdout",
     "output_type": "stream",
     "text": [
      "                            OLS Regression Results                            \n",
      "==============================================================================\n",
      "Dep. Variable:                charges   R-squared:                       0.744\n",
      "Model:                            OLS   Adj. R-squared:                  0.742\n",
      "Method:                 Least Squares   F-statistic:                     383.9\n",
      "Date:                Wed, 28 Oct 2020   Prob (F-statistic):               0.00\n",
      "Time:                        14:36:19   Log-Likelihood:                -13461.\n",
      "No. Observations:                1329   AIC:                         2.694e+04\n",
      "Df Residuals:                    1318   BIC:                         2.700e+04\n",
      "Df Model:                          10                                         \n",
      "Covariance Type:            nonrobust                                         \n",
      "====================================================================================\n",
      "                       coef    std err          t      P>|t|      [0.025      0.975]\n",
      "------------------------------------------------------------------------------------\n",
      "const              695.1766    971.644      0.715      0.474   -1210.960    2601.314\n",
      "bmi                345.9961     29.561     11.705      0.000     288.005     403.988\n",
      "children_0       -1091.4859    422.748     -2.582      0.010   -1920.818    -262.153\n",
      "children_2        1188.1067    515.920      2.303      0.021     175.992    2200.221\n",
      "children_3         640.8280    590.402      1.085      0.278    -517.403    1799.059\n",
      "children_4        2864.0784   1263.458      2.267      0.024     385.470    5342.687\n",
      "smoker_yes        2.347e+04    416.606     56.331      0.000    2.27e+04    2.43e+04\n",
      "region_southeast  -939.6300    418.882     -2.243      0.025   -1761.379    -117.881\n",
      "region_southwest  -818.5365    416.490     -1.965      0.050   -1635.592      -1.481\n",
      "age_group_old     4877.3825    594.841      8.199      0.000    3710.445    6044.320\n",
      "age_group_young  -5273.2173    361.234    -14.598      0.000   -5981.874   -4564.561\n",
      "==============================================================================\n",
      "Omnibus:                      264.454   Durbin-Watson:                   2.088\n",
      "Prob(Omnibus):                  0.000   Jarque-Bera (JB):              572.696\n",
      "Skew:                           1.120   Prob(JB):                    4.37e-125\n",
      "Kurtosis:                       5.308   Cond. No.                         239.\n",
      "==============================================================================\n",
      "\n",
      "Warnings:\n",
      "[1] Standard Errors assume that the covariance matrix of the errors is correctly specified.\n"
     ]
    }
   ],
   "source": [
    "#Dropping region_northeast\n",
    "X = health_ins_df_processed[['bmi','children_0','children_2', 'children_3', 'children_4', 'smoker_yes',  'region_southeast', 'region_southwest', 'age_group_old', 'age_group_young']]\n",
    "y = health_ins_df_processed['charges']\n",
    "X_train, X_test, y_train, y_test = train_test_split(X, y, test_size=0.33)\n",
    "\n",
    "X = sm.add_constant(X) # adding a constant\n",
    "\n",
    "model = sm.OLS(y, X).fit()\n",
    "predictions = model.predict(X) \n",
    "\n",
    "print_model = model.summary()\n",
    "print(print_model)"
   ]
  },
  {
   "cell_type": "code",
   "execution_count": null,
   "metadata": {
    "colab": {
     "base_uri": "https://localhost:8080/",
     "height": 204
    },
    "id": "KYKTOwr1OY8W",
    "outputId": "7c26a359-74ce-484f-9e2b-300fca082f4d"
   },
   "outputs": [
    {
     "name": "stdout",
     "output_type": "stream",
     "text": [
      "          attribute       VIF\n",
      "0               bmi  6.011912\n",
      "1        children_0  2.589894\n",
      "2        children_2  1.645803\n",
      "3        children_3  1.433506\n",
      "4        children_4  1.072911\n",
      "5        smoker_yes  1.260157\n",
      "6  region_southeast  1.672064\n",
      "7  region_southwest  1.510284\n",
      "8     age_group_old  1.320731\n",
      "9   age_group_young  2.261170\n"
     ]
    }
   ],
   "source": [
    "health_ins_df_vif = health_ins_df_processed[['bmi','children_0','children_2', 'children_3', 'children_4', 'smoker_yes',  'region_southeast', 'region_southwest', 'age_group_old', 'age_group_young']]\n",
    "vif_data = pd.DataFrame() \n",
    "vif_data[\"attribute\"] = health_ins_df_vif.columns \n",
    "vif_data[\"VIF\"] = [variance_inflation_factor(health_ins_df_vif.values, i) \n",
    "                          for i in range(len(health_ins_df_vif.columns))] \n",
    "  \n",
    "print(vif_data)"
   ]
  },
  {
   "cell_type": "code",
   "execution_count": null,
   "metadata": {
    "colab": {
     "base_uri": "https://localhost:8080/",
     "height": 578
    },
    "id": "dxXs67iUOiH_",
    "outputId": "6f5d7a90-c65f-40c4-8cdd-36dd76158db6"
   },
   "outputs": [
    {
     "name": "stdout",
     "output_type": "stream",
     "text": [
      "                            OLS Regression Results                            \n",
      "==============================================================================\n",
      "Dep. Variable:                charges   R-squared:                       0.743\n",
      "Model:                            OLS   Adj. R-squared:                  0.742\n",
      "Method:                 Least Squares   F-statistic:                     424.7\n",
      "Date:                Wed, 28 Oct 2020   Prob (F-statistic):               0.00\n",
      "Time:                        14:36:28   Log-Likelihood:                -13464.\n",
      "No. Observations:                1329   AIC:                         2.695e+04\n",
      "Df Residuals:                    1319   BIC:                         2.700e+04\n",
      "Df Model:                           9                                         \n",
      "Covariance Type:            nonrobust                                         \n",
      "====================================================================================\n",
      "                       coef    std err          t      P>|t|      [0.025      0.975]\n",
      "------------------------------------------------------------------------------------\n",
      "const              826.7383    971.429      0.851      0.395   -1078.977    2732.453\n",
      "bmi                348.2389     29.591     11.769      0.000     290.189     406.289\n",
      "children_0       -1289.1043    414.310     -3.111      0.002   -2101.883    -476.325\n",
      "children_2         990.8310    509.325      1.945      0.052      -8.344    1990.006\n",
      "children_3         443.1336    584.841      0.758      0.449    -704.186    1590.454\n",
      "smoker_yes        2.345e+04    417.192     56.211      0.000    2.26e+04    2.43e+04\n",
      "region_southeast  -970.0149    419.324     -2.313      0.021   -1792.630    -147.400\n",
      "region_southwest  -822.7966    417.139     -1.972      0.049   -1641.124      -4.469\n",
      "age_group_old     4877.7066    595.773      8.187      0.000    3708.940    6046.473\n",
      "age_group_young  -5254.0898    361.702    -14.526      0.000   -5963.663   -4544.516\n",
      "==============================================================================\n",
      "Omnibus:                      265.174   Durbin-Watson:                   2.089\n",
      "Prob(Omnibus):                  0.000   Jarque-Bera (JB):              571.850\n",
      "Skew:                           1.125   Prob(JB):                    6.67e-125\n",
      "Kurtosis:                       5.295   Cond. No.                         187.\n",
      "==============================================================================\n",
      "\n",
      "Warnings:\n",
      "[1] Standard Errors assume that the covariance matrix of the errors is correctly specified.\n"
     ]
    }
   ],
   "source": [
    "#Dropping children_4\n",
    "X = health_ins_df_processed[['bmi','children_0','children_2', 'children_3', 'smoker_yes',  'region_southeast', 'region_southwest', 'age_group_old', 'age_group_young']]\n",
    "y = health_ins_df_processed['charges']\n",
    "X_train, X_test, y_train, y_test = train_test_split(X, y, test_size=0.33)\n",
    "\n",
    "X = sm.add_constant(X) # adding a constant\n",
    "\n",
    "model = sm.OLS(y, X).fit()\n",
    "predictions = model.predict(X) \n",
    "\n",
    "print_model = model.summary()\n",
    "print(print_model)"
   ]
  },
  {
   "cell_type": "code",
   "execution_count": null,
   "metadata": {
    "colab": {
     "base_uri": "https://localhost:8080/",
     "height": 187
    },
    "id": "Bza90H7uOrU6",
    "outputId": "d76420b0-df14-43e3-db8c-6a04aa56f143"
   },
   "outputs": [
    {
     "name": "stdout",
     "output_type": "stream",
     "text": [
      "          attribute       VIF\n",
      "0               bmi  5.781882\n",
      "1        children_0  2.488388\n",
      "2        children_2  1.603427\n",
      "3        children_3  1.405484\n",
      "4        smoker_yes  1.259944\n",
      "5  region_southeast  1.669594\n",
      "6  region_southwest  1.510283\n",
      "7     age_group_old  1.320706\n",
      "8   age_group_young  2.257210\n"
     ]
    }
   ],
   "source": [
    "health_ins_df_vif = health_ins_df_processed[['bmi','children_0','children_2', 'children_3', 'smoker_yes',  'region_southeast', 'region_southwest', 'age_group_old', 'age_group_young']]\n",
    "vif_data = pd.DataFrame() \n",
    "vif_data[\"attribute\"] = health_ins_df_vif.columns \n",
    "vif_data[\"VIF\"] = [variance_inflation_factor(health_ins_df_vif.values, i) \n",
    "                          for i in range(len(health_ins_df_vif.columns))] \n",
    "  \n",
    "print(vif_data)"
   ]
  },
  {
   "cell_type": "code",
   "execution_count": null,
   "metadata": {
    "colab": {
     "base_uri": "https://localhost:8080/",
     "height": 561
    },
    "id": "0sZPPz6adaUE",
    "outputId": "8b252d6d-370e-44c1-8843-837abfdc1397"
   },
   "outputs": [
    {
     "name": "stdout",
     "output_type": "stream",
     "text": [
      "                            OLS Regression Results                            \n",
      "==============================================================================\n",
      "Dep. Variable:                charges   R-squared:                       0.743\n",
      "Model:                            OLS   Adj. R-squared:                  0.742\n",
      "Method:                 Least Squares   F-statistic:                     477.8\n",
      "Date:                Wed, 28 Oct 2020   Prob (F-statistic):               0.00\n",
      "Time:                        14:36:35   Log-Likelihood:                -13464.\n",
      "No. Observations:                1329   AIC:                         2.695e+04\n",
      "Df Residuals:                    1320   BIC:                         2.699e+04\n",
      "Df Model:                           8                                         \n",
      "Covariance Type:            nonrobust                                         \n",
      "====================================================================================\n",
      "                       coef    std err          t      P>|t|      [0.025      0.975]\n",
      "------------------------------------------------------------------------------------\n",
      "const              947.4608    958.120      0.989      0.323    -932.143    2827.064\n",
      "bmi                348.7607     29.578     11.791      0.000     290.736     406.785\n",
      "children_0       -1424.5140    373.725     -3.812      0.000   -2157.673    -691.355\n",
      "children_2         856.8713    477.578      1.794      0.073     -80.023    1793.765\n",
      "smoker_yes        2.347e+04    416.528     56.341      0.000    2.27e+04    2.43e+04\n",
      "region_southeast  -986.9176    418.663     -2.357      0.019   -1808.234    -165.601\n",
      "region_southwest  -832.2850    416.883     -1.996      0.046   -1650.111     -14.459\n",
      "age_group_old     4897.1445    595.124      8.229      0.000    3729.651    6064.637\n",
      "age_group_young  -5255.5484    361.638    -14.533      0.000   -5964.997   -4546.100\n",
      "==============================================================================\n",
      "Omnibus:                      262.998   Durbin-Watson:                   2.088\n",
      "Prob(Omnibus):                  0.000   Jarque-Bera (JB):              564.095\n",
      "Skew:                           1.118   Prob(JB):                    3.22e-123\n",
      "Kurtosis:                       5.277   Cond. No.                         182.\n",
      "==============================================================================\n",
      "\n",
      "Warnings:\n",
      "[1] Standard Errors assume that the covariance matrix of the errors is correctly specified.\n"
     ]
    }
   ],
   "source": [
    "#Dropping children_3\n",
    "X = health_ins_df_processed[['bmi','children_0','children_2', 'smoker_yes',  'region_southeast', 'region_southwest', 'age_group_old', 'age_group_young']]\n",
    "y = health_ins_df_processed['charges']\n",
    "X_train, X_test, y_train, y_test = train_test_split(X, y, test_size=0.33)\n",
    "\n",
    "X = sm.add_constant(X) # adding a constant\n",
    "\n",
    "model = sm.OLS(y, X).fit()\n",
    "predictions = model.predict(X) \n",
    "\n",
    "print_model = model.summary()\n",
    "print(print_model)"
   ]
  },
  {
   "cell_type": "code",
   "execution_count": null,
   "metadata": {
    "colab": {
     "base_uri": "https://localhost:8080/",
     "height": 170
    },
    "id": "IUMHMnDgdd_C",
    "outputId": "ccd5766b-1aa8-4c46-d794-d2ee24f5a0f2"
   },
   "outputs": [
    {
     "name": "stdout",
     "output_type": "stream",
     "text": [
      "          attribute       VIF\n",
      "0               bmi  4.874029\n",
      "1        children_0  2.071018\n",
      "2        children_2  1.432274\n",
      "3        smoker_yes  1.254084\n",
      "4  region_southeast  1.660974\n",
      "5  region_southwest  1.509681\n",
      "6     age_group_old  1.316678\n",
      "7   age_group_young  2.252979\n"
     ]
    }
   ],
   "source": [
    "health_ins_df_vif = health_ins_df_processed[['bmi','children_0','children_2', 'smoker_yes',  'region_southeast', 'region_southwest', 'age_group_old', 'age_group_young']]\n",
    "vif_data = pd.DataFrame() \n",
    "vif_data[\"attribute\"] = health_ins_df_vif.columns \n",
    "vif_data[\"VIF\"] = [variance_inflation_factor(health_ins_df_vif.values, i) \n",
    "                          for i in range(len(health_ins_df_vif.columns))] \n",
    "  \n",
    "print(vif_data)"
   ]
  },
  {
   "cell_type": "code",
   "execution_count": null,
   "metadata": {
    "colab": {
     "base_uri": "https://localhost:8080/",
     "height": 544
    },
    "id": "K1CmEdT_dkbL",
    "outputId": "c9359fb4-312b-4b26-8c7e-3814e9d984c0"
   },
   "outputs": [
    {
     "name": "stdout",
     "output_type": "stream",
     "text": [
      "                            OLS Regression Results                            \n",
      "==============================================================================\n",
      "Dep. Variable:                charges   R-squared:                       0.743\n",
      "Model:                            OLS   Adj. R-squared:                  0.741\n",
      "Method:                 Least Squares   F-statistic:                     544.7\n",
      "Date:                Wed, 28 Oct 2020   Prob (F-statistic):               0.00\n",
      "Time:                        14:36:44   Log-Likelihood:                -13466.\n",
      "No. Observations:                1329   AIC:                         2.695e+04\n",
      "Df Residuals:                    1321   BIC:                         2.699e+04\n",
      "Df Model:                           7                                         \n",
      "Covariance Type:            nonrobust                                         \n",
      "====================================================================================\n",
      "                       coef    std err          t      P>|t|      [0.025      0.975]\n",
      "------------------------------------------------------------------------------------\n",
      "const             1186.4016    949.616      1.249      0.212    -676.518    3049.321\n",
      "bmi                349.8376     29.597     11.820      0.000     291.776     407.899\n",
      "children_0       -1690.3860    343.379     -4.923      0.000   -2364.014   -1016.758\n",
      "smoker_yes        2.349e+04    416.744     56.357      0.000    2.27e+04    2.43e+04\n",
      "region_southeast  -986.6851    419.014     -2.355      0.019   -1808.691    -164.679\n",
      "region_southwest  -839.9508    417.212     -2.013      0.044   -1658.420     -21.481\n",
      "age_group_old     4867.7153    595.398      8.176      0.000    3699.687    6035.744\n",
      "age_group_young  -5261.4987    361.927    -14.537      0.000   -5971.512   -4551.485\n",
      "==============================================================================\n",
      "Omnibus:                      264.754   Durbin-Watson:                   2.089\n",
      "Prob(Omnibus):                  0.000   Jarque-Bera (JB):              567.574\n",
      "Skew:                           1.126   Prob(JB):                    5.66e-124\n",
      "Kurtosis:                       5.276   Cond. No.                         179.\n",
      "==============================================================================\n",
      "\n",
      "Warnings:\n",
      "[1] Standard Errors assume that the covariance matrix of the errors is correctly specified.\n"
     ]
    }
   ],
   "source": [
    "#Dropping children_2\n",
    "X = health_ins_df_processed[['bmi','children_0', 'smoker_yes',  'region_southeast', 'region_southwest', 'age_group_old', 'age_group_young']]\n",
    "y = health_ins_df_processed['charges']\n",
    "X_train, X_test, y_train, y_test = train_test_split(X, y, test_size=0.33)\n",
    "\n",
    "X = sm.add_constant(X) # adding a constant\n",
    "\n",
    "model = sm.OLS(y, X).fit()\n",
    "predictions = model.predict(X) \n",
    "\n",
    "print_model = model.summary()\n",
    "print(print_model)"
   ]
  },
  {
   "cell_type": "code",
   "execution_count": null,
   "metadata": {
    "colab": {
     "base_uri": "https://localhost:8080/",
     "height": 153
    },
    "id": "f1MzNB4Hdnxj",
    "outputId": "b7f87ac9-27aa-4af7-99c2-70173f3ded9f"
   },
   "outputs": [
    {
     "name": "stdout",
     "output_type": "stream",
     "text": [
      "          attribute       VIF\n",
      "0               bmi  4.201606\n",
      "1        children_0  1.770557\n",
      "2        smoker_yes  1.252199\n",
      "3  region_southeast  1.660546\n",
      "4  region_southwest  1.509675\n",
      "5     age_group_old  1.316294\n",
      "6   age_group_young  2.250656\n"
     ]
    }
   ],
   "source": [
    "health_ins_df_vif = health_ins_df_processed[['bmi','children_0', 'smoker_yes',  'region_southeast', 'region_southwest', 'age_group_old', 'age_group_young']]\n",
    "vif_data = pd.DataFrame() \n",
    "vif_data[\"attribute\"] = health_ins_df_vif.columns \n",
    "vif_data[\"VIF\"] = [variance_inflation_factor(health_ins_df_vif.values, i) \n",
    "                          for i in range(len(health_ins_df_vif.columns))] \n",
    "  \n",
    "print(vif_data)"
   ]
  },
  {
   "cell_type": "markdown",
   "metadata": {
    "id": "_Hk--_1Zd0sK"
   },
   "source": [
    "\n",
    "\n",
    "*   This is our final model\n",
    "*   Final attributes considered are - bmi , children_0,smoker_yes, region_southeast, region_southwest, age_group_old, age_group_young\n",
    "*   The final accuracy obtained for base model - 74.1%\n",
    "\n",
    "\n",
    "\n"
   ]
  },
  {
   "cell_type": "markdown",
   "metadata": {
    "id": "iEOK-OYhgEvQ"
   },
   "source": [
    "### **Building advanced model using Decision Tree Regressor**"
   ]
  },
  {
   "cell_type": "markdown",
   "metadata": {
    "id": "xPV2z5nixhVf"
   },
   "source": [
    "### **Building advanced model using Gradient Boosting**"
   ]
  },
  {
   "cell_type": "markdown",
   "metadata": {
    "id": "8-cN57tyCW2Q"
   },
   "source": [
    "# **Saving the model**"
   ]
  }
 ],
 "metadata": {
  "colab": {
   "collapsed_sections": [],
   "name": "health-insurance-dataAnalysis.ipynb",
   "provenance": [],
   "toc_visible": true
  },
  "kernelspec": {
   "display_name": "Python 3",
   "language": "python",
   "name": "python3"
  },
  "language_info": {
   "codemirror_mode": {
    "name": "ipython",
    "version": 3
   },
   "file_extension": ".py",
   "mimetype": "text/x-python",
   "name": "python",
   "nbconvert_exporter": "python",
   "pygments_lexer": "ipython3",
   "version": "3.7.4"
  }
 },
 "nbformat": 4,
 "nbformat_minor": 1
}
