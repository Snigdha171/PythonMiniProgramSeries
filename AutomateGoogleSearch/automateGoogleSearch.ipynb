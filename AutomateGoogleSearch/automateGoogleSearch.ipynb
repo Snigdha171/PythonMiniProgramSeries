{
 "cells": [
  {
   "cell_type": "markdown",
   "metadata": {},
   "source": [
    "#  Mini Program - googleSearch using Python\n",
    "## Objective - \n",
    "### This program takes the keyword as input from the user and uses Google to search the content. It then parses the html page and displays the content of the  'knowledge Panel'"
   ]
  },
  {
   "cell_type": "markdown",
   "metadata": {},
   "source": [
    "###  Step 1 - Import required libraries\n",
    "#### Libraries are the modules that are available in Python to help programmer perform specific operations. \n",
    "#### In this program, we are making use 3 libraries \n",
    "#### 1. requests - This is an Apache2 licensed HTTP library. It helps to make http request simpler and user friendly\n",
    "#### 2. BeautifulSoup - This is a part of bs4 package and it helps to pull the data easily from html/xml tags\n",
    "#### 3. InsecureRequestWarning - This is used to suppress the warning arising due to unverified https request"
   ]
  },
  {
   "cell_type": "code",
   "execution_count": 1,
   "metadata": {},
   "outputs": [],
   "source": [
    "#importing libraries\n",
    "import requests\n",
    "from bs4 import BeautifulSoup\n",
    "from requests.packages.urllib3.exceptions import InsecureRequestWarning\n",
    "requests.packages.urllib3.disable_warnings(InsecureRequestWarning) #This disables the warning arising due to unverified https request"
   ]
  },
  {
   "cell_type": "markdown",
   "metadata": {},
   "source": [
    "###  Step 2 - Take input from the user\n",
    "#### Writing an interactive code is an important part of a program. \n",
    "#### In Line 1 - We will ask the user to enter the keyword to be searched instead of hardcoding it\n",
    "#### In Line 2 - We convert the character space entered by the user into it's ASCII code\n",
    "#### In Line 3 - We create the google search query string using the input given by the user\n",
    "#### In Line 4 - We are printing to see if the query string is in proper format. Printing helps in debugging the code"
   ]
  },
  {
   "cell_type": "code",
   "execution_count": 2,
   "metadata": {},
   "outputs": [
    {
     "name": "stdout",
     "output_type": "stream",
     "text": [
      "Enter the word to be searched : Chennai Super Kings\n",
      "https://www.google.com/search?q=Chennai%20Super%20Kings\n"
     ]
    }
   ],
   "source": [
    "query_word = input(\"Enter the word to be searched : \")\n",
    "query_word = query_word.replace(\" \",\"%20\")\n",
    "query_string = 'https://www.google.com/search?q=' + str(query_word) #str function is used to conver any type of input entered by the user to string type\n",
    "print(query_string)"
   ]
  },
  {
   "cell_type": "markdown",
   "metadata": {},
   "source": [
    "### Step 3 - Making HTTP request and storing the response\n",
    "#### In Line 1 - We are making HTTP request for the url created above and storing response in a variable"
   ]
  },
  {
   "cell_type": "code",
   "execution_count": 3,
   "metadata": {},
   "outputs": [],
   "source": [
    "response = requests.request(\"GET\", query_string, verify = False)"
   ]
  },
  {
   "cell_type": "markdown",
   "metadata": {},
   "source": [
    "### Additional Info - If you are running this code in a proxy network, you have to setup the proxy before making the HTTP request\n",
    "#### Enter the proxy details in http_proxy and https_proxy\n",
    "#### Comment the code above this markdown and uncomment the 4 line codes below this markdown"
   ]
  },
  {
   "cell_type": "code",
   "execution_count": 56,
   "metadata": {
    "collapsed": true
   },
   "outputs": [],
   "source": [
    "#http_proxy = \"http://xxx.xxx.xx.xx:yy\"\n",
    "#https_proxy = \"https://xxx.xxx.xx.xx:yy\"\n",
    "#proxyDict = { \"http\" : http_proxy, \"https\" : https_proxy }\n",
    "#response = requests.request(\"GET\", query_string, proxies=proxyDict,verify = False)"
   ]
  },
  {
   "cell_type": "markdown",
   "metadata": {},
   "source": [
    "### Step 4 - Using BeautifulSoup to parse through the web response\n",
    "#### In Line 1 - We will convert the text response into proper html format that can be parsed\n",
    "#### In Line 2 - We will find the text inside div tag which is defined by class - mraOPb. \n",
    "##### This class contains the description of the keyword present in the knowledge pane\n",
    "#####  Some query searches will not yield result in Knowledge Pane. We will handle it by getting the first link output as response\n",
    "#### In Line 3 - We are storing the text extracted from step 2 into a variable\n",
    "#### In Line 4 - We are printing the result"
   ]
  },
  {
   "cell_type": "code",
   "execution_count": 4,
   "metadata": {},
   "outputs": [
    {
     "name": "stdout",
     "output_type": "stream",
     "text": [
      "The Chennai Super Kings is an Indian franchise cricket team based in Chennai, Tamil Nadu, which plays in the Indian Premier League. Founded in 2008, the team plays its home matches at the M. A. Chidambaram Stadium in Chennai. Wikipedia\n"
     ]
    }
   ],
   "source": [
    "soup = BeautifulSoup(response.text,'html.parser')\n",
    "desc = soup.find('div',attrs={'class':'mraOPb'}) #find function is used to extract the text in the required div tag\n",
    "if desc is not None:\n",
    "    desc_text = desc.text.strip() #desc.text stores the text reqtured from above extract. strip() function is used to remove leading and trailing the spaces\n",
    "    print(desc_text)\n",
    "else:\n",
    "    desc1 = soup.find('span',attrs={'class':'st'})\n",
    "    print(desc1.text.strip())"
   ]
  },
  {
   "cell_type": "code",
   "execution_count": null,
   "metadata": {},
   "outputs": [],
   "source": []
  }
 ],
 "metadata": {
  "anaconda-cloud": {},
  "kernelspec": {
   "display_name": "Python 3",
   "language": "python",
   "name": "python3"
  },
  "language_info": {
   "codemirror_mode": {
    "name": "ipython",
    "version": 3
   },
   "file_extension": ".py",
   "mimetype": "text/x-python",
   "name": "python",
   "nbconvert_exporter": "python",
   "pygments_lexer": "ipython3",
   "version": "3.6.5"
  }
 },
 "nbformat": 4,
 "nbformat_minor": 2
}
