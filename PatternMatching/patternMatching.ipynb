{
 "cells": [
  {
   "cell_type": "markdown",
   "metadata": {},
   "source": [
    "# Mini Program - Pattern finding using Python\n",
    "\n",
    "### Objective -\n",
    "\n",
    "#### 1.This program takes a word which the user wants to search and a file as input from the user - sample_input.txt\n",
    "\n",
    "#### 2.The input file has text written in them\n",
    "\n",
    "#### 3.The program uses regular expression (regex) to search the word in the file and creates a sample_output.txt file with searched word highlighted"
   ]
  },
  {
   "cell_type": "markdown",
   "metadata": {},
   "source": [
    "### Step 1 - Import Required Libraries\n",
    "\n",
    "#### Libraries are the modules that are available in Python to help programmer perform specific operations.\n",
    "\n",
    "#### In this program, we are making use 1 library\n",
    "\n",
    "#### re - This module provides regular expression matching operations similar to those found in Perl. Both patterns and strings to be searched can be Unicode strings as well as 8-bit strings"
   ]
  },
  {
   "cell_type": "code",
   "execution_count": 3,
   "metadata": {},
   "outputs": [],
   "source": [
    "import re"
   ]
  },
  {
   "cell_type": "markdown",
   "metadata": {},
   "source": [
    "# Step 2 - Read the input query word and input file \n",
    "\n",
    "In Line 1 - The user enters the word to be searched (query word)\n",
    "\n",
    "In Line 2 - Open the sample_input.txt file in read mode and read the lines\n",
    "\n",
    "In Line 3 - Close the file"
   ]
  },
  {
   "cell_type": "code",
   "execution_count": 1,
   "metadata": {},
   "outputs": [
    {
     "name": "stdout",
     "output_type": "stream",
     "text": [
      "Enter the word to be searched : python\n",
      "I code in python. Python is awesome!! P y t h o n..\n",
      "Coding is fun. Isn't it?\n"
     ]
    }
   ],
   "source": [
    "query_word = input(\"Enter the word to be searched : \")\n",
    "file_open = open('sample_input.txt', \"r+\")\n",
    "read_lines = file_open.read()\n",
    "file_open.close()\n",
    "print(read_lines)"
   ]
  },
  {
   "cell_type": "markdown",
   "metadata": {},
   "source": [
    "### Step 3 - Search the query word in the file and generate a sample_output.txt file with query words highlighted\n",
    "\n",
    "#### In Line 1 - Use the search function of re package to search the word in the string - The search function searches the first occurence of RE pattern within string with optional flags. Here the optional flag re.I is used which performs case insensitive matching\n",
    "\n",
    "#### In Line 2 - If the query word is not present in the input file,then a NoneType object is created and a suitable message is returned to the user on the console.\n",
    "\n",
    "#### In Line 3 - If the query word is present in the input file,then a sample_output.txt file is created from where the user is running the python code. The query word found is then highlighted using * character on both ends of the word\n",
    "\n",
    "#### Note: Since it is a case insensitive search, the lower function is used convert the file to standard case and then highligh the query string"
   ]
  },
  {
   "cell_type": "code",
   "execution_count": 4,
   "metadata": {},
   "outputs": [],
   "source": [
    "obj = re.search(query_word, read_lines, re.I)\n",
    "if None is obj:\n",
    "    print(\"{} is not found in the input file\".format(query_word))\n",
    "else:\n",
    "    with open('sample_output.txt', mode='w') as f:\n",
    "        f.truncate(0)\n",
    "        f.write(read_lines.lower().replace(query_word, '*{}*'.format(query_word)))\n",
    "        f.close()"
   ]
  },
  {
   "cell_type": "code",
   "execution_count": null,
   "metadata": {
    "collapsed": true
   },
   "outputs": [],
   "source": []
  }
 ],
 "metadata": {
  "anaconda-cloud": {},
  "kernelspec": {
   "display_name": "Python 3",
   "language": "python",
   "name": "python3"
  },
  "language_info": {
   "codemirror_mode": {
    "name": "ipython",
    "version": 3
   },
   "file_extension": ".py",
   "mimetype": "text/x-python",
   "name": "python",
   "nbconvert_exporter": "python",
   "pygments_lexer": "ipython3",
   "version": "3.6.5"
  }
 },
 "nbformat": 4,
 "nbformat_minor": 1
}
