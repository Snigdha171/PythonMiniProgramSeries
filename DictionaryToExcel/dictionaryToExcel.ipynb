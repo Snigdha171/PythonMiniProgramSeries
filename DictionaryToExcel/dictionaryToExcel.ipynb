{
 "cells": [
  {
   "cell_type": "markdown",
   "metadata": {
    "collapsed": false
   },
   "source": [
    "# Mini Program - writeDictinaryElementsToExcel using Python\n",
    "## Objective - \n",
    "### This program writes the dictinary elements into Excel file"
   ]
  },
  {
   "cell_type": "markdown",
   "metadata": {},
   "source": [
    "### Step 1 - Import required libraries\n",
    "#### Libraries are the modules that are available in Python to help programmer perform specific operations.\n",
    "#### In this program, we are making use 1 library\n",
    "#### openpyxl - The openpyxl module allows Python program to read and modify Excel files"
   ]
  },
  {
   "cell_type": "code",
   "execution_count": 1,
   "metadata": {
    "collapsed": true
   },
   "outputs": [],
   "source": [
    "import openpyxl"
   ]
  },
  {
   "cell_type": "markdown",
   "metadata": {},
   "source": [
    "### Step 2 - Create a dictionary and assign values to it"
   ]
  },
  {
   "cell_type": "code",
   "execution_count": 2,
   "metadata": {
    "collapsed": false
   },
   "outputs": [],
   "source": [
    "test_dict = {\"Test1\":1, \"Test2\":2, \"Test3\":3 }"
   ]
  },
  {
   "cell_type": "markdown",
   "metadata": {},
   "source": [
    "### Step 3 - Use openpyxl module to create a workbook and an active sheet\n",
    "#### In Line 1 - We use Workbook() function in the module to create a workbook\n",
    "#### In Line 2 - We use active function to make a work sheet active within the workbook"
   ]
  },
  {
   "cell_type": "code",
   "execution_count": 3,
   "metadata": {
    "collapsed": false
   },
   "outputs": [],
   "source": [
    "work_book = openpyxl.Workbook()\n",
    "active_sheet = work_book.active "
   ]
  },
  {
   "cell_type": "markdown",
   "metadata": {},
   "source": [
    "### Step 4 - Writing a logic for entering the values in cell\n",
    "#### We will start filling in the cell values as 'A1', 'B1', 'A2', 'B2' and so on based on the key value pairs in the dictionary \n",
    "#### In Line 1 - We initialize row number as 1\n",
    "#### In Line 2 - We initialize column number as 1\n",
    "#### In Line 3 - We iterate the key, value pair in the dictionary\n",
    "#### In Line 4 - Each key, value pair will occupy a single row in the excel sheet. So, the row number will remain the same and column number will increase by 1 for each iteration"
   ]
  },
  {
   "cell_type": "code",
   "execution_count": 4,
   "metadata": {
    "collapsed": false
   },
   "outputs": [],
   "source": [
    "row_num=1\n",
    "col_num=1\n",
    "for key,val in test_dict.items():\n",
    "    c1 = active_sheet.cell(row = row_num, column = col_num) \n",
    "    c1.value = key\n",
    "    c2 = active_sheet.cell(row = row_num, column = col_num+1) \n",
    "    c2.value = val\n",
    "    row_num = row_num+1"
   ]
  },
  {
   "cell_type": "markdown",
   "metadata": {},
   "source": [
    "### Step 5 - Saving the workbook with a name"
   ]
  },
  {
   "cell_type": "code",
   "execution_count": 5,
   "metadata": {
    "collapsed": true
   },
   "outputs": [],
   "source": [
    "work_book.save(\"test.xlsx\") "
   ]
  },
  {
   "cell_type": "code",
   "execution_count": null,
   "metadata": {
    "collapsed": true
   },
   "outputs": [],
   "source": []
  }
 ],
 "metadata": {
  "anaconda-cloud": {},
  "kernelspec": {
   "display_name": "Python [conda env:Anaconda]",
   "language": "python",
   "name": "conda-env-Anaconda-py"
  },
  "language_info": {
   "codemirror_mode": {
    "name": "ipython",
    "version": 3
   },
   "file_extension": ".py",
   "mimetype": "text/x-python",
   "name": "python",
   "nbconvert_exporter": "python",
   "pygments_lexer": "ipython3",
   "version": "3.5.6"
  }
 },
 "nbformat": 4,
 "nbformat_minor": 1
}
